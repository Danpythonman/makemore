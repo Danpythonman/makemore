{
 "cells": [
  {
   "cell_type": "code",
   "execution_count": 34,
   "id": "92672023",
   "metadata": {},
   "outputs": [],
   "source": [
    "import math\n",
    "from pprint import pprint\n",
    "import random\n",
    "\n",
    "import matplotlib.pyplot as plt\n",
    "import torch\n",
    "import torch.nn.functional as F\n",
    "\n",
    "random.seed(42)\n",
    "\n",
    "%matplotlib inline"
   ]
  },
  {
   "cell_type": "code",
   "execution_count": 35,
   "id": "ecdaf4f5",
   "metadata": {},
   "outputs": [
    {
     "name": "stdout",
     "output_type": "stream",
     "text": [
      "Using CUDA\n"
     ]
    }
   ],
   "source": [
    "if torch.cuda.is_available():\n",
    "    device = torch.device('cuda')\n",
    "    print('Using CUDA')\n",
    "else:\n",
    "    device = torch.device('cpu')\n",
    "    print('Using CPU')\n",
    "# device = torch.device('cpu')"
   ]
  },
  {
   "cell_type": "code",
   "execution_count": 36,
   "id": "8a735fb5",
   "metadata": {},
   "outputs": [],
   "source": [
    "words = open('names.txt', 'r').read().splitlines()"
   ]
  },
  {
   "cell_type": "code",
   "execution_count": 37,
   "id": "080e0066",
   "metadata": {},
   "outputs": [],
   "source": [
    "chars = sorted(list(set(str().join(words))))\n",
    "stoi = {s: i+1 for i, s in enumerate(chars)}\n",
    "stoi['.'] = 0\n",
    "itos = {i: s for s, i in stoi.items()}"
   ]
  },
  {
   "cell_type": "code",
   "execution_count": 38,
   "id": "e515e968",
   "metadata": {},
   "outputs": [],
   "source": [
    "CHARACTERS_SIZE = len(itos)\n",
    "BLOCK_SIZE = 5\n",
    "EMBEDDING_SIZE = 15\n",
    "HIDDEN_LAYER_SIZE = 300\n",
    "BLOCK_EMBEDDING_SIZE = BLOCK_SIZE * EMBEDDING_SIZE\n",
    "BATCH_SIZE = 1000\n",
    "NUMBER_OF_ITERATIONS = 30_000\n",
    "LEARNING_RATE = 1\n",
    "DECAYED_LEARNING_RATE = 0.01"
   ]
  },
  {
   "cell_type": "code",
   "execution_count": 39,
   "id": "726b1663",
   "metadata": {},
   "outputs": [],
   "source": [
    "def build_dataset(words, block_size):\n",
    "    X_data, Y_data = [], []\n",
    "    for word in words:\n",
    "        context = [0 for _ in range(block_size)]\n",
    "        for ch in word + '.':\n",
    "            ix = stoi[ch]\n",
    "\n",
    "            X_data.append(context)\n",
    "            Y_data.append(ix)\n",
    "\n",
    "            context = context[1:] + [ix]\n",
    "\n",
    "    X = torch.tensor(X_data, device=device)\n",
    "    Y = torch.tensor(Y_data, device=device)\n",
    "    return X, Y"
   ]
  },
  {
   "cell_type": "code",
   "execution_count": 40,
   "id": "95a7f5a2",
   "metadata": {},
   "outputs": [],
   "source": [
    "random.shuffle(words)\n",
    "\n",
    "n1 = int(0.8 * len(words))\n",
    "n2 = int(0.9 * len(words))\n",
    "\n",
    "X_tr, Y_tr = build_dataset(words[:n1], BLOCK_SIZE)\n",
    "X_dev, Y_dev = build_dataset(words[n1:n2], BLOCK_SIZE)\n",
    "X_te, Y_te = build_dataset(words[n1:], BLOCK_SIZE)\n",
    "\n",
    "X_tr = X_tr.to(device)\n",
    "Y_tr = Y_tr.to(device)\n",
    "X_dev = X_dev.to(device)\n",
    "Y_dev = Y_dev.to(device)\n",
    "X_te = X_te.to(device)\n",
    "Y_te = Y_te.to(device)"
   ]
  },
  {
   "cell_type": "code",
   "execution_count": 41,
   "id": "814226e0",
   "metadata": {},
   "outputs": [
    {
     "name": "stdout",
     "output_type": "stream",
     "text": [
      "Number of parameters: 31332\n",
      "Iteration: 0, loss: 34.6125\n",
      "Iteration: 1000, loss: 8.4010\n",
      "Iteration: 2000, loss: 7.2904\n",
      "Iteration: 3000, loss: 6.2258\n",
      "Iteration: 4000, loss: 3.7315\n",
      "Iteration: 5000, loss: 3.4701\n",
      "Iteration: 6000, loss: 3.3460\n",
      "Iteration: 7000, loss: 2.6452\n",
      "Iteration: 8000, loss: 2.6507\n",
      "Iteration: 9000, loss: 2.6758\n",
      "Iteration: 10000, loss: 2.7409\n",
      "Iteration: 11000, loss: 2.2951\n",
      "Iteration: 12000, loss: 2.3442\n",
      "Iteration: 13000, loss: 2.5422\n",
      "Iteration: 14000, loss: 2.2609\n",
      "Iteration: 15000, loss: 2.2556\n",
      "Iteration: 16000, loss: 1.9796\n",
      "Iteration: 17000, loss: 1.9593\n",
      "Iteration: 18000, loss: 1.9788\n",
      "Iteration: 19000, loss: 1.9415\n",
      "Iteration: 20000, loss: 1.9475\n",
      "Iteration: 21000, loss: 1.9516\n",
      "Iteration: 22000, loss: 1.9655\n",
      "Iteration: 23000, loss: 1.9702\n",
      "Iteration: 24000, loss: 1.9346\n",
      "Iteration: 25000, loss: 1.9618\n",
      "Iteration: 26000, loss: 1.9035\n",
      "Iteration: 27000, loss: 1.9634\n",
      "Iteration: 28000, loss: 1.8850\n",
      "Iteration: 29000, loss: 1.9772\n"
     ]
    }
   ],
   "source": [
    "# Parameters\n",
    "g = torch.Generator(device=device).manual_seed(2147483647)\n",
    "C = torch.randn((CHARACTERS_SIZE, EMBEDDING_SIZE), generator=g, device=device)\n",
    "W1 = torch.randn((BLOCK_EMBEDDING_SIZE, HIDDEN_LAYER_SIZE), generator=g, device=device)\n",
    "b1 = torch.randn(HIDDEN_LAYER_SIZE, generator=g, device=device)\n",
    "W2 = torch.randn((HIDDEN_LAYER_SIZE, CHARACTERS_SIZE), generator=g, device=device)\n",
    "b2 = torch.randn(CHARACTERS_SIZE, generator=g, device=device)\n",
    "\n",
    "parameters = [C, W1, b1, W2, b2]\n",
    "for p in parameters:\n",
    "    p.requires_grad = True\n",
    "print(f'Number of parameters: {sum(p.nelement() for p in parameters)}')\n",
    "\n",
    "lossi = []\n",
    "\n",
    "for k in range(NUMBER_OF_ITERATIONS):\n",
    "    # Batch\n",
    "    batch_ix = torch.randint(0, X_tr.shape[0], (BATCH_SIZE,), device=device)\n",
    "\n",
    "    # Forward pass\n",
    "    emb = C[X_tr[batch_ix]]\n",
    "    h = torch.tanh(emb.view(-1, BLOCK_EMBEDDING_SIZE) @ W1 + b1)\n",
    "    logits = h @ W2 + b2\n",
    "    loss = F.cross_entropy(logits, Y_tr[batch_ix])\n",
    "\n",
    "    # lossi.append(loss.item())\n",
    "\n",
    "    if k % 1000 == 0:\n",
    "        print(f'Iteration: {k}, loss: {loss.item():.4f}')\n",
    "\n",
    "    # Backward pass\n",
    "    for p in parameters:\n",
    "        p.grad = None\n",
    "\n",
    "    loss.backward()\n",
    "\n",
    "    # Update parameters\n",
    "    lr = LEARNING_RATE if k < NUMBER_OF_ITERATIONS / 2 else DECAYED_LEARNING_RATE\n",
    "    for p in parameters:\n",
    "        p.data += -lr * p.grad"
   ]
  },
  {
   "cell_type": "code",
   "execution_count": 42,
   "id": "c76667a2",
   "metadata": {},
   "outputs": [
    {
     "name": "stdout",
     "output_type": "stream",
     "text": [
      "Training set loss: 1.9556\n",
      "Development set loss: 2.0936\n"
     ]
    }
   ],
   "source": [
    "emb = C[X_tr]\n",
    "h = torch.tanh(emb.view(-1, BLOCK_EMBEDDING_SIZE) @ W1 + b1)\n",
    "logits = h @ W2 + b2\n",
    "loss = F.cross_entropy(logits, Y_tr)\n",
    "print(f'Training set loss: {loss:.4f}')\n",
    "emb = C[X_dev]\n",
    "h = torch.tanh(emb.view(-1, BLOCK_EMBEDDING_SIZE) @ W1 + b1)\n",
    "logits = h @ W2 + b2\n",
    "loss = F.cross_entropy(logits, Y_dev)\n",
    "print(f'Development set loss: {loss:.4f}')"
   ]
  },
  {
   "cell_type": "code",
   "execution_count": 43,
   "id": "a65e8240",
   "metadata": {},
   "outputs": [
    {
     "data": {
      "text/plain": [
       "Text(0, 0.5, 'Loss')"
      ]
     },
     "execution_count": 43,
     "metadata": {},
     "output_type": "execute_result"
    },
    {
     "data": {
      "image/png": "[encoded data removed]",
      "text/plain": [
       "<Figure size 640x480 with 1 Axes>"
      ]
     },
     "metadata": {},
     "output_type": "display_data"
    }
   ],
   "source": [
    "plt.figure()\n",
    "plt.plot([math.log10(l) for l in lossi])\n",
    "plt.title('Loss Over the Model\\'s Training')\n",
    "plt.xlabel('Iteration')\n",
    "plt.ylabel('Loss')"
   ]
  },
  {
   "cell_type": "code",
   "execution_count": 44,
   "id": "a1a25a61",
   "metadata": {},
   "outputs": [
    {
     "name": "stdout",
     "output_type": "stream",
     "text": [
      "kheden.\n",
      "wyland.\n",
      "yulanoma.\n",
      "analiah.\n",
      "shyamar.\n",
      "oluwaf.\n",
      "gurnimier.\n",
      "zay.\n",
      "ermald.\n",
      "candilynn.\n",
      "evey.\n",
      "khyas.\n",
      "haydein.\n",
      "sheloext.\n",
      "tette.\n",
      "sanish.\n",
      "malya.\n",
      "avauyanna.\n",
      "jayset.\n",
      "kailon.\n"
     ]
    }
   ],
   "source": [
    "g = torch.Generator(device=device).manual_seed(2147483647)\n",
    "for _ in range(20):\n",
    "    out = []\n",
    "    context = [0 for _ in range(BLOCK_SIZE)]\n",
    "    while True:\n",
    "        emb = C[torch.tensor([context], device=device)]\n",
    "        h = torch.tanh(emb.view(1, -1) @ W1 + b1)\n",
    "        logits = h @ W2 + b2\n",
    "        probs = F.softmax(logits, dim=1)\n",
    "        ix = torch.multinomial(probs, num_samples=1, generator=g).item()\n",
    "        context = context[1:] + [ix]\n",
    "        out.append(ix)\n",
    "        if ix == 0:\n",
    "            break\n",
    "    print(str().join(itos[i] for i in out))"
   ]
  }
 ],
 "metadata": {
  "kernelspec": {
   "display_name": "ml-env",
   "language": "python",
   "name": "python3"
  },
  "language_info": {
   "codemirror_mode": {
    "name": "ipython",
    "version": 3
   },
   "file_extension": ".py",
   "mimetype": "text/x-python",
   "name": "python",
   "nbconvert_exporter": "python",
   "pygments_lexer": "ipython3",
   "version": "3.13.1"
  }
 },
 "nbformat": 4,
 "nbformat_minor": 5
}
