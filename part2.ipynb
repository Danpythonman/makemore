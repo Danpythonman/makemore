{
 "cells": [
  {
   "cell_type": "code",
   "execution_count": 1,
   "id": "9906e822",
   "metadata": {},
   "outputs": [],
   "source": [
    "import matplotlib.pyplot as plt\n",
    "from pprint import pprint\n",
    "import torch\n",
    "import torch.nn.functional as F\n",
    "\n",
    "%matplotlib inline"
   ]
  },
  {
   "cell_type": "code",
   "execution_count": 2,
   "id": "21bd994c",
   "metadata": {},
   "outputs": [
    {
     "data": {
      "text/plain": [
       "['emma', 'olivia', 'ava', 'isabella', 'sophia', 'charlotte', 'mia', 'amelia']"
      ]
     },
     "execution_count": 2,
     "metadata": {},
     "output_type": "execute_result"
    }
   ],
   "source": [
    "words = open('names.txt', 'r').read().splitlines()\n",
    "words[:8]"
   ]
  },
  {
   "cell_type": "code",
   "execution_count": 3,
   "id": "b913f47c",
   "metadata": {},
   "outputs": [
    {
     "data": {
      "text/plain": [
       "32033"
      ]
     },
     "execution_count": 3,
     "metadata": {},
     "output_type": "execute_result"
    }
   ],
   "source": [
    "len(words)"
   ]
  },
  {
   "cell_type": "code",
   "execution_count": 4,
   "id": "83f9d781",
   "metadata": {},
   "outputs": [
    {
     "name": "stdout",
     "output_type": "stream",
     "text": [
      "{0: '.',\n",
      " 1: 'a',\n",
      " 2: 'b',\n",
      " 3: 'c',\n",
      " 4: 'd',\n",
      " 5: 'e',\n",
      " 6: 'f',\n",
      " 7: 'g',\n",
      " 8: 'h',\n",
      " 9: 'i',\n",
      " 10: 'j',\n",
      " 11: 'k',\n",
      " 12: 'l',\n",
      " 13: 'm',\n",
      " 14: 'n',\n",
      " 15: 'o',\n",
      " 16: 'p',\n",
      " 17: 'q',\n",
      " 18: 'r',\n",
      " 19: 's',\n",
      " 20: 't',\n",
      " 21: 'u',\n",
      " 22: 'v',\n",
      " 23: 'w',\n",
      " 24: 'x',\n",
      " 25: 'y',\n",
      " 26: 'z'}\n"
     ]
    }
   ],
   "source": [
    "chars = sorted(list(set(str().join(words))))\n",
    "stoi = {s: i+1 for i, s in enumerate(chars)}\n",
    "stoi['.'] = 0\n",
    "itos = {i: s for s, i in stoi.items()}\n",
    "pprint(itos)"
   ]
  },
  {
   "cell_type": "code",
   "execution_count": 5,
   "id": "2f57774e",
   "metadata": {},
   "outputs": [
    {
     "name": "stdout",
     "output_type": "stream",
     "text": [
      "Word 0: emma\n",
      "\t... ---> e\n",
      "\t..e ---> m\n",
      "\t.em ---> m\n",
      "\temm ---> a\n",
      "\tmma ---> .\n",
      "Word 1: olivia\n",
      "\t... ---> o\n",
      "\t..o ---> l\n",
      "\t.ol ---> i\n",
      "\toli ---> v\n",
      "\tliv ---> i\n",
      "\tivi ---> a\n",
      "\tvia ---> .\n",
      "Word 2: ava\n",
      "\t... ---> a\n",
      "\t..a ---> v\n",
      "\t.av ---> a\n",
      "\tava ---> .\n",
      "Word 3: isabella\n",
      "\t... ---> i\n",
      "\t..i ---> s\n",
      "\t.is ---> a\n",
      "\tisa ---> b\n",
      "\tsab ---> e\n",
      "\tabe ---> l\n",
      "\tbel ---> l\n",
      "\tell ---> a\n",
      "\tlla ---> .\n",
      "Word 4: sophia\n",
      "\t... ---> s\n",
      "\t..s ---> o\n",
      "\t.so ---> p\n",
      "\tsop ---> h\n",
      "\toph ---> i\n",
      "\tphi ---> a\n",
      "\thia ---> .\n",
      "Number of examples: 32\n"
     ]
    }
   ],
   "source": [
    "BLOCK_SIZE = 3\n",
    "X_data, Y_data = [], []\n",
    "number_of_examples = 0\n",
    "\n",
    "for k, word in enumerate(words[:5]):\n",
    "    print(f'Word {k}: {word}')\n",
    "    context = [0 for _ in range(BLOCK_SIZE)]\n",
    "    for ch in word + '.':\n",
    "        ix = stoi[ch]\n",
    "\n",
    "        X_data.append(context)\n",
    "        Y_data.append(ix)\n",
    "\n",
    "        print(f'\\t{str().join(itos[i] for i in context)} ---> {itos[ix]}')\n",
    "\n",
    "        context = context[1:] + [ix]\n",
    "\n",
    "        number_of_examples += 1\n",
    "\n",
    "X = torch.tensor(X_data)\n",
    "Y = torch.tensor(Y_data)\n",
    "print(f'Number of examples: {number_of_examples}')"
   ]
  },
  {
   "cell_type": "code",
   "execution_count": 6,
   "id": "9a9d2805",
   "metadata": {},
   "outputs": [
    {
     "name": "stdout",
     "output_type": "stream",
     "text": [
      "X.shape=torch.Size([32, 3]), X.dtype=torch.int64, Y.shape=torch.Size([32]), Y.dtype=torch.int64 \n"
     ]
    }
   ],
   "source": [
    "print(f'{X.shape=}, {X.dtype=}, {Y.shape=}, {Y.dtype=} ')"
   ]
  },
  {
   "cell_type": "code",
   "execution_count": 7,
   "id": "a7cb4d7b",
   "metadata": {},
   "outputs": [
    {
     "data": {
      "text/plain": [
       "tensor([[ 0,  0,  0],\n",
       "        [ 0,  0,  5],\n",
       "        [ 0,  5, 13],\n",
       "        [ 5, 13, 13],\n",
       "        [13, 13,  1],\n",
       "        [ 0,  0,  0],\n",
       "        [ 0,  0, 15],\n",
       "        [ 0, 15, 12],\n",
       "        [15, 12,  9],\n",
       "        [12,  9, 22],\n",
       "        [ 9, 22,  9],\n",
       "        [22,  9,  1],\n",
       "        [ 0,  0,  0],\n",
       "        [ 0,  0,  1],\n",
       "        [ 0,  1, 22],\n",
       "        [ 1, 22,  1],\n",
       "        [ 0,  0,  0],\n",
       "        [ 0,  0,  9],\n",
       "        [ 0,  9, 19],\n",
       "        [ 9, 19,  1],\n",
       "        [19,  1,  2],\n",
       "        [ 1,  2,  5],\n",
       "        [ 2,  5, 12],\n",
       "        [ 5, 12, 12],\n",
       "        [12, 12,  1],\n",
       "        [ 0,  0,  0],\n",
       "        [ 0,  0, 19],\n",
       "        [ 0, 19, 15],\n",
       "        [19, 15, 16],\n",
       "        [15, 16,  8],\n",
       "        [16,  8,  9],\n",
       "        [ 8,  9,  1]])"
      ]
     },
     "execution_count": 7,
     "metadata": {},
     "output_type": "execute_result"
    }
   ],
   "source": [
    "X"
   ]
  },
  {
   "cell_type": "code",
   "execution_count": 8,
   "id": "aef644ac",
   "metadata": {},
   "outputs": [
    {
     "data": {
      "text/plain": [
       "tensor([ 5, 13, 13,  1,  0, 15, 12,  9, 22,  9,  1,  0,  1, 22,  1,  0,  9, 19,\n",
       "         1,  2,  5, 12, 12,  1,  0, 19, 15, 16,  8,  9,  1,  0])"
      ]
     },
     "execution_count": 8,
     "metadata": {},
     "output_type": "execute_result"
    }
   ],
   "source": [
    "Y"
   ]
  },
  {
   "cell_type": "code",
   "execution_count": 9,
   "id": "32af6ca0",
   "metadata": {},
   "outputs": [
    {
     "data": {
      "text/plain": [
       "tensor([[0.0346, 0.1787],\n",
       "        [0.3052, 0.3925],\n",
       "        [0.8254, 0.0374],\n",
       "        [0.7601, 0.5619],\n",
       "        [0.5155, 0.4165],\n",
       "        [0.0133, 0.4526],\n",
       "        [0.9665, 0.8718],\n",
       "        [0.1934, 0.1885],\n",
       "        [0.0078, 0.4848],\n",
       "        [0.4139, 0.3038],\n",
       "        [0.6099, 0.6931],\n",
       "        [0.9758, 0.1806],\n",
       "        [0.8307, 0.9311],\n",
       "        [0.3635, 0.8566],\n",
       "        [0.1165, 0.4171],\n",
       "        [0.4254, 0.6861],\n",
       "        [0.6385, 0.9800],\n",
       "        [0.5522, 0.5696],\n",
       "        [0.6032, 0.4673],\n",
       "        [0.5420, 0.0213],\n",
       "        [0.0143, 0.9048],\n",
       "        [0.5675, 0.1697],\n",
       "        [0.5388, 0.6220],\n",
       "        [0.2306, 0.2358],\n",
       "        [0.6349, 0.5524],\n",
       "        [0.6390, 0.2463],\n",
       "        [0.5726, 0.1442]])"
      ]
     },
     "execution_count": 9,
     "metadata": {},
     "output_type": "execute_result"
    }
   ],
   "source": [
    "C = torch.rand((27, 2))\n",
    "C"
   ]
  },
  {
   "cell_type": "code",
   "execution_count": 10,
   "id": "4f14104e",
   "metadata": {},
   "outputs": [
    {
     "data": {
      "image/png": "[encoded data removed]",
      "text/plain": [
       "<Figure size 640x480 with 1 Axes>"
      ]
     },
     "metadata": {},
     "output_type": "display_data"
    }
   ],
   "source": [
    "plt.figure()\n",
    "plt.scatter(C[:, 0].data, C[:, 1].data, s=200)\n",
    "for i in range(C.shape[0]):\n",
    "    plt.text(C[i, 0].item(), C[i, 1].item(), itos[i], ha='center', va='center', color='white')\n",
    "plt.grid()\n",
    "plt.show()"
   ]
  },
  {
   "cell_type": "code",
   "execution_count": 11,
   "id": "7f4d4c57",
   "metadata": {},
   "outputs": [
    {
     "data": {
      "text/plain": [
       "tensor([0.0133, 0.4526])"
      ]
     },
     "execution_count": 11,
     "metadata": {},
     "output_type": "execute_result"
    }
   ],
   "source": [
    "C[5]"
   ]
  },
  {
   "cell_type": "code",
   "execution_count": 12,
   "id": "5488e7ed",
   "metadata": {},
   "outputs": [
    {
     "data": {
      "text/plain": [
       "tensor([0., 0., 0., 0., 0., 1., 0., 0., 0., 0., 0., 0., 0., 0., 0., 0., 0., 0.,\n",
       "        0., 0., 0., 0., 0., 0., 0., 0., 0.])"
      ]
     },
     "execution_count": 12,
     "metadata": {},
     "output_type": "execute_result"
    }
   ],
   "source": [
    "F.one_hot(torch.tensor(5), num_classes=27).float()"
   ]
  },
  {
   "cell_type": "code",
   "execution_count": 13,
   "id": "3ac42aff",
   "metadata": {},
   "outputs": [
    {
     "data": {
      "text/plain": [
       "tensor([0.0133, 0.4526])"
      ]
     },
     "execution_count": 13,
     "metadata": {},
     "output_type": "execute_result"
    }
   ],
   "source": [
    "# Same as C[5]\n",
    "F.one_hot(torch.tensor(5), num_classes=27).float() @ C"
   ]
  },
  {
   "cell_type": "code",
   "execution_count": 14,
   "id": "fab59b38",
   "metadata": {},
   "outputs": [
    {
     "data": {
      "text/plain": [
       "torch.Size([27, 2])"
      ]
     },
     "execution_count": 14,
     "metadata": {},
     "output_type": "execute_result"
    }
   ],
   "source": [
    "C.shape"
   ]
  },
  {
   "cell_type": "code",
   "execution_count": 15,
   "id": "13c412bd",
   "metadata": {},
   "outputs": [
    {
     "data": {
      "text/plain": [
       "tensor([[[0.0346, 0.1787],\n",
       "         [0.0346, 0.1787],\n",
       "         [0.0346, 0.1787]],\n",
       "\n",
       "        [[0.0346, 0.1787],\n",
       "         [0.0346, 0.1787],\n",
       "         [0.0133, 0.4526]],\n",
       "\n",
       "        [[0.0346, 0.1787],\n",
       "         [0.0133, 0.4526],\n",
       "         [0.3635, 0.8566]],\n",
       "\n",
       "        [[0.0133, 0.4526],\n",
       "         [0.3635, 0.8566],\n",
       "         [0.3635, 0.8566]],\n",
       "\n",
       "        [[0.3635, 0.8566],\n",
       "         [0.3635, 0.8566],\n",
       "         [0.3052, 0.3925]],\n",
       "\n",
       "        [[0.0346, 0.1787],\n",
       "         [0.0346, 0.1787],\n",
       "         [0.0346, 0.1787]],\n",
       "\n",
       "        [[0.0346, 0.1787],\n",
       "         [0.0346, 0.1787],\n",
       "         [0.4254, 0.6861]],\n",
       "\n",
       "        [[0.0346, 0.1787],\n",
       "         [0.4254, 0.6861],\n",
       "         [0.8307, 0.9311]],\n",
       "\n",
       "        [[0.4254, 0.6861],\n",
       "         [0.8307, 0.9311],\n",
       "         [0.4139, 0.3038]],\n",
       "\n",
       "        [[0.8307, 0.9311],\n",
       "         [0.4139, 0.3038],\n",
       "         [0.5388, 0.6220]],\n",
       "\n",
       "        [[0.4139, 0.3038],\n",
       "         [0.5388, 0.6220],\n",
       "         [0.4139, 0.3038]],\n",
       "\n",
       "        [[0.5388, 0.6220],\n",
       "         [0.4139, 0.3038],\n",
       "         [0.3052, 0.3925]],\n",
       "\n",
       "        [[0.0346, 0.1787],\n",
       "         [0.0346, 0.1787],\n",
       "         [0.0346, 0.1787]],\n",
       "\n",
       "        [[0.0346, 0.1787],\n",
       "         [0.0346, 0.1787],\n",
       "         [0.3052, 0.3925]],\n",
       "\n",
       "        [[0.0346, 0.1787],\n",
       "         [0.3052, 0.3925],\n",
       "         [0.5388, 0.6220]],\n",
       "\n",
       "        [[0.3052, 0.3925],\n",
       "         [0.5388, 0.6220],\n",
       "         [0.3052, 0.3925]],\n",
       "\n",
       "        [[0.0346, 0.1787],\n",
       "         [0.0346, 0.1787],\n",
       "         [0.0346, 0.1787]],\n",
       "\n",
       "        [[0.0346, 0.1787],\n",
       "         [0.0346, 0.1787],\n",
       "         [0.4139, 0.3038]],\n",
       "\n",
       "        [[0.0346, 0.1787],\n",
       "         [0.4139, 0.3038],\n",
       "         [0.5420, 0.0213]],\n",
       "\n",
       "        [[0.4139, 0.3038],\n",
       "         [0.5420, 0.0213],\n",
       "         [0.3052, 0.3925]],\n",
       "\n",
       "        [[0.5420, 0.0213],\n",
       "         [0.3052, 0.3925],\n",
       "         [0.8254, 0.0374]],\n",
       "\n",
       "        [[0.3052, 0.3925],\n",
       "         [0.8254, 0.0374],\n",
       "         [0.0133, 0.4526]],\n",
       "\n",
       "        [[0.8254, 0.0374],\n",
       "         [0.0133, 0.4526],\n",
       "         [0.8307, 0.9311]],\n",
       "\n",
       "        [[0.0133, 0.4526],\n",
       "         [0.8307, 0.9311],\n",
       "         [0.8307, 0.9311]],\n",
       "\n",
       "        [[0.8307, 0.9311],\n",
       "         [0.8307, 0.9311],\n",
       "         [0.3052, 0.3925]],\n",
       "\n",
       "        [[0.0346, 0.1787],\n",
       "         [0.0346, 0.1787],\n",
       "         [0.0346, 0.1787]],\n",
       "\n",
       "        [[0.0346, 0.1787],\n",
       "         [0.0346, 0.1787],\n",
       "         [0.5420, 0.0213]],\n",
       "\n",
       "        [[0.0346, 0.1787],\n",
       "         [0.5420, 0.0213],\n",
       "         [0.4254, 0.6861]],\n",
       "\n",
       "        [[0.5420, 0.0213],\n",
       "         [0.4254, 0.6861],\n",
       "         [0.6385, 0.9800]],\n",
       "\n",
       "        [[0.4254, 0.6861],\n",
       "         [0.6385, 0.9800],\n",
       "         [0.0078, 0.4848]],\n",
       "\n",
       "        [[0.6385, 0.9800],\n",
       "         [0.0078, 0.4848],\n",
       "         [0.4139, 0.3038]],\n",
       "\n",
       "        [[0.0078, 0.4848],\n",
       "         [0.4139, 0.3038],\n",
       "         [0.3052, 0.3925]]])"
      ]
     },
     "execution_count": 15,
     "metadata": {},
     "output_type": "execute_result"
    }
   ],
   "source": [
    "C[X]"
   ]
  },
  {
   "cell_type": "code",
   "execution_count": 16,
   "id": "b61e606f",
   "metadata": {},
   "outputs": [
    {
     "name": "stdout",
     "output_type": "stream",
     "text": [
      "C.shape=torch.Size([27, 2]), X.shape=torch.Size([32, 3]), C[X].shape=torch.Size([32, 3, 2])\n"
     ]
    }
   ],
   "source": [
    "print(f'{C.shape=}, {X.shape=}, {C[X].shape=}')"
   ]
  },
  {
   "cell_type": "code",
   "execution_count": 17,
   "id": "742d5a4d",
   "metadata": {},
   "outputs": [
    {
     "data": {
      "text/plain": [
       "tensor(1)"
      ]
     },
     "execution_count": 17,
     "metadata": {},
     "output_type": "execute_result"
    }
   ],
   "source": [
    "X[13, 2]"
   ]
  },
  {
   "cell_type": "code",
   "execution_count": 18,
   "id": "fb446dbb",
   "metadata": {},
   "outputs": [
    {
     "data": {
      "text/plain": [
       "tensor([0.3052, 0.3925])"
      ]
     },
     "execution_count": 18,
     "metadata": {},
     "output_type": "execute_result"
    }
   ],
   "source": [
    "C[X][13, 2]"
   ]
  },
  {
   "cell_type": "code",
   "execution_count": 19,
   "id": "5e20b892",
   "metadata": {},
   "outputs": [
    {
     "data": {
      "text/plain": [
       "tensor([0.3052, 0.3925])"
      ]
     },
     "execution_count": 19,
     "metadata": {},
     "output_type": "execute_result"
    }
   ],
   "source": [
    "C[1]"
   ]
  },
  {
   "cell_type": "code",
   "execution_count": 20,
   "id": "efbe189c",
   "metadata": {},
   "outputs": [
    {
     "data": {
      "text/plain": [
       "torch.Size([32, 3, 2])"
      ]
     },
     "execution_count": 20,
     "metadata": {},
     "output_type": "execute_result"
    }
   ],
   "source": [
    "# Embedding\n",
    "emb = C[X]\n",
    "emb.shape"
   ]
  },
  {
   "cell_type": "code",
   "execution_count": 21,
   "id": "4199b324",
   "metadata": {},
   "outputs": [],
   "source": [
    "# Hidden layer weights and biases.\n",
    "# 6 rows corresponds to\n",
    "#     (3 columns of X) * (2 columns of C) = 6 columns\n",
    "W1 = torch.randn((6, 100))\n",
    "b1 = torch.randn(100)"
   ]
  },
  {
   "cell_type": "code",
   "execution_count": 22,
   "id": "d5046b3c",
   "metadata": {},
   "outputs": [
    {
     "data": {
      "text/plain": [
       "torch.Size([32, 6])"
      ]
     },
     "execution_count": 22,
     "metadata": {},
     "output_type": "execute_result"
    }
   ],
   "source": [
    "# To transform emb to a 32x6 tensor, we can use torch.cat to concatenate along\n",
    "# dimension 1, which concatenates three 32x2 tensors together along dimension 1,\n",
    "# producing a 32x6 tensor:\n",
    "torch.cat([emb[:, 0, :], emb[:, 1, :], emb[:, 2, :]], 1).shape"
   ]
  },
  {
   "cell_type": "code",
   "execution_count": 23,
   "id": "46f1cd32",
   "metadata": {},
   "outputs": [
    {
     "data": {
      "text/plain": [
       "3"
      ]
     },
     "execution_count": 23,
     "metadata": {},
     "output_type": "execute_result"
    }
   ],
   "source": [
    "# Note that we can get [emb[:, 0, :], emb[:, 1, :], emb[:, 2, :]] by using\n",
    "# torch.unbind to get a list of tensors across dimension 1:\n",
    "len(torch.unbind(emb, 1))"
   ]
  },
  {
   "cell_type": "code",
   "execution_count": 24,
   "id": "b4ca2eb2",
   "metadata": {},
   "outputs": [
    {
     "data": {
      "text/plain": [
       "torch.Size([32, 6])"
      ]
     },
     "execution_count": 24,
     "metadata": {},
     "output_type": "execute_result"
    }
   ],
   "source": [
    "# Then we can concatenate the list of tensors across dimension 1:\n",
    "torch.cat(torch.unbind(emb, 1), 1).shape"
   ]
  },
  {
   "cell_type": "code",
   "execution_count": 25,
   "id": "7d6a135d",
   "metadata": {},
   "outputs": [
    {
     "data": {
      "text/plain": [
       "torch.Size([32, 6])"
      ]
     },
     "execution_count": 25,
     "metadata": {},
     "output_type": "execute_result"
    }
   ],
   "source": [
    "# We can also use the view method to reshape the tensor (very efficient):\n",
    "emb.view(32, 6).shape"
   ]
  },
  {
   "cell_type": "code",
   "execution_count": 26,
   "id": "b561154a",
   "metadata": {},
   "outputs": [
    {
     "data": {
      "text/plain": [
       "tensor([[True, True, True, True, True, True],\n",
       "        [True, True, True, True, True, True],\n",
       "        [True, True, True, True, True, True],\n",
       "        [True, True, True, True, True, True],\n",
       "        [True, True, True, True, True, True],\n",
       "        [True, True, True, True, True, True],\n",
       "        [True, True, True, True, True, True],\n",
       "        [True, True, True, True, True, True],\n",
       "        [True, True, True, True, True, True],\n",
       "        [True, True, True, True, True, True],\n",
       "        [True, True, True, True, True, True],\n",
       "        [True, True, True, True, True, True],\n",
       "        [True, True, True, True, True, True],\n",
       "        [True, True, True, True, True, True],\n",
       "        [True, True, True, True, True, True],\n",
       "        [True, True, True, True, True, True],\n",
       "        [True, True, True, True, True, True],\n",
       "        [True, True, True, True, True, True],\n",
       "        [True, True, True, True, True, True],\n",
       "        [True, True, True, True, True, True],\n",
       "        [True, True, True, True, True, True],\n",
       "        [True, True, True, True, True, True],\n",
       "        [True, True, True, True, True, True],\n",
       "        [True, True, True, True, True, True],\n",
       "        [True, True, True, True, True, True],\n",
       "        [True, True, True, True, True, True],\n",
       "        [True, True, True, True, True, True],\n",
       "        [True, True, True, True, True, True],\n",
       "        [True, True, True, True, True, True],\n",
       "        [True, True, True, True, True, True],\n",
       "        [True, True, True, True, True, True],\n",
       "        [True, True, True, True, True, True]])"
      ]
     },
     "execution_count": 26,
     "metadata": {},
     "output_type": "execute_result"
    }
   ],
   "source": [
    "# Both methods of producing the 32x6 tensor are equivalent:\n",
    "emb.view(32, 6) == torch.cat(torch.unbind(emb, 1), 1)"
   ]
  },
  {
   "cell_type": "code",
   "execution_count": 27,
   "id": "cd44b514",
   "metadata": {},
   "outputs": [
    {
     "data": {
      "text/plain": [
       "torch.Size([32, 100])"
      ]
     },
     "execution_count": 27,
     "metadata": {},
     "output_type": "execute_result"
    }
   ],
   "source": [
    "# Implementing the hidden later\n",
    "h = emb.view(32, 6) @ W1 + b1\n",
    "h.shape"
   ]
  },
  {
   "cell_type": "code",
   "execution_count": 28,
   "id": "e9e548ac",
   "metadata": {},
   "outputs": [
    {
     "data": {
      "text/plain": [
       "tensor([[ 5.0071e-01,  9.6898e-01,  7.2293e-02,  ..., -4.5206e-01,\n",
       "         -1.3481e-01, -9.4844e-01],\n",
       "        [ 6.6163e-01,  9.7442e-01,  3.4292e-01,  ...,  2.5040e-04,\n",
       "          5.4367e-02, -1.5159e+00],\n",
       "        [ 7.7525e-01,  2.0407e+00,  1.2218e+00,  ...,  5.7908e-01,\n",
       "          1.7784e-01, -2.3581e+00],\n",
       "        ...,\n",
       "        [ 4.2911e-02,  6.1264e-01,  1.5079e+00,  ..., -1.3814e+00,\n",
       "         -9.0853e-01, -4.8810e-01],\n",
       "        [-2.6955e-01,  3.0276e+00,  7.5026e-01,  ..., -1.6085e+00,\n",
       "         -6.6044e-01, -1.2190e+00],\n",
       "        [ 2.5555e-01,  9.9251e-01,  4.7553e-01,  ..., -6.8121e-02,\n",
       "         -6.1484e-01, -1.1961e+00]])"
      ]
     },
     "execution_count": 28,
     "metadata": {},
     "output_type": "execute_result"
    }
   ],
   "source": [
    "h"
   ]
  },
  {
   "cell_type": "code",
   "execution_count": 29,
   "id": "deb0c5b8",
   "metadata": {},
   "outputs": [
    {
     "data": {
      "text/plain": [
       "torch.Size([32, 100])"
      ]
     },
     "execution_count": 29,
     "metadata": {},
     "output_type": "execute_result"
    }
   ],
   "source": [
    "# Same as above but without hard-coding the number of rows in the view\n",
    "h = emb.view(emb.shape[0], 6) @ W1 + b1\n",
    "h.shape"
   ]
  },
  {
   "cell_type": "code",
   "execution_count": 30,
   "id": "485bdce7",
   "metadata": {},
   "outputs": [
    {
     "data": {
      "text/plain": [
       "torch.Size([32, 100])"
      ]
     },
     "execution_count": 30,
     "metadata": {},
     "output_type": "execute_result"
    }
   ],
   "source": [
    "# Same as above but letting PyTorch figure out how many rows should be in the\n",
    "# view\n",
    "h = emb.view(-1, 6) @ W1 + b1\n",
    "h.shape"
   ]
  },
  {
   "cell_type": "code",
   "execution_count": 31,
   "id": "492dec97",
   "metadata": {},
   "outputs": [
    {
     "data": {
      "text/plain": [
       "torch.Size([32, 100])"
      ]
     },
     "execution_count": 31,
     "metadata": {},
     "output_type": "execute_result"
    }
   ],
   "source": [
    "# We can also apply activation function\n",
    "h = torch.tanh(emb.view(-1, 6) @ W1 + b1)\n",
    "h.shape"
   ]
  },
  {
   "cell_type": "code",
   "execution_count": 32,
   "id": "3ff0e8a9",
   "metadata": {},
   "outputs": [],
   "source": [
    "W2 = torch.randn((100, 27))\n",
    "b2 = torch.randn(27)"
   ]
  },
  {
   "cell_type": "code",
   "execution_count": 33,
   "id": "9b445f34",
   "metadata": {},
   "outputs": [
    {
     "data": {
      "text/plain": [
       "torch.Size([32, 27])"
      ]
     },
     "execution_count": 33,
     "metadata": {},
     "output_type": "execute_result"
    }
   ],
   "source": [
    "logits = h @ W2 + b2\n",
    "logits.shape"
   ]
  },
  {
   "cell_type": "code",
   "execution_count": 34,
   "id": "ee7d7b09",
   "metadata": {},
   "outputs": [
    {
     "data": {
      "text/plain": [
       "torch.Size([32, 27])"
      ]
     },
     "execution_count": 34,
     "metadata": {},
     "output_type": "execute_result"
    }
   ],
   "source": [
    "counts = logits.exp()\n",
    "probs = counts / counts.sum(1, keepdim=True)\n",
    "probs.shape"
   ]
  },
  {
   "cell_type": "code",
   "execution_count": 35,
   "id": "b7e67f06",
   "metadata": {},
   "outputs": [
    {
     "name": "stdout",
     "output_type": "stream",
     "text": [
      "Each row sums to 1:\n",
      "probs.sum(1)=tensor([1.0000, 1.0000, 1.0000, 1.0000, 1.0000, 1.0000, 1.0000, 1.0000, 1.0000,\n",
      "        1.0000, 1.0000, 1.0000, 1.0000, 1.0000, 1.0000, 1.0000, 1.0000, 1.0000,\n",
      "        1.0000, 1.0000, 1.0000, 1.0000, 1.0000, 1.0000, 1.0000, 1.0000, 1.0000,\n",
      "        1.0000, 1.0000, 1.0000, 1.0000, 1.0000])\n"
     ]
    }
   ],
   "source": [
    "print(f'Each row sums to 1:\\n{probs.sum(1)=}')"
   ]
  },
  {
   "cell_type": "code",
   "execution_count": 36,
   "id": "fc3a1e8e",
   "metadata": {},
   "outputs": [
    {
     "data": {
      "text/plain": [
       "tensor([ 5, 13, 13,  1,  0, 15, 12,  9, 22,  9,  1,  0,  1, 22,  1,  0,  9, 19,\n",
       "         1,  2,  5, 12, 12,  1,  0, 19, 15, 16,  8,  9,  1,  0])"
      ]
     },
     "execution_count": 36,
     "metadata": {},
     "output_type": "execute_result"
    }
   ],
   "source": [
    "Y"
   ]
  },
  {
   "cell_type": "code",
   "execution_count": 37,
   "id": "ecb5855a",
   "metadata": {},
   "outputs": [
    {
     "data": {
      "text/plain": [
       "tensor([2.7676e-07, 1.7783e-01, 6.7574e-03, 5.8884e-03, 4.1005e-05, 1.9555e-09,\n",
       "        7.4956e-06, 1.2306e-11, 6.8444e-05, 6.9070e-12, 2.0581e-06, 1.6448e-04,\n",
       "        3.7687e-05, 1.2464e-02, 4.3816e-05, 2.9074e-05, 2.5614e-11, 4.0830e-07,\n",
       "        1.7076e-07, 1.2047e-03, 3.4368e-08, 3.0977e-09, 1.8563e-07, 9.2256e-04,\n",
       "        3.7179e-06, 5.6840e-04, 5.8707e-10, 7.4001e-12, 5.7977e-12, 4.0536e-15,\n",
       "        2.2857e-06, 2.8679e-06])"
      ]
     },
     "execution_count": 37,
     "metadata": {},
     "output_type": "execute_result"
    }
   ],
   "source": [
    "probs[torch.arange(32), Y]"
   ]
  },
  {
   "cell_type": "code",
   "execution_count": 38,
   "id": "77589266",
   "metadata": {},
   "outputs": [
    {
     "name": "stdout",
     "output_type": "stream",
     "text": [
      "probs[0, 5]=tensor(2.7676e-07), probs[1, 13]=tensor(0.1778), probs[2, 13]=tensor(0.0068), ...\n"
     ]
    }
   ],
   "source": [
    "# This is what the above cell is doing:\n",
    "print(f'{probs[0, 5]=}, {probs[1, 13]=}, {probs[2, 13]=}, ...')"
   ]
  },
  {
   "cell_type": "code",
   "execution_count": 39,
   "id": "a58aea2a",
   "metadata": {},
   "outputs": [
    {
     "data": {
      "text/plain": [
       "tensor(14.3274)"
      ]
     },
     "execution_count": 39,
     "metadata": {},
     "output_type": "execute_result"
    }
   ],
   "source": [
    "loss = - (probs[torch.arange(32), Y].log().mean())\n",
    "loss"
   ]
  },
  {
   "cell_type": "markdown",
   "id": "fb7db8c6",
   "metadata": {},
   "source": [
    "## Summary of what we just did"
   ]
  },
  {
   "cell_type": "code",
   "execution_count": 40,
   "id": "30f17baf",
   "metadata": {},
   "outputs": [
    {
     "name": "stdout",
     "output_type": "stream",
     "text": [
      "Total parameters: 3481\n"
     ]
    }
   ],
   "source": [
    "# Parameters\n",
    "g = torch.Generator().manual_seed(2147483647)\n",
    "C = torch.randn((27, 2), generator=g)\n",
    "W1 = torch.randn((6, 100), generator=g)\n",
    "b1 = torch.randn(100, generator=g)\n",
    "W2 = torch.randn((100, 27), generator=g)\n",
    "b2 = torch.randn(27, generator=g)\n",
    "\n",
    "parameters = [C, W1, b1, W2, b2]\n",
    "print(f'Total parameters: {sum(p.nelement() for p in parameters)}')"
   ]
  },
  {
   "cell_type": "code",
   "execution_count": 41,
   "id": "4fd80cb2",
   "metadata": {},
   "outputs": [
    {
     "name": "stdout",
     "output_type": "stream",
     "text": [
      "Loss: 17.7697\n"
     ]
    }
   ],
   "source": [
    "# Forward pass\n",
    "emb = C[X]\n",
    "h = torch.tanh(emb.view(-1, 6) @ W1 + b1)\n",
    "logits = h @ W2 + b2\n",
    "counts = logits.exp()\n",
    "probs = counts / counts.sum(1, keepdim=True)\n",
    "loss = -(probs[torch.arange(32), Y].log().mean())\n",
    "print(f'Loss: {loss.item():.4f}')"
   ]
  },
  {
   "cell_type": "code",
   "execution_count": 42,
   "id": "567fe735",
   "metadata": {},
   "outputs": [
    {
     "data": {
      "text/plain": [
       "tensor(17.7697)"
      ]
     },
     "execution_count": 42,
     "metadata": {},
     "output_type": "execute_result"
    }
   ],
   "source": [
    "# What we are doing is cross-entropy, which PyTorch has a function for:\n",
    "F.cross_entropy(logits, Y)"
   ]
  },
  {
   "cell_type": "code",
   "execution_count": 43,
   "id": "b0a1802d",
   "metadata": {},
   "outputs": [],
   "source": [
    "for p in parameters:\n",
    "    p.requires_grad = True"
   ]
  },
  {
   "cell_type": "code",
   "execution_count": 44,
   "id": "22973936",
   "metadata": {},
   "outputs": [
    {
     "name": "stdout",
     "output_type": "stream",
     "text": [
      "Iteration: 0, Loss: 17.7697\n",
      "Iteration: 1, Loss: 17.0792\n",
      "Iteration: 2, Loss: 16.5319\n",
      "Iteration: 3, Loss: 16.0857\n",
      "Iteration: 4, Loss: 15.6927\n",
      "Iteration: 5, Loss: 15.3323\n",
      "Iteration: 6, Loss: 14.9940\n",
      "Iteration: 7, Loss: 14.6720\n",
      "Iteration: 8, Loss: 14.3625\n",
      "Iteration: 9, Loss: 14.0635\n",
      "Iteration: 10, Loss: 13.7737\n",
      "Iteration: 11, Loss: 13.4925\n",
      "Iteration: 12, Loss: 13.2197\n",
      "Iteration: 13, Loss: 12.9554\n",
      "Iteration: 14, Loss: 12.6995\n",
      "Iteration: 15, Loss: 12.4521\n",
      "Iteration: 16, Loss: 12.2130\n",
      "Iteration: 17, Loss: 11.9818\n",
      "Iteration: 18, Loss: 11.7580\n",
      "Iteration: 19, Loss: 11.5410\n",
      "Iteration: 20, Loss: 11.3303\n",
      "Iteration: 21, Loss: 11.1254\n",
      "Iteration: 22, Loss: 10.9257\n",
      "Iteration: 23, Loss: 10.7311\n",
      "Iteration: 24, Loss: 10.5411\n",
      "Iteration: 25, Loss: 10.3555\n",
      "Iteration: 26, Loss: 10.1741\n",
      "Iteration: 27, Loss: 9.9967\n",
      "Iteration: 28, Loss: 9.8232\n",
      "Iteration: 29, Loss: 9.6535\n",
      "Iteration: 30, Loss: 9.4874\n",
      "Iteration: 31, Loss: 9.3248\n",
      "Iteration: 32, Loss: 9.1657\n",
      "Iteration: 33, Loss: 9.0098\n",
      "Iteration: 34, Loss: 8.8573\n",
      "Iteration: 35, Loss: 8.7080\n",
      "Iteration: 36, Loss: 8.5620\n",
      "Iteration: 37, Loss: 8.4193\n",
      "Iteration: 38, Loss: 8.2799\n",
      "Iteration: 39, Loss: 8.1439\n",
      "Iteration: 40, Loss: 8.0115\n",
      "Iteration: 41, Loss: 7.8827\n",
      "Iteration: 42, Loss: 7.7577\n",
      "Iteration: 43, Loss: 7.6365\n",
      "Iteration: 44, Loss: 7.5191\n",
      "Iteration: 45, Loss: 7.4057\n",
      "Iteration: 46, Loss: 7.2960\n",
      "Iteration: 47, Loss: 7.1901\n",
      "Iteration: 48, Loss: 7.0878\n",
      "Iteration: 49, Loss: 6.9890\n",
      "Iteration: 50, Loss: 6.8936\n",
      "Iteration: 51, Loss: 6.8013\n",
      "Iteration: 52, Loss: 6.7118\n",
      "Iteration: 53, Loss: 6.6252\n",
      "Iteration: 54, Loss: 6.5410\n",
      "Iteration: 55, Loss: 6.4591\n",
      "Iteration: 56, Loss: 6.3795\n",
      "Iteration: 57, Loss: 6.3018\n",
      "Iteration: 58, Loss: 6.2259\n",
      "Iteration: 59, Loss: 6.1518\n",
      "Iteration: 60, Loss: 6.0793\n",
      "Iteration: 61, Loss: 6.0083\n",
      "Iteration: 62, Loss: 5.9388\n",
      "Iteration: 63, Loss: 5.8706\n",
      "Iteration: 64, Loss: 5.8037\n",
      "Iteration: 65, Loss: 5.7379\n",
      "Iteration: 66, Loss: 5.6734\n",
      "Iteration: 67, Loss: 5.6099\n",
      "Iteration: 68, Loss: 5.5476\n",
      "Iteration: 69, Loss: 5.4862\n",
      "Iteration: 70, Loss: 5.4258\n",
      "Iteration: 71, Loss: 5.3664\n",
      "Iteration: 72, Loss: 5.3079\n",
      "Iteration: 73, Loss: 5.2503\n",
      "Iteration: 74, Loss: 5.1936\n",
      "Iteration: 75, Loss: 5.1378\n",
      "Iteration: 76, Loss: 5.0827\n",
      "Iteration: 77, Loss: 5.0284\n",
      "Iteration: 78, Loss: 4.9750\n",
      "Iteration: 79, Loss: 4.9222\n",
      "Iteration: 80, Loss: 4.8703\n",
      "Iteration: 81, Loss: 4.8190\n",
      "Iteration: 82, Loss: 4.7684\n",
      "Iteration: 83, Loss: 4.7185\n",
      "Iteration: 84, Loss: 4.6693\n",
      "Iteration: 85, Loss: 4.6207\n",
      "Iteration: 86, Loss: 4.5727\n",
      "Iteration: 87, Loss: 4.5253\n",
      "Iteration: 88, Loss: 4.4785\n",
      "Iteration: 89, Loss: 4.4323\n",
      "Iteration: 90, Loss: 4.3867\n",
      "Iteration: 91, Loss: 4.3416\n",
      "Iteration: 92, Loss: 4.2970\n",
      "Iteration: 93, Loss: 4.2530\n",
      "Iteration: 94, Loss: 4.2094\n",
      "Iteration: 95, Loss: 4.1664\n",
      "Iteration: 96, Loss: 4.1239\n",
      "Iteration: 97, Loss: 4.0819\n",
      "Iteration: 98, Loss: 4.0403\n",
      "Iteration: 99, Loss: 3.9992\n"
     ]
    }
   ],
   "source": [
    "LEARNING_RATE = 0.01\n",
    "\n",
    "for k in range(100):\n",
    "    # Forward pass\n",
    "    emb = C[X]\n",
    "    h = torch.tanh(emb.view(-1, 6) @ W1 + b1)\n",
    "    logits = h @ W2 + b2\n",
    "    loss = F.cross_entropy(logits, Y)\n",
    "\n",
    "    print(f'Iteration: {k}, Loss: {loss.item():.4f}')\n",
    "\n",
    "    # Backward pass\n",
    "    for p in parameters:\n",
    "        p.grad = None\n",
    "\n",
    "    loss.backward()\n",
    "\n",
    "    # Update parameters\n",
    "    for p in parameters:\n",
    "        p.data += - LEARNING_RATE * p.grad"
   ]
  },
  {
   "cell_type": "markdown",
   "id": "53d88bd0",
   "metadata": {},
   "source": [
    "## Iterating on the entire dataset"
   ]
  },
  {
   "cell_type": "code",
   "execution_count": 45,
   "id": "ea9889dd",
   "metadata": {},
   "outputs": [
    {
     "data": {
      "text/plain": [
       "tensor([ 4,  6, 24, 14, 13,  8, 16,  3,  2,  4])"
      ]
     },
     "execution_count": 45,
     "metadata": {},
     "output_type": "execute_result"
    }
   ],
   "source": [
    "# We can take batches of the dataset to speed up each iteration of the neural\n",
    "# network training\n",
    "batch_ix = torch.randint(0, X.shape[0], (10,))\n",
    "batch_ix"
   ]
  },
  {
   "cell_type": "code",
   "execution_count": 46,
   "id": "f9328468",
   "metadata": {},
   "outputs": [
    {
     "name": "stdout",
     "output_type": "stream",
     "text": [
      "Number of examples: 228146\n"
     ]
    }
   ],
   "source": [
    "BLOCK_SIZE = 3\n",
    "X_data, Y_data = [], []\n",
    "number_of_examples = 0\n",
    "\n",
    "for word in words:\n",
    "    context = [0 for _ in range(BLOCK_SIZE)]\n",
    "    for ch in word + '.':\n",
    "        ix = stoi[ch]\n",
    "\n",
    "        X_data.append(context)\n",
    "        Y_data.append(ix)\n",
    "\n",
    "        context = context[1:] + [ix]\n",
    "\n",
    "        number_of_examples += 1\n",
    "\n",
    "X = torch.tensor(X_data)\n",
    "Y = torch.tensor(Y_data)\n",
    "print(f'Number of examples: {number_of_examples}')"
   ]
  },
  {
   "cell_type": "code",
   "execution_count": 47,
   "id": "72854ca1",
   "metadata": {},
   "outputs": [
    {
     "data": {
      "text/plain": [
       "tensor([[13, 13,  1],\n",
       "        [ 0,  0, 15],\n",
       "        [12, 12,  1],\n",
       "        [ 0,  1, 22],\n",
       "        [ 0,  0,  1],\n",
       "        [15, 12,  9],\n",
       "        [ 0,  0,  0],\n",
       "        [ 5, 13, 13],\n",
       "        [ 0,  5, 13],\n",
       "        [13, 13,  1]])"
      ]
     },
     "execution_count": 47,
     "metadata": {},
     "output_type": "execute_result"
    }
   ],
   "source": [
    "X[batch_ix]"
   ]
  },
  {
   "cell_type": "code",
   "execution_count": 48,
   "id": "df789b28",
   "metadata": {},
   "outputs": [
    {
     "data": {
      "text/plain": [
       "tensor([ 0, 12,  0,  1, 22, 22,  9,  1, 13,  0])"
      ]
     },
     "execution_count": 48,
     "metadata": {},
     "output_type": "execute_result"
    }
   ],
   "source": [
    "Y[batch_ix]"
   ]
  },
  {
   "cell_type": "code",
   "execution_count": 49,
   "id": "12e5ec66",
   "metadata": {},
   "outputs": [
    {
     "name": "stdout",
     "output_type": "stream",
     "text": [
      "Total parameters: 3481\n"
     ]
    }
   ],
   "source": [
    "# Parameters\n",
    "g = torch.Generator().manual_seed(2147483647)\n",
    "C = torch.randn((27, 2), generator=g)\n",
    "W1 = torch.randn((6, 100), generator=g)\n",
    "b1 = torch.randn(100, generator=g)\n",
    "W2 = torch.randn((100, 27), generator=g)\n",
    "b2 = torch.randn(27, generator=g)\n",
    "\n",
    "parameters = [C, W1, b1, W2, b2]\n",
    "\n",
    "for p in parameters:\n",
    "    p.requires_grad = True\n",
    "\n",
    "print(f'Total parameters: {sum(p.nelement() for p in parameters)}')"
   ]
  },
  {
   "cell_type": "code",
   "execution_count": 50,
   "id": "8f4698ef",
   "metadata": {},
   "outputs": [
    {
     "name": "stdout",
     "output_type": "stream",
     "text": [
      "Iteration: 0, Loss: 19.5549\n",
      "Iteration: 1, Loss: 17.6606\n",
      "Iteration: 2, Loss: 16.9659\n",
      "Iteration: 3, Loss: 12.1113\n",
      "Iteration: 4, Loss: 13.4687\n",
      "Iteration: 5, Loss: 15.0449\n",
      "Iteration: 6, Loss: 13.3143\n",
      "Iteration: 7, Loss: 12.4386\n",
      "Iteration: 8, Loss: 12.6484\n",
      "Iteration: 9, Loss: 11.6108\n",
      "Iteration: 10, Loss: 11.4156\n",
      "Iteration: 11, Loss: 11.8635\n",
      "Iteration: 12, Loss: 9.6465\n",
      "Iteration: 13, Loss: 11.4847\n",
      "Iteration: 14, Loss: 8.7103\n",
      "Iteration: 15, Loss: 10.8129\n",
      "Iteration: 16, Loss: 9.4992\n",
      "Iteration: 17, Loss: 9.8045\n",
      "Iteration: 18, Loss: 6.8201\n",
      "Iteration: 19, Loss: 7.2073\n",
      "Iteration: 20, Loss: 7.6906\n",
      "Iteration: 21, Loss: 7.3416\n",
      "Iteration: 22, Loss: 8.3844\n",
      "Iteration: 23, Loss: 6.8747\n",
      "Iteration: 24, Loss: 7.8371\n",
      "Iteration: 25, Loss: 8.7609\n",
      "Iteration: 26, Loss: 9.4675\n",
      "Iteration: 27, Loss: 6.2876\n",
      "Iteration: 28, Loss: 7.5168\n",
      "Iteration: 29, Loss: 7.1644\n",
      "Iteration: 30, Loss: 7.2143\n",
      "Iteration: 31, Loss: 9.1463\n",
      "Iteration: 32, Loss: 7.4110\n",
      "Iteration: 33, Loss: 6.7093\n",
      "Iteration: 34, Loss: 6.2218\n",
      "Iteration: 35, Loss: 7.1710\n",
      "Iteration: 36, Loss: 6.6715\n",
      "Iteration: 37, Loss: 5.6802\n",
      "Iteration: 38, Loss: 6.2802\n",
      "Iteration: 39, Loss: 5.6480\n",
      "Iteration: 40, Loss: 6.2277\n",
      "Iteration: 41, Loss: 6.6139\n",
      "Iteration: 42, Loss: 5.5950\n",
      "Iteration: 43, Loss: 6.8855\n",
      "Iteration: 44, Loss: 5.6167\n",
      "Iteration: 45, Loss: 6.0761\n",
      "Iteration: 46, Loss: 5.1184\n",
      "Iteration: 47, Loss: 5.2805\n",
      "Iteration: 48, Loss: 5.2863\n",
      "Iteration: 49, Loss: 5.3269\n",
      "Iteration: 50, Loss: 5.7546\n",
      "Iteration: 51, Loss: 4.5195\n",
      "Iteration: 52, Loss: 6.1650\n",
      "Iteration: 53, Loss: 5.3915\n",
      "Iteration: 54, Loss: 4.7512\n",
      "Iteration: 55, Loss: 4.4651\n",
      "Iteration: 56, Loss: 5.0778\n",
      "Iteration: 57, Loss: 4.5816\n",
      "Iteration: 58, Loss: 4.4102\n",
      "Iteration: 59, Loss: 4.4067\n",
      "Iteration: 60, Loss: 4.7805\n",
      "Iteration: 61, Loss: 5.1501\n",
      "Iteration: 62, Loss: 5.3999\n",
      "Iteration: 63, Loss: 4.1093\n",
      "Iteration: 64, Loss: 5.0551\n",
      "Iteration: 65, Loss: 4.5893\n",
      "Iteration: 66, Loss: 4.5325\n",
      "Iteration: 67, Loss: 3.6683\n",
      "Iteration: 68, Loss: 4.7627\n",
      "Iteration: 69, Loss: 3.6832\n",
      "Iteration: 70, Loss: 4.8986\n",
      "Iteration: 71, Loss: 5.2827\n",
      "Iteration: 72, Loss: 4.0400\n",
      "Iteration: 73, Loss: 4.1573\n",
      "Iteration: 74, Loss: 4.1542\n",
      "Iteration: 75, Loss: 4.8813\n",
      "Iteration: 76, Loss: 4.7800\n",
      "Iteration: 77, Loss: 3.5336\n",
      "Iteration: 78, Loss: 3.6431\n",
      "Iteration: 79, Loss: 4.2299\n",
      "Iteration: 80, Loss: 4.8172\n",
      "Iteration: 81, Loss: 3.8179\n",
      "Iteration: 82, Loss: 4.1210\n",
      "Iteration: 83, Loss: 4.1829\n",
      "Iteration: 84, Loss: 3.7388\n",
      "Iteration: 85, Loss: 3.6487\n",
      "Iteration: 86, Loss: 4.1003\n",
      "Iteration: 87, Loss: 4.4821\n",
      "Iteration: 88, Loss: 3.8572\n",
      "Iteration: 89, Loss: 4.0698\n",
      "Iteration: 90, Loss: 3.6456\n",
      "Iteration: 91, Loss: 2.9936\n",
      "Iteration: 92, Loss: 3.1358\n",
      "Iteration: 93, Loss: 4.3854\n",
      "Iteration: 94, Loss: 4.3792\n",
      "Iteration: 95, Loss: 3.0871\n",
      "Iteration: 96, Loss: 3.7109\n",
      "Iteration: 97, Loss: 4.3114\n",
      "Iteration: 98, Loss: 3.4417\n",
      "Iteration: 99, Loss: 4.0882\n"
     ]
    }
   ],
   "source": [
    "LEARNING_RATE = 0.1\n",
    "BATCH_SIZE = 50\n",
    "\n",
    "for k in range(100):\n",
    "    # Batch\n",
    "    batch_ix = torch.randint(0, X.shape[0], (BATCH_SIZE,))\n",
    "\n",
    "    # Forward pass\n",
    "    emb = C[X[batch_ix]]\n",
    "    h = torch.tanh(emb.view(-1, 6) @ W1 + b1)\n",
    "    logits = h @ W2 + b2\n",
    "    loss = F.cross_entropy(logits, Y[batch_ix])\n",
    "\n",
    "    print(f'Iteration: {k}, Loss: {loss.item():.4f}')\n",
    "\n",
    "    # Backward pass\n",
    "    for p in parameters:\n",
    "        p.grad = None\n",
    "\n",
    "    loss.backward()\n",
    "\n",
    "    # Update parameters\n",
    "    for p in parameters:\n",
    "        p.data += - LEARNING_RATE * p.grad"
   ]
  },
  {
   "cell_type": "code",
   "execution_count": 51,
   "id": "3862d639",
   "metadata": {},
   "outputs": [
    {
     "name": "stdout",
     "output_type": "stream",
     "text": [
      "Loss of entire dataset: 3.6865\n"
     ]
    }
   ],
   "source": [
    "emb = C[X]\n",
    "h = torch.tanh(emb.view(-1, 6) @ W1 + b1)\n",
    "logits = h @ W2 + b2\n",
    "loss = F.cross_entropy(logits, Y)\n",
    "print(f'Loss of entire dataset: {loss.item():.4f}')"
   ]
  },
  {
   "cell_type": "markdown",
   "id": "2ae05590",
   "metadata": {},
   "source": [
    "## Finding a good learning rate"
   ]
  },
  {
   "cell_type": "code",
   "execution_count": 52,
   "id": "46d0f46d",
   "metadata": {},
   "outputs": [
    {
     "data": {
      "text/plain": [
       "tensor([0.0010, 0.0010, 0.0010, 0.0010, 0.0010, 0.0010, 0.0010, 0.0010, 0.0011,\n",
       "        0.0011])"
      ]
     },
     "execution_count": 52,
     "metadata": {},
     "output_type": "execute_result"
    }
   ],
   "source": [
    "lre = torch.linspace(-3, 0, 1000)\n",
    "lrs = 10**lre\n",
    "lrs[:10]"
   ]
  },
  {
   "cell_type": "code",
   "execution_count": 53,
   "id": "2f5c28ac",
   "metadata": {},
   "outputs": [
    {
     "name": "stdout",
     "output_type": "stream",
     "text": [
      "loss.item()=7.0703\n"
     ]
    }
   ],
   "source": [
    "# Parameters\n",
    "g = torch.Generator().manual_seed(2147483647)\n",
    "C = torch.randn((27, 2), generator=g)\n",
    "W1 = torch.randn((6, 100), generator=g)\n",
    "b1 = torch.randn(100, generator=g)\n",
    "W2 = torch.randn((100, 27), generator=g)\n",
    "b2 = torch.randn(27, generator=g)\n",
    "parameters = [C, W1, b1, W2, b2]\n",
    "for p in parameters:\n",
    "    p.requires_grad = True\n",
    "\n",
    "lri = []\n",
    "lossi = []\n",
    "BATCH_SIZE = 50\n",
    "\n",
    "for k in range(1000):\n",
    "    # Batch\n",
    "    batch_ix = torch.randint(0, X.shape[0], (BATCH_SIZE,))\n",
    "\n",
    "    # Forward pass\n",
    "    emb = C[X[batch_ix]]\n",
    "    h = torch.tanh(emb.view(-1, 6) @ W1 + b1)\n",
    "    logits = h @ W2 + b2\n",
    "    loss = F.cross_entropy(logits, Y[batch_ix])\n",
    "\n",
    "    # Backward pass\n",
    "    for p in parameters:\n",
    "        p.grad = None\n",
    "\n",
    "    loss.backward()\n",
    "\n",
    "    # Update parameters\n",
    "    lr = lrs[k]\n",
    "    for p in parameters:\n",
    "        p.data += -lr * p.grad\n",
    "\n",
    "    lri.append(lre[k])\n",
    "    lossi.append(loss.item())\n",
    "\n",
    "print(f'{loss.item()=:.4f}')"
   ]
  },
  {
   "cell_type": "code",
   "execution_count": 54,
   "id": "ca3471e9",
   "metadata": {},
   "outputs": [
    {
     "data": {
      "text/plain": [
       "Text(0, 0.5, 'Loss')"
      ]
     },
     "execution_count": 54,
     "metadata": {},
     "output_type": "execute_result"
    },
    {
     "data": {
      "image/png": "[encoded data removed]",
      "text/plain": [
       "<Figure size 640x480 with 1 Axes>"
      ]
     },
     "metadata": {},
     "output_type": "display_data"
    }
   ],
   "source": [
    "plt.figure()\n",
    "plt.plot(lri, lossi)\n",
    "plt.title('How Learning Rate Affects Loss')\n",
    "plt.xlabel('Learning Rate Exponent ($LR=10^x$)')\n",
    "plt.ylabel('Loss')"
   ]
  },
  {
   "cell_type": "markdown",
   "id": "f1597e24",
   "metadata": {},
   "source": [
    "From the plot above, we see that a good learning rate (that minimizes loss) is somewhere between $10^{-1}$ and $10^{-0.5}$ (between $0.1$ and $0.32$)."
   ]
  },
  {
   "cell_type": "code",
   "execution_count": 55,
   "id": "a51ce8b9",
   "metadata": {},
   "outputs": [
    {
     "name": "stdout",
     "output_type": "stream",
     "text": [
      "loss.item()=2.6140\n"
     ]
    }
   ],
   "source": [
    "# Parameters\n",
    "g = torch.Generator().manual_seed(2147483647)\n",
    "C = torch.randn((27, 2), generator=g)\n",
    "W1 = torch.randn((6, 100), generator=g)\n",
    "b1 = torch.randn(100, generator=g)\n",
    "W2 = torch.randn((100, 27), generator=g)\n",
    "b2 = torch.randn(27, generator=g)\n",
    "parameters = [C, W1, b1, W2, b2]\n",
    "for p in parameters:\n",
    "    p.requires_grad = True\n",
    "\n",
    "BATCH_SIZE = 50\n",
    "\n",
    "for k in range(10000):\n",
    "    # Batch\n",
    "    batch_ix = torch.randint(0, X.shape[0], (BATCH_SIZE,))\n",
    "\n",
    "    # Forward pass\n",
    "    emb = C[X[batch_ix]]\n",
    "    h = torch.tanh(emb.view(-1, 6) @ W1 + b1)\n",
    "    logits = h @ W2 + b2\n",
    "    loss = F.cross_entropy(logits, Y[batch_ix])\n",
    "\n",
    "    # Backward pass\n",
    "    for p in parameters:\n",
    "        p.grad = None\n",
    "\n",
    "    loss.backward()\n",
    "\n",
    "    # Update parameters\n",
    "    lr = 0.2\n",
    "    for p in parameters:\n",
    "        p.data += -lr * p.grad\n",
    "\n",
    "print(f'{loss.item()=:.4f}')"
   ]
  },
  {
   "cell_type": "markdown",
   "id": "22419b1d",
   "metadata": {},
   "source": [
    "## Splitting Dataset into Training and Testing Data\n",
    "\n",
    "We can split the dataset so that:\n",
    "- 80% of the data is used for training\n",
    "- 10% of the data is used for validation during development and hyperparameter tuning\n",
    "- 10% of the data is used for testing the performance of the model at the end."
   ]
  },
  {
   "cell_type": "code",
   "execution_count": 56,
   "id": "371b7962",
   "metadata": {},
   "outputs": [],
   "source": [
    "import random\n",
    "random.seed(42)\n",
    "\n",
    "def build_dataset(words, block_size):\n",
    "    X_data, Y_data = [], []\n",
    "    for word in words:\n",
    "        context = [0 for _ in range(block_size)]\n",
    "        for ch in word + '.':\n",
    "            ix = stoi[ch]\n",
    "\n",
    "            X_data.append(context)\n",
    "            Y_data.append(ix)\n",
    "\n",
    "            context = context[1:] + [ix]\n",
    "\n",
    "    X = torch.tensor(X_data)\n",
    "    Y = torch.tensor(Y_data)\n",
    "    return X, Y"
   ]
  },
  {
   "cell_type": "code",
   "execution_count": 57,
   "id": "329d09d8",
   "metadata": {},
   "outputs": [],
   "source": [
    "random.shuffle(words)\n",
    "\n",
    "n1 = int(0.8 * len(words))\n",
    "n2 = int(0.9 * len(words))\n",
    "\n",
    "X_tr, Y_tr = build_dataset(words[:n1], BLOCK_SIZE)\n",
    "X_dev, Y_dev = build_dataset(words[n1:n2], BLOCK_SIZE)\n",
    "X_te, Y_te = build_dataset(words[n1:], BLOCK_SIZE)"
   ]
  },
  {
   "cell_type": "code",
   "execution_count": 58,
   "id": "7b8a50dd",
   "metadata": {},
   "outputs": [
    {
     "name": "stdout",
     "output_type": "stream",
     "text": [
      "Out of 32033 words:\n",
      "\t25626 words will be used for training,\n",
      "\t3203 words will be used for development validation, and\n",
      "\t3204 words will be used for testing.\n"
     ]
    }
   ],
   "source": [
    "print(f'Out of {len(words)} words:\\n\\t{n1} words will be used for training,\\n\\t{n2-n1} words will be used for development validation, and\\n\\t{len(words)-n2} words will be used for testing.')"
   ]
  },
  {
   "cell_type": "code",
   "execution_count": 59,
   "id": "e3f34b2c",
   "metadata": {},
   "outputs": [
    {
     "name": "stdout",
     "output_type": "stream",
     "text": [
      "Number of parameters: 3481\n",
      "Iteration: 0, loss: 20.2886\n",
      "Iteration: 1000, loss: 2.7515\n",
      "Iteration: 2000, loss: 2.6811\n",
      "Iteration: 3000, loss: 2.5935\n",
      "Iteration: 4000, loss: 2.5762\n",
      "Iteration: 5000, loss: 2.3904\n",
      "Iteration: 6000, loss: 2.6526\n",
      "Iteration: 7000, loss: 2.7502\n",
      "Iteration: 8000, loss: 2.6157\n",
      "Iteration: 9000, loss: 2.5028\n",
      "Iteration: 10000, loss: 2.5373\n",
      "Iteration: 11000, loss: 2.5824\n",
      "Iteration: 12000, loss: 2.7138\n",
      "Iteration: 13000, loss: 2.4773\n",
      "Iteration: 14000, loss: 2.5923\n",
      "Iteration: 15000, loss: 2.4509\n",
      "Iteration: 16000, loss: 2.6298\n",
      "Iteration: 17000, loss: 2.4137\n",
      "Iteration: 18000, loss: 2.3082\n",
      "Iteration: 19000, loss: 2.2534\n",
      "Iteration: 20000, loss: 2.2482\n",
      "Iteration: 21000, loss: 2.3985\n",
      "Iteration: 22000, loss: 2.0010\n",
      "Iteration: 23000, loss: 2.4931\n",
      "Iteration: 24000, loss: 2.0901\n",
      "Iteration: 25000, loss: 2.4276\n",
      "Iteration: 26000, loss: 2.3070\n",
      "Iteration: 27000, loss: 2.3406\n",
      "Iteration: 28000, loss: 2.3287\n",
      "Iteration: 29000, loss: 2.6899\n"
     ]
    }
   ],
   "source": [
    "# Parameters\n",
    "g = torch.Generator().manual_seed(2147483647)\n",
    "C = torch.randn((27, 2), generator=g)\n",
    "W1 = torch.randn((6, 100), generator=g)\n",
    "b1 = torch.randn(100, generator=g)\n",
    "W2 = torch.randn((100, 27), generator=g)\n",
    "b2 = torch.randn(27, generator=g)\n",
    "parameters = [C, W1, b1, W2, b2]\n",
    "for p in parameters:\n",
    "    p.requires_grad = True\n",
    "print(f'Number of parameters: {sum(p.nelement() for p in parameters)}')\n",
    "\n",
    "BATCH_SIZE = 50\n",
    "\n",
    "for k in range(30000):\n",
    "    # Batch\n",
    "    batch_ix = torch.randint(0, X_tr.shape[0], (BATCH_SIZE,))\n",
    "\n",
    "    # Forward pass\n",
    "    emb = C[X_tr[batch_ix]]\n",
    "    h = torch.tanh(emb.view(-1, 6) @ W1 + b1)\n",
    "    logits = h @ W2 + b2\n",
    "    loss = F.cross_entropy(logits, Y_tr[batch_ix])\n",
    "\n",
    "    if k % 1000 == 0:\n",
    "        print(f'Iteration: {k}, loss: {loss.item():.4f}')\n",
    "\n",
    "    # Backward pass\n",
    "    for p in parameters:\n",
    "        p.grad = None\n",
    "\n",
    "    loss.backward()\n",
    "\n",
    "    # Update parameters\n",
    "    lr = 0.2\n",
    "    for p in parameters:\n",
    "        p.data += -lr * p.grad"
   ]
  },
  {
   "cell_type": "code",
   "execution_count": 60,
   "id": "860d58e7",
   "metadata": {},
   "outputs": [
    {
     "name": "stdout",
     "output_type": "stream",
     "text": [
      "Training set loss: 2.4186\n"
     ]
    }
   ],
   "source": [
    "emb = C[X_tr]\n",
    "h = torch.tanh(emb.view(-1, 6) @ W1 + b1)\n",
    "logits = h @ W2 + b2\n",
    "loss = F.cross_entropy(logits, Y_tr)\n",
    "print(f'Training set loss: {loss:.4f}')"
   ]
  },
  {
   "cell_type": "code",
   "execution_count": 61,
   "id": "c1652756",
   "metadata": {},
   "outputs": [
    {
     "name": "stdout",
     "output_type": "stream",
     "text": [
      "Development set loss: 2.4236\n"
     ]
    }
   ],
   "source": [
    "emb = C[X_dev]\n",
    "h = torch.tanh(emb.view(-1, 6) @ W1 + b1)\n",
    "logits = h @ W2 + b2\n",
    "loss = F.cross_entropy(logits, Y_dev)\n",
    "print(f'Development set loss: {loss:.4f}')"
   ]
  },
  {
   "cell_type": "markdown",
   "id": "6046aa5f",
   "metadata": {},
   "source": [
    "The losses of the training and development sets are approximately equal. This means the model is not overfitting.\n",
    "\n",
    "Let's increase the size of the network (by increasing the hidden layer's size) to see if this result changes."
   ]
  },
  {
   "cell_type": "code",
   "execution_count": 62,
   "id": "9cd7ef1e",
   "metadata": {},
   "outputs": [
    {
     "name": "stdout",
     "output_type": "stream",
     "text": [
      "Number of parameters: 10281\n",
      "Iteration: 0, loss: 25.4609\n",
      "Iteration: 1000, loss: 4.7880\n",
      "Iteration: 2000, loss: 3.5451\n",
      "Iteration: 3000, loss: 2.5015\n",
      "Iteration: 4000, loss: 2.4834\n",
      "Iteration: 5000, loss: 2.4795\n",
      "Iteration: 6000, loss: 2.8627\n",
      "Iteration: 7000, loss: 2.6729\n",
      "Iteration: 8000, loss: 2.3516\n",
      "Iteration: 9000, loss: 2.3516\n",
      "Iteration: 10000, loss: 2.7699\n",
      "Iteration: 11000, loss: 2.3162\n",
      "Iteration: 12000, loss: 2.9469\n",
      "Iteration: 13000, loss: 2.8556\n",
      "Iteration: 14000, loss: 2.2240\n",
      "Iteration: 15000, loss: 2.5845\n",
      "Iteration: 16000, loss: 2.5879\n",
      "Iteration: 17000, loss: 2.6431\n",
      "Iteration: 18000, loss: 2.7367\n",
      "Iteration: 19000, loss: 2.4924\n",
      "Iteration: 20000, loss: 2.6555\n",
      "Iteration: 21000, loss: 2.7059\n",
      "Iteration: 22000, loss: 2.7834\n",
      "Iteration: 23000, loss: 2.3809\n",
      "Iteration: 24000, loss: 2.8392\n",
      "Iteration: 25000, loss: 2.5026\n",
      "Iteration: 26000, loss: 2.4567\n",
      "Iteration: 27000, loss: 2.2324\n",
      "Iteration: 28000, loss: 3.0690\n",
      "Iteration: 29000, loss: 2.7151\n"
     ]
    }
   ],
   "source": [
    "# Parameters\n",
    "g = torch.Generator().manual_seed(2147483647)\n",
    "C = torch.randn((27, 2), generator=g)\n",
    "W1 = torch.randn((6, 300), generator=g)\n",
    "b1 = torch.randn(300, generator=g)\n",
    "W2 = torch.randn((300, 27), generator=g)\n",
    "b2 = torch.randn(27, generator=g)\n",
    "parameters = [C, W1, b1, W2, b2]\n",
    "for p in parameters:\n",
    "    p.requires_grad = True\n",
    "print(f'Number of parameters: {sum(p.nelement() for p in parameters)}')\n",
    "\n",
    "lossi = []\n",
    "BATCH_SIZE = 50\n",
    "\n",
    "for k in range(30000):\n",
    "    # Batch\n",
    "    batch_ix = torch.randint(0, X_tr.shape[0], (BATCH_SIZE,))\n",
    "\n",
    "    # Forward pass\n",
    "    emb = C[X_tr[batch_ix]]\n",
    "    h = torch.tanh(emb.view(-1, 6) @ W1 + b1)\n",
    "    logits = h @ W2 + b2\n",
    "    loss = F.cross_entropy(logits, Y_tr[batch_ix])\n",
    "\n",
    "    lossi.append(loss.item())\n",
    "\n",
    "    if k % 1000 == 0:\n",
    "        print(f'Iteration: {k}, loss: {loss.item():.4f}')\n",
    "\n",
    "    # Backward pass\n",
    "    for p in parameters:\n",
    "        p.grad = None\n",
    "\n",
    "    loss.backward()\n",
    "\n",
    "    # Update parameters\n",
    "    lr = 0.2\n",
    "    for p in parameters:\n",
    "        p.data += -lr * p.grad"
   ]
  },
  {
   "cell_type": "code",
   "execution_count": 63,
   "id": "159a42cc",
   "metadata": {},
   "outputs": [
    {
     "name": "stdout",
     "output_type": "stream",
     "text": [
      "Training set loss: 2.4660\n",
      "Development set loss: 2.4668\n"
     ]
    }
   ],
   "source": [
    "emb = C[X_tr]\n",
    "h = torch.tanh(emb.view(-1, 6) @ W1 + b1)\n",
    "logits = h @ W2 + b2\n",
    "loss = F.cross_entropy(logits, Y_tr)\n",
    "print(f'Training set loss: {loss:.4f}')\n",
    "emb = C[X_dev]\n",
    "h = torch.tanh(emb.view(-1, 6) @ W1 + b1)\n",
    "logits = h @ W2 + b2\n",
    "loss = F.cross_entropy(logits, Y_dev)\n",
    "print(f'Development set loss: {loss:.4f}')"
   ]
  },
  {
   "cell_type": "markdown",
   "id": "e9499a76",
   "metadata": {},
   "source": [
    "The results are similar to the smaller model, so the bottleneck might not be the size of the network; it might be the embedding vectors of the words."
   ]
  },
  {
   "cell_type": "code",
   "execution_count": 64,
   "id": "7c1ad112",
   "metadata": {},
   "outputs": [
    {
     "data": {
      "text/plain": [
       "Text(0, 0.5, 'Loss')"
      ]
     },
     "execution_count": 64,
     "metadata": {},
     "output_type": "execute_result"
    },
    {
     "data": {
      "image/png": "[encoded data removed]",
      "text/plain": [
       "<Figure size 640x480 with 1 Axes>"
      ]
     },
     "metadata": {},
     "output_type": "display_data"
    }
   ],
   "source": [
    "plt.figure()\n",
    "plt.plot(lossi)\n",
    "plt.title('Loss Over the Model\\'s Training')\n",
    "plt.xlabel('Iteration')\n",
    "plt.ylabel('Loss')"
   ]
  },
  {
   "cell_type": "code",
   "execution_count": 65,
   "id": "ae380f71",
   "metadata": {},
   "outputs": [
    {
     "data": {
      "image/png": "[encoded data removed]",
      "text/plain": [
       "<Figure size 640x480 with 1 Axes>"
      ]
     },
     "metadata": {},
     "output_type": "display_data"
    }
   ],
   "source": [
    "plt.figure()\n",
    "plt.scatter(C[:, 0].data, C[:, 1].data, s=200)\n",
    "for i in range(C.shape[0]):\n",
    "    plt.text(C[i, 0].item(), C[i, 1].item(), itos[i], ha='center', va='center', color='white')\n",
    "plt.grid()\n",
    "plt.show()"
   ]
  },
  {
   "cell_type": "markdown",
   "id": "67b9bb77",
   "metadata": {},
   "source": [
    "Let's try increasing the dimensions of the encoding vector."
   ]
  },
  {
   "cell_type": "code",
   "execution_count": 66,
   "id": "fc25fc67",
   "metadata": {},
   "outputs": [
    {
     "name": "stdout",
     "output_type": "stream",
     "text": [
      "Number of parameters: 8997\n",
      "Iteration: 0, loss: 24.9372\n",
      "Iteration: 1000, loss: 2.7954\n",
      "Iteration: 2000, loss: 2.6388\n",
      "Iteration: 3000, loss: 2.6312\n",
      "Iteration: 4000, loss: 2.5654\n",
      "Iteration: 5000, loss: 2.6390\n",
      "Iteration: 6000, loss: 2.0417\n",
      "Iteration: 7000, loss: 2.5104\n",
      "Iteration: 8000, loss: 2.5588\n",
      "Iteration: 9000, loss: 2.4598\n",
      "Iteration: 10000, loss: 2.4423\n",
      "Iteration: 11000, loss: 2.1763\n",
      "Iteration: 12000, loss: 2.3671\n",
      "Iteration: 13000, loss: 2.4143\n",
      "Iteration: 14000, loss: 2.4910\n",
      "Iteration: 15000, loss: 2.2922\n",
      "Iteration: 16000, loss: 2.0496\n",
      "Iteration: 17000, loss: 2.2034\n",
      "Iteration: 18000, loss: 2.1715\n",
      "Iteration: 19000, loss: 2.4722\n",
      "Iteration: 20000, loss: 2.5533\n",
      "Iteration: 21000, loss: 2.3532\n",
      "Iteration: 22000, loss: 2.1969\n",
      "Iteration: 23000, loss: 2.3634\n",
      "Iteration: 24000, loss: 2.1338\n",
      "Iteration: 25000, loss: 2.2477\n",
      "Iteration: 26000, loss: 2.3895\n",
      "Iteration: 27000, loss: 2.3637\n",
      "Iteration: 28000, loss: 2.3752\n",
      "Iteration: 29000, loss: 2.4483\n"
     ]
    }
   ],
   "source": [
    "# Parameters\n",
    "g = torch.Generator().manual_seed(2147483647)\n",
    "C = torch.randn((27, 10), generator=g)\n",
    "W1 = torch.randn((30, 150), generator=g)\n",
    "b1 = torch.randn(150, generator=g)\n",
    "W2 = torch.randn((150, 27), generator=g)\n",
    "b2 = torch.randn(27, generator=g)\n",
    "parameters = [C, W1, b1, W2, b2]\n",
    "for p in parameters:\n",
    "    p.requires_grad = True\n",
    "print(f'Number of parameters: {sum(p.nelement() for p in parameters)}')\n",
    "\n",
    "lossi = []\n",
    "BATCH_SIZE = 50\n",
    "\n",
    "for k in range(30000):\n",
    "    # Batch\n",
    "    batch_ix = torch.randint(0, X_tr.shape[0], (BATCH_SIZE,))\n",
    "\n",
    "    # Forward pass\n",
    "    emb = C[X_tr[batch_ix]]\n",
    "    h = torch.tanh(emb.view(-1, 30) @ W1 + b1)\n",
    "    logits = h @ W2 + b2\n",
    "    loss = F.cross_entropy(logits, Y_tr[batch_ix])\n",
    "\n",
    "    lossi.append(loss.item())\n",
    "\n",
    "    if k % 1000 == 0:\n",
    "        print(f'Iteration: {k}, loss: {loss.item():.4f}')\n",
    "\n",
    "    # Backward pass\n",
    "    for p in parameters:\n",
    "        p.grad = None\n",
    "\n",
    "    loss.backward()\n",
    "\n",
    "    # Update parameters\n",
    "    lr = 0.2\n",
    "    for p in parameters:\n",
    "        p.data += -lr * p.grad"
   ]
  },
  {
   "cell_type": "code",
   "execution_count": 67,
   "id": "a321b7a0",
   "metadata": {},
   "outputs": [
    {
     "name": "stdout",
     "output_type": "stream",
     "text": [
      "Training set loss: 2.3872\n",
      "Development set loss: 2.4108\n"
     ]
    }
   ],
   "source": [
    "emb = C[X_tr]\n",
    "h = torch.tanh(emb.view(-1, 30) @ W1 + b1)\n",
    "logits = h @ W2 + b2\n",
    "loss = F.cross_entropy(logits, Y_tr)\n",
    "print(f'Training set loss: {loss:.4f}')\n",
    "emb = C[X_dev]\n",
    "h = torch.tanh(emb.view(-1, 30) @ W1 + b1)\n",
    "logits = h @ W2 + b2\n",
    "loss = F.cross_entropy(logits, Y_dev)\n",
    "print(f'Development set loss: {loss:.4f}')"
   ]
  },
  {
   "cell_type": "code",
   "execution_count": 68,
   "id": "7c8e0109",
   "metadata": {},
   "outputs": [
    {
     "data": {
      "text/plain": [
       "Text(0, 0.5, 'Loss')"
      ]
     },
     "execution_count": 68,
     "metadata": {},
     "output_type": "execute_result"
    },
    {
     "data": {
      "image/png": "[encoded data removed]",
      "text/plain": [
       "<Figure size 640x480 with 1 Axes>"
      ]
     },
     "metadata": {},
     "output_type": "display_data"
    }
   ],
   "source": [
    "plt.figure()\n",
    "plt.plot(lossi)\n",
    "plt.title('Loss Over the Model\\'s Training')\n",
    "plt.xlabel('Iteration')\n",
    "plt.ylabel('Loss')"
   ]
  },
  {
   "cell_type": "code",
   "execution_count": 69,
   "id": "8de92e03",
   "metadata": {},
   "outputs": [
    {
     "data": {
      "text/plain": [
       "Text(0, 0.5, 'Loss')"
      ]
     },
     "execution_count": 69,
     "metadata": {},
     "output_type": "execute_result"
    },
    {
     "data": {
      "image/png": "[encoded data removed]",
      "text/plain": [
       "<Figure size 640x480 with 1 Axes>"
      ]
     },
     "metadata": {},
     "output_type": "display_data"
    }
   ],
   "source": [
    "import math\n",
    "plt.figure()\n",
    "plt.plot([math.log10(l) for l in lossi])\n",
    "plt.title('Loss Over the Model\\'s Training')\n",
    "plt.xlabel('Iteration')\n",
    "plt.ylabel('Loss')"
   ]
  },
  {
   "cell_type": "markdown",
   "id": "ecd239ad",
   "metadata": {},
   "source": [
    "Let's make a general model with hyperparameters that can easily be tuned."
   ]
  },
  {
   "cell_type": "code",
   "execution_count": 95,
   "id": "549b0785",
   "metadata": {},
   "outputs": [],
   "source": [
    "CHARACTERS_SIZE = len(itos)\n",
    "BLOCK_SIZE = 5\n",
    "EMBEDDING_SIZE = 15\n",
    "HIDDEN_LAYER_SIZE = 300\n",
    "BLOCK_EMBEDDING_SIZE = BLOCK_SIZE * EMBEDDING_SIZE\n",
    "BATCH_SIZE = 1000\n",
    "NUMBER_OF_ITERATIONS = 30_000\n",
    "LEARNING_RATE = 1\n",
    "DECAYED_LEARNING_RATE = 0.01"
   ]
  },
  {
   "cell_type": "code",
   "execution_count": 96,
   "id": "02b1de61",
   "metadata": {},
   "outputs": [],
   "source": [
    "random.shuffle(words)\n",
    "\n",
    "n1 = int(0.8 * len(words))\n",
    "n2 = int(0.9 * len(words))\n",
    "\n",
    "X_tr, Y_tr = build_dataset(words[:n1], BLOCK_SIZE)\n",
    "X_dev, Y_dev = build_dataset(words[n1:n2], BLOCK_SIZE)\n",
    "X_te, Y_te = build_dataset(words[n1:], BLOCK_SIZE)"
   ]
  },
  {
   "cell_type": "code",
   "execution_count": 97,
   "id": "318fac01",
   "metadata": {},
   "outputs": [
    {
     "name": "stdout",
     "output_type": "stream",
     "text": [
      "Number of parameters: 31332\n",
      "Iteration: 0, loss: 36.6656\n",
      "Iteration: 1000, loss: 10.7352\n",
      "Iteration: 2000, loss: 9.3925\n",
      "Iteration: 3000, loss: 8.8497\n",
      "Iteration: 4000, loss: 5.9271\n",
      "Iteration: 5000, loss: 5.6906\n",
      "Iteration: 6000, loss: 4.8043\n",
      "Iteration: 7000, loss: 3.5563\n",
      "Iteration: 8000, loss: 3.8009\n",
      "Iteration: 9000, loss: 4.1180\n",
      "Iteration: 10000, loss: 3.0808\n",
      "Iteration: 11000, loss: 4.1119\n",
      "Iteration: 12000, loss: 3.1736\n",
      "Iteration: 13000, loss: 3.2090\n",
      "Iteration: 14000, loss: 2.6590\n",
      "Iteration: 15000, loss: 3.2737\n",
      "Iteration: 16000, loss: 2.0610\n",
      "Iteration: 17000, loss: 2.0334\n",
      "Iteration: 18000, loss: 2.0451\n",
      "Iteration: 19000, loss: 2.0616\n",
      "Iteration: 20000, loss: 2.0200\n",
      "Iteration: 21000, loss: 2.0516\n",
      "Iteration: 22000, loss: 2.0494\n",
      "Iteration: 23000, loss: 2.1053\n",
      "Iteration: 24000, loss: 2.0856\n",
      "Iteration: 25000, loss: 2.0308\n",
      "Iteration: 26000, loss: 2.0548\n",
      "Iteration: 27000, loss: 2.0509\n",
      "Iteration: 28000, loss: 2.0863\n",
      "Iteration: 29000, loss: 2.0253\n"
     ]
    }
   ],
   "source": [
    "# Parameters\n",
    "g = torch.Generator().manual_seed(2147483647)\n",
    "C = torch.randn((CHARACTERS_SIZE, EMBEDDING_SIZE), generator=g)\n",
    "W1 = torch.randn((BLOCK_EMBEDDING_SIZE, HIDDEN_LAYER_SIZE), generator=g)\n",
    "b1 = torch.randn(HIDDEN_LAYER_SIZE, generator=g)\n",
    "W2 = torch.randn((HIDDEN_LAYER_SIZE, CHARACTERS_SIZE), generator=g)\n",
    "b2 = torch.randn(CHARACTERS_SIZE, generator=g)\n",
    "\n",
    "parameters = [C, W1, b1, W2, b2]\n",
    "for p in parameters:\n",
    "    p.requires_grad = True\n",
    "print(f'Number of parameters: {sum(p.nelement() for p in parameters)}')\n",
    "\n",
    "lossi = []\n",
    "\n",
    "for k in range(NUMBER_OF_ITERATIONS):\n",
    "    # Batch\n",
    "    batch_ix = torch.randint(0, X_tr.shape[0], (BATCH_SIZE,))\n",
    "\n",
    "    # Forward pass\n",
    "    emb = C[X_tr[batch_ix]]\n",
    "    h = torch.tanh(emb.view(-1, BLOCK_EMBEDDING_SIZE) @ W1 + b1)\n",
    "    logits = h @ W2 + b2\n",
    "    loss = F.cross_entropy(logits, Y_tr[batch_ix])\n",
    "\n",
    "    lossi.append(loss.item())\n",
    "\n",
    "    if k % 1000 == 0:\n",
    "        print(f'Iteration: {k}, loss: {loss.item():.4f}')\n",
    "\n",
    "    # Backward pass\n",
    "    for p in parameters:\n",
    "        p.grad = None\n",
    "\n",
    "    loss.backward()\n",
    "\n",
    "    # Update parameters\n",
    "    lr = LEARNING_RATE if k < NUMBER_OF_ITERATIONS / 2 else DECAYED_LEARNING_RATE\n",
    "    for p in parameters:\n",
    "        p.data += -lr * p.grad"
   ]
  },
  {
   "cell_type": "code",
   "execution_count": 98,
   "id": "98897bd4",
   "metadata": {},
   "outputs": [
    {
     "name": "stdout",
     "output_type": "stream",
     "text": [
      "Training set loss: 2.0286\n",
      "Development set loss: 2.1115\n"
     ]
    }
   ],
   "source": [
    "emb = C[X_tr]\n",
    "h = torch.tanh(emb.view(-1, BLOCK_EMBEDDING_SIZE) @ W1 + b1)\n",
    "logits = h @ W2 + b2\n",
    "loss = F.cross_entropy(logits, Y_tr)\n",
    "print(f'Training set loss: {loss:.4f}')\n",
    "emb = C[X_dev]\n",
    "h = torch.tanh(emb.view(-1, BLOCK_EMBEDDING_SIZE) @ W1 + b1)\n",
    "logits = h @ W2 + b2\n",
    "loss = F.cross_entropy(logits, Y_dev)\n",
    "print(f'Development set loss: {loss:.4f}')"
   ]
  },
  {
   "cell_type": "code",
   "execution_count": 118,
   "id": "e6cb090e",
   "metadata": {},
   "outputs": [
    {
     "data": {
      "text/plain": [
       "Text(0, 0.5, 'Loss')"
      ]
     },
     "execution_count": 118,
     "metadata": {},
     "output_type": "execute_result"
    },
    {
     "data": {
      "image/png": "[encoded data removed]",
      "text/plain": [
       "<Figure size 640x480 with 1 Axes>"
      ]
     },
     "metadata": {},
     "output_type": "display_data"
    }
   ],
   "source": [
    "plt.figure()\n",
    "plt.plot([math.log10(l) for l in lossi])\n",
    "plt.title('Loss Over the Model\\'s Training')\n",
    "plt.xlabel('Iteration')\n",
    "plt.ylabel('Loss')"
   ]
  },
  {
   "cell_type": "code",
   "execution_count": 119,
   "id": "dc5079c7",
   "metadata": {},
   "outputs": [
    {
     "name": "stdout",
     "output_type": "stream",
     "text": [
      "junide.\n",
      "jakari.\n",
      "julisa.\n",
      "welva.\n",
      "kailn.\n",
      "tolian.\n",
      "juhtwan.\n",
      "anaau.\n",
      "amileah.\n",
      "jedeya.\n",
      "nowim.\n",
      "lesson.\n",
      "evyla.\n",
      "terinoth.\n",
      "thyfor.\n",
      "majmer.\n",
      "ashwah.\n",
      "jaylyn.\n",
      "reayren.\n",
      "caryja.\n"
     ]
    }
   ],
   "source": [
    "g = torch.Generator().manual_seed(2147483647)\n",
    "for _ in range(20):\n",
    "    out = []\n",
    "    context = [0 for _ in range(BLOCK_SIZE)]\n",
    "    while True:\n",
    "        emb = C[torch.tensor([context])]\n",
    "        h = torch.tanh(emb.view(1, -1) @ W1 + b1)\n",
    "        logits = h @ W2 + b2\n",
    "        probs = F.softmax(logits, dim=1)\n",
    "        ix = torch.multinomial(probs, num_samples=1, generator=g).item()\n",
    "        context = context[1:] + [ix]\n",
    "        out.append(ix)\n",
    "        if ix == 0:\n",
    "            break\n",
    "    print(str().join(itos[i] for i in out))"
   ]
  }
 ],
 "metadata": {
  "kernelspec": {
   "display_name": "ml-env",
   "language": "python",
   "name": "python3"
  },
  "language_info": {
   "codemirror_mode": {
    "name": "ipython",
    "version": 3
   },
   "file_extension": ".py",
   "mimetype": "text/x-python",
   "name": "python",
   "nbconvert_exporter": "python",
   "pygments_lexer": "ipython3",
   "version": "3.13.1"
  }
 },
 "nbformat": 4,
 "nbformat_minor": 5
}
