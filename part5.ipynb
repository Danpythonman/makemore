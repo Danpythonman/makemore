{
 "cells": [
  {
   "cell_type": "code",
   "execution_count": 1,
   "id": "9b022035",
   "metadata": {},
   "outputs": [],
   "source": [
    "import math\n",
    "import random\n",
    "import time\n",
    "from typing import List, Literal\n",
    "\n",
    "import matplotlib.gridspec as gridspec\n",
    "import matplotlib.patches as mpatches\n",
    "import matplotlib.pyplot as plt\n",
    "import torch\n",
    "from torch import Tensor\n",
    "import torch.nn.functional as F\n",
    "\n",
    "%matplotlib inline"
   ]
  },
  {
   "cell_type": "code",
   "execution_count": null,
   "id": "2da7a4a3",
   "metadata": {},
   "outputs": [
    {
     "name": "stdout",
     "output_type": "stream",
     "text": [
      "Using CUDA\n"
     ]
    }
   ],
   "source": [
    "if torch.cuda.is_available():\n",
    "    device = torch.device('cuda')\n",
    "    print('Using CUDA')\n",
    "else:\n",
    "    device = torch.device('cpu')\n",
    "    print('Using CPU')"
   ]
  },
  {
   "cell_type": "code",
   "execution_count": 3,
   "id": "785cb49f",
   "metadata": {},
   "outputs": [],
   "source": [
    "TRAINING_STEPS = 10_000"
   ]
  },
  {
   "cell_type": "code",
   "execution_count": 4,
   "id": "05409576",
   "metadata": {},
   "outputs": [],
   "source": [
    "RANDOM_SEED = 42\n",
    "TORCH_GENERATOR_SEED = 2147483647\n",
    "\n",
    "random.seed(RANDOM_SEED)\n",
    "g = torch.Generator(device=device).manual_seed(TORCH_GENERATOR_SEED)"
   ]
  },
  {
   "cell_type": "code",
   "execution_count": 5,
   "id": "71e08172",
   "metadata": {},
   "outputs": [
    {
     "data": {
      "text/plain": [
       "['emma', 'olivia', 'ava', 'isabella', 'sophia', 'charlotte', 'mia', 'amelia']"
      ]
     },
     "execution_count": 5,
     "metadata": {},
     "output_type": "execute_result"
    }
   ],
   "source": [
    "words = open('names.txt', 'r').read().splitlines()\n",
    "words[:8]"
   ]
  },
  {
   "cell_type": "code",
   "execution_count": 6,
   "id": "bbb2791d",
   "metadata": {},
   "outputs": [
    {
     "data": {
      "text/plain": [
       "32034"
      ]
     },
     "execution_count": 6,
     "metadata": {},
     "output_type": "execute_result"
    }
   ],
   "source": [
    "len(words)"
   ]
  },
  {
   "cell_type": "code",
   "execution_count": 7,
   "id": "a81c8955",
   "metadata": {},
   "outputs": [
    {
     "name": "stdout",
     "output_type": "stream",
     "text": [
      "{1: 'a', 2: 'b', 3: 'c', 4: 'd', 5: 'e', 6: 'f', 7: 'g', 8: 'h', 9: 'i', 10: 'j', 11: 'k', 12: 'l', 13: 'm', 14: 'n', 15: 'o', 16: 'p', 17: 'q', 18: 'r', 19: 's', 20: 't', 21: 'u', 22: 'v', 23: 'w', 24: 'x', 25: 'y', 26: 'z', 0: '.'}\n"
     ]
    }
   ],
   "source": [
    "chars = sorted(list(set(str().join(words))))\n",
    "stoi = {s: i+1 for i, s in enumerate(chars)}\n",
    "stoi['.'] = 0\n",
    "itos = {i: s for s, i in stoi.items()}\n",
    "print(itos)"
   ]
  },
  {
   "cell_type": "code",
   "execution_count": 8,
   "id": "1ea5e92b",
   "metadata": {},
   "outputs": [
    {
     "data": {
      "text/plain": [
       "27"
      ]
     },
     "execution_count": 8,
     "metadata": {},
     "output_type": "execute_result"
    }
   ],
   "source": [
    "vocab_size = len(itos)\n",
    "vocab_size"
   ]
  },
  {
   "cell_type": "code",
   "execution_count": 9,
   "id": "5707e9f4",
   "metadata": {},
   "outputs": [],
   "source": [
    "def build_dataset(words, block_size, device):\n",
    "    X_data, Y_data = [], []\n",
    "    for word in words:\n",
    "        context = [0 for _ in range(block_size)]\n",
    "        for ch in word + '.':\n",
    "            ix = stoi[ch]\n",
    "\n",
    "            X_data.append(context)\n",
    "            Y_data.append(ix)\n",
    "\n",
    "            context = context[1:] + [ix]\n",
    "\n",
    "    X = torch.tensor(X_data, device=device)\n",
    "    Y = torch.tensor(Y_data, device=device)\n",
    "    return X, Y"
   ]
  },
  {
   "cell_type": "code",
   "execution_count": 10,
   "id": "e17b14a9",
   "metadata": {},
   "outputs": [
    {
     "name": "stdout",
     "output_type": "stream",
     "text": [
      "X_tr.shape=torch.Size([182620, 3]), Y_tr.shape=torch.Size([182620])\n",
      "X_dev.shape=torch.Size([22664, 3]), Y_dev.shape=torch.Size([22664])\n",
      "X_te.shape=torch.Size([22869, 3]), Y_te.shape=torch.Size([22869])\n"
     ]
    }
   ],
   "source": [
    "block_size = 3\n",
    "\n",
    "random.shuffle(words)\n",
    "\n",
    "n1 = int(0.8 * len(words))\n",
    "n2 = int(0.9 * len(words))\n",
    "\n",
    "X_tr, Y_tr = build_dataset(words[:n1], block_size, device)\n",
    "X_dev, Y_dev = build_dataset(words[n1:n2], block_size, device)\n",
    "X_te, Y_te = build_dataset(words[n2:], block_size, device)\n",
    "\n",
    "print(f'{X_tr.shape=}, {Y_tr.shape=}\\n{X_dev.shape=}, {Y_dev.shape=}\\n{X_te.shape=}, {Y_te.shape=}')"
   ]
  },
  {
   "cell_type": "code",
   "execution_count": 11,
   "id": "64eff393",
   "metadata": {},
   "outputs": [],
   "source": [
    "from abc import ABC, abstractmethod\n",
    "\n",
    "class Layer(ABC):\n",
    "    out: Tensor | None\n",
    "\n",
    "    @abstractmethod\n",
    "    def parameters() -> List[Tensor]:\n",
    "        pass"
   ]
  },
  {
   "cell_type": "code",
   "execution_count": 12,
   "id": "5a7431b7",
   "metadata": {},
   "outputs": [],
   "source": [
    "class Linear(Layer):\n",
    "\n",
    "    def __init__(self, fan_in, fan_out, bias=True, generator=None, device=None):\n",
    "        self.weight = torch.randn((fan_in, fan_out), generator=generator, device=device) / torch.sqrt(torch.tensor(fan_in)).item()\n",
    "        self.bias = torch.zeros(fan_out, device=device) if bias else None\n",
    "\n",
    "    def __call__(self, x: Tensor):\n",
    "        self.out = x @ self.weight\n",
    "        if self.bias is not None:\n",
    "            self.out += self.bias\n",
    "        return self.out\n",
    "\n",
    "    def parameters(self):\n",
    "        return [self.weight] + ([] if self.bias is None else [self.bias])"
   ]
  },
  {
   "cell_type": "code",
   "execution_count": 13,
   "id": "36370efd",
   "metadata": {},
   "outputs": [],
   "source": [
    "class BatchNorm1d(Layer):\n",
    "\n",
    "    def __init__(self, dim, eps=1e-5, momentum=0.1, device=None):\n",
    "        self.eps = eps\n",
    "        self.momentum = momentum\n",
    "        self.training = True\n",
    "        self.gamma = torch.ones(dim, device=device)\n",
    "        self.beta = torch.zeros(dim, device=device)\n",
    "        self.running_mean = torch.zeros(dim, device=device)\n",
    "        self.running_var = torch.ones(dim, device=device)\n",
    "\n",
    "    def __call__(self, x: Tensor):\n",
    "        if self.training:\n",
    "            xmean = x.mean(0, keepdim=True)\n",
    "            xvar = x.var(0, keepdim=True)\n",
    "        else:\n",
    "            xmean = self.running_mean\n",
    "            xvar = self.running_var\n",
    "        xhat = (x - xmean) / torch.sqrt(xvar + self.eps)\n",
    "        self.out = self.gamma * xhat + self.beta\n",
    "        if self.training:\n",
    "            with torch.no_grad():\n",
    "                self.running_mean = (1 - self.momentum) * self.running_mean + self.momentum * xmean\n",
    "                self.running_var = (1 - self.momentum) * self.running_var + self.momentum * xvar\n",
    "        return self.out\n",
    "\n",
    "    def parameters(self):\n",
    "        return [self.gamma, self.beta]"
   ]
  },
  {
   "cell_type": "code",
   "execution_count": 14,
   "id": "b2f184f1",
   "metadata": {},
   "outputs": [],
   "source": [
    "class Tanh(Layer):\n",
    "\n",
    "    def __call__(self, x: Tensor):\n",
    "        self.out = torch.tanh(x)\n",
    "        return self.out\n",
    "\n",
    "    def parameters(self):\n",
    "        return []"
   ]
  },
  {
   "cell_type": "code",
   "execution_count": 15,
   "id": "439cf9c9",
   "metadata": {},
   "outputs": [],
   "source": [
    "class Embedding(Layer):\n",
    "\n",
    "    def __init__(self, num_embeddings, embedding_dim, generator = None, device = None):\n",
    "        self.weight = torch.randn((num_embeddings, embedding_dim), generator=generator, device=device)\n",
    "\n",
    "    def __call__(self, ix: Tensor) -> Tensor:\n",
    "        self.out = self.weight[ix]\n",
    "        return self.out\n",
    "\n",
    "    def parameters(self) -> List[Tensor]:\n",
    "        return [self.weight]"
   ]
  },
  {
   "cell_type": "code",
   "execution_count": 16,
   "id": "685d944b",
   "metadata": {},
   "outputs": [],
   "source": [
    "class Flatten(Layer):\n",
    "\n",
    "    def __call__(self, x: Tensor):\n",
    "        self.out = x.view(x.shape[0], -1)\n",
    "        return self.out\n",
    "\n",
    "    def parameters(self) -> List[Tensor]:\n",
    "        return []"
   ]
  },
  {
   "cell_type": "code",
   "execution_count": 17,
   "id": "f63a55c8",
   "metadata": {},
   "outputs": [
    {
     "name": "stdout",
     "output_type": "stream",
     "text": [
      "Number of parameters: 12097\n"
     ]
    }
   ],
   "source": [
    "n_embd = 10\n",
    "n_hidden = 200\n",
    "\n",
    "g = torch.Generator(device=device).manual_seed(TORCH_GENERATOR_SEED)\n",
    "C = torch.randn((vocab_size, n_embd), generator=g, device=device)\n",
    "\n",
    "layers: List[Layer] = [\n",
    "    Linear(n_embd * block_size, n_hidden, bias=False, generator=g, device=device),\n",
    "    BatchNorm1d(n_hidden, device=device),\n",
    "    Tanh(),\n",
    "    Linear(n_hidden, vocab_size, generator=g, device=device)\n",
    "]\n",
    "\n",
    "with torch.no_grad():\n",
    "    layers[-1].weight *= 0.1\n",
    "\n",
    "parameters = [C] + [p for layer in layers for p in layer.parameters()]\n",
    "for p in parameters:\n",
    "    p.requires_grad = True\n",
    "print(f'Number of parameters: {sum(p.nelement() for p in parameters)}')"
   ]
  },
  {
   "cell_type": "code",
   "execution_count": 18,
   "id": "72b28987",
   "metadata": {},
   "outputs": [],
   "source": [
    "def train(layers: List[Layer], C: Tensor, X_tr: Tensor, Y_tr: Tensor, lr = 0.01, max_steps = 200_000, batch_size=32, generator=None, device=None):\n",
    "    lossi = []\n",
    "    ud = []\n",
    "    for i in range(max_steps):\n",
    "        ix = torch.randint(0, X_tr.shape[0], (batch_size,), generator=generator, device=device)\n",
    "        Xb, Yb = X_tr[ix], Y_tr[ix]\n",
    "\n",
    "        emb = C[Xb]\n",
    "        x = emb.view(emb.shape[0], -1)\n",
    "        for layer in layers:\n",
    "            x = layer(x)\n",
    "        loss = F.cross_entropy(x, Yb)\n",
    "\n",
    "        for layer in layers:\n",
    "            if layer.out is not None:\n",
    "                layer.out.retain_grad()\n",
    "        for p in parameters:\n",
    "            p.grad = None\n",
    "        loss.backward()\n",
    "\n",
    "        lr = lr if i < max_steps / 2 else 0.01\n",
    "        for p in parameters:\n",
    "            p.data += -lr * p.grad\n",
    "\n",
    "        if max_steps < 25 or i % int(max_steps / 25) == 0:\n",
    "            print(f'Iteration: {i}/{max_steps}, Loss: {loss.item():.4f}')\n",
    "\n",
    "        lossi.append(loss.log10())\n",
    "\n",
    "        with torch.no_grad():\n",
    "            ud.append([((lr*p.grad).std() / p.data.std()).log10().item() for p in parameters])\n",
    "\n",
    "    return layers, lossi, ud"
   ]
  },
  {
   "cell_type": "code",
   "execution_count": 19,
   "id": "df9d2952",
   "metadata": {},
   "outputs": [
    {
     "name": "stdout",
     "output_type": "stream",
     "text": [
      "Iteration: 0/10000, Loss: 3.2933\n",
      "Iteration: 400/10000, Loss: 2.6315\n",
      "Iteration: 800/10000, Loss: 2.4377\n",
      "Iteration: 1200/10000, Loss: 2.2282\n",
      "Iteration: 1600/10000, Loss: 2.5048\n",
      "Iteration: 2000/10000, Loss: 2.2860\n",
      "Iteration: 2400/10000, Loss: 2.5616\n",
      "Iteration: 2800/10000, Loss: 2.3106\n",
      "Iteration: 3200/10000, Loss: 2.2955\n",
      "Iteration: 3600/10000, Loss: 1.9811\n",
      "Iteration: 4000/10000, Loss: 2.1862\n",
      "Iteration: 4400/10000, Loss: 2.3380\n",
      "Iteration: 4800/10000, Loss: 2.4798\n",
      "Iteration: 5200/10000, Loss: 2.1373\n",
      "Iteration: 5600/10000, Loss: 2.4296\n",
      "Iteration: 6000/10000, Loss: 2.4204\n",
      "Iteration: 6400/10000, Loss: 2.3689\n",
      "Iteration: 6800/10000, Loss: 2.2352\n",
      "Iteration: 7200/10000, Loss: 2.3575\n",
      "Iteration: 7600/10000, Loss: 2.3710\n",
      "Iteration: 8000/10000, Loss: 2.1628\n",
      "Iteration: 8400/10000, Loss: 2.1659\n",
      "Iteration: 8800/10000, Loss: 2.3149\n",
      "Iteration: 9200/10000, Loss: 2.7151\n",
      "Iteration: 9600/10000, Loss: 2.0900\n"
     ]
    }
   ],
   "source": [
    "layers, lossi, ud = train(layers, C, X_tr, Y_tr, max_steps=TRAINING_STEPS, lr=0.1, generator=g, device=device)"
   ]
  },
  {
   "cell_type": "code",
   "execution_count": 20,
   "id": "05655291",
   "metadata": {},
   "outputs": [
    {
     "data": {
      "image/png": "[encoded data removed]",
      "text/plain": [
       "<Figure size 640x480 with 1 Axes>"
      ]
     },
     "metadata": {},
     "output_type": "display_data"
    }
   ],
   "source": [
    "lossi_cpu = [l.item() for l in lossi]\n",
    "plt.figure()\n",
    "plt.plot(lossi_cpu)\n",
    "plt.title('Loss Over Training Iterations')\n",
    "plt.xlabel('Iteration')\n",
    "plt.ylabel('Loss')\n",
    "plt.grid()\n",
    "plt.show()"
   ]
  },
  {
   "cell_type": "code",
   "execution_count": 21,
   "id": "ca0bb7b3",
   "metadata": {},
   "outputs": [],
   "source": [
    "for layer in layers:\n",
    "    layer.training = False"
   ]
  },
  {
   "cell_type": "code",
   "execution_count": 22,
   "id": "801cd563",
   "metadata": {},
   "outputs": [],
   "source": [
    "@torch.no_grad()\n",
    "def loss_of_split(split: Literal['train'] | Literal['test'] | Literal['val'], layers: List[Layer]):\n",
    "    x, y = {\n",
    "        'train': (X_tr, Y_tr),\n",
    "        'val': (X_dev, Y_dev),\n",
    "        'test': (X_te, Y_te)\n",
    "    }[split]\n",
    "\n",
    "    emb = C[x]\n",
    "    x = emb.view(emb.shape[0], -1)\n",
    "    for layer in layers:\n",
    "        x = layer(x)\n",
    "    loss = F.cross_entropy(x, y)\n",
    "\n",
    "    print(f'Loss of \\'{split}\\' split: {loss.item():.4f}')"
   ]
  },
  {
   "cell_type": "code",
   "execution_count": 23,
   "id": "101f5c81",
   "metadata": {},
   "outputs": [
    {
     "name": "stdout",
     "output_type": "stream",
     "text": [
      "Loss of 'train' split: 2.2221\n",
      "Loss of 'val' split: 2.2310\n"
     ]
    }
   ],
   "source": [
    "loss_of_split('train', layers)\n",
    "loss_of_split('val', layers)"
   ]
  },
  {
   "cell_type": "code",
   "execution_count": 24,
   "id": "3a309084",
   "metadata": {},
   "outputs": [
    {
     "name": "stdout",
     "output_type": "stream",
     "text": [
      "ry.\n",
      "triger.\n",
      "mire.\n",
      "cist.\n",
      "yah.\n",
      "sharlyn.\n",
      "lec.\n",
      "ash.\n",
      "dedhanazrk.\n",
      "khanni.\n",
      "ja.\n",
      "oluwan.\n",
      "ne.\n",
      "ellie.\n",
      "ron.\n",
      "myl.\n",
      "jee.\n",
      "karsae.\n",
      "urar.\n",
      "ayline.\n"
     ]
    }
   ],
   "source": [
    "g = torch.Generator(device=device).manual_seed(TORCH_GENERATOR_SEED + 105)\n",
    "\n",
    "for _ in range(20):\n",
    "    out = []\n",
    "    context = [0 for _ in range(block_size)]\n",
    "\n",
    "    while True:\n",
    "        context_tensor = torch.tensor([context], device=device)\n",
    "\n",
    "        emb = C[context_tensor]\n",
    "        x = emb.view(emb.shape[0], -1)\n",
    "        for layer in layers:\n",
    "            x = layer(x)\n",
    "        logits = x\n",
    "        probs = F.softmax(logits, dim=1)\n",
    "        ix = torch.multinomial(probs, num_samples=1, generator=g).item()\n",
    "\n",
    "        context = context[1:] + [ix]\n",
    "        out.append(ix)\n",
    "\n",
    "        if ix == 0:\n",
    "            break\n",
    "\n",
    "    print(str().join(itos[i] for i in out))"
   ]
  },
  {
   "cell_type": "code",
   "execution_count": 25,
   "id": "cafba1d0",
   "metadata": {},
   "outputs": [
    {
     "data": {
      "image/png": "[encoded data removed]",
      "text/plain": [
       "<Figure size 640x480 with 1 Axes>"
      ]
     },
     "metadata": {},
     "output_type": "display_data"
    }
   ],
   "source": [
    "lossi_tensor = torch.tensor(lossi, device=device)\n",
    "plt.figure()\n",
    "plt.plot(lossi_tensor.view(-1, 1000).mean(1).cpu())\n",
    "plt.title('Loss Over Training Iterations')\n",
    "plt.xlabel('Iteration')\n",
    "plt.ylabel('Loss')\n",
    "plt.grid()\n",
    "plt.show()"
   ]
  },
  {
   "cell_type": "code",
   "execution_count": 26,
   "id": "3b8ddaf3",
   "metadata": {},
   "outputs": [],
   "source": [
    "class Sequential:\n",
    "\n",
    "    def __init__(self, layers: List[Layer]):\n",
    "        self.layers = layers\n",
    "\n",
    "    def __call__(self, x: Tensor) -> Tensor:\n",
    "        for layer in self.layers:\n",
    "            x = layer(x)\n",
    "        self.out = x\n",
    "        return self.out\n",
    "\n",
    "    def parameters(self) -> List[Tensor]:\n",
    "        return [p for layer in self.layers for p in layer.parameters()]"
   ]
  },
  {
   "cell_type": "code",
   "execution_count": 27,
   "id": "dfe66221",
   "metadata": {},
   "outputs": [
    {
     "name": "stdout",
     "output_type": "stream",
     "text": [
      "Number of parameters: 12097\n"
     ]
    }
   ],
   "source": [
    "n_embd = 10\n",
    "n_hidden = 200\n",
    "\n",
    "g = torch.Generator(device=device).manual_seed(TORCH_GENERATOR_SEED)\n",
    "\n",
    "model = Sequential([\n",
    "    Embedding(vocab_size, n_embd, generator=g, device=device),\n",
    "    Flatten(),\n",
    "    Linear(n_embd * block_size, n_hidden, bias=False, generator=g, device=device),\n",
    "    BatchNorm1d(n_hidden, device=device),\n",
    "    Tanh(),\n",
    "    Linear(n_hidden, vocab_size, generator=g, device=device)\n",
    "])\n",
    "\n",
    "with torch.no_grad():\n",
    "    layers[-1].weight *= 0.1\n",
    "\n",
    "for p in model.parameters():\n",
    "    p.requires_grad = True\n",
    "print(f'Number of parameters: {sum(p.nelement() for p in model.parameters())}')"
   ]
  },
  {
   "cell_type": "code",
   "execution_count": 28,
   "id": "02fe4027",
   "metadata": {},
   "outputs": [],
   "source": [
    "def train(model: Sequential, C: Tensor, X_tr: Tensor, Y_tr: Tensor, lr = 0.01, max_steps = 200_000, batch_size=32, generator=None, device=None):\n",
    "    lossi = []\n",
    "    ud = []\n",
    "    for i in range(max_steps):\n",
    "        ix = torch.randint(0, X_tr.shape[0], (batch_size,), generator=generator, device=device)\n",
    "        Xb, Yb = X_tr[ix], Y_tr[ix]\n",
    "\n",
    "        logits = model(Xb)\n",
    "        loss = F.cross_entropy(logits, Yb)\n",
    "\n",
    "        for layer in model.layers:\n",
    "            if layer.out is not None:\n",
    "                layer.out.retain_grad()\n",
    "        for p in model.parameters():\n",
    "            p.grad = None\n",
    "        loss.backward()\n",
    "\n",
    "        lr = lr if i < max_steps / 2 else lr / 10\n",
    "        for p in model.parameters():\n",
    "            p.data += -lr * p.grad\n",
    "\n",
    "        if max_steps < 25 or i % int(max_steps / 25) == 0:\n",
    "            print(f'Iteration: {i}/{max_steps}, Loss: {loss.item():.4f}')\n",
    "\n",
    "        lossi.append(loss.log10())\n",
    "\n",
    "        with torch.no_grad():\n",
    "            ud.append([((lr*p.grad).std() / p.data.std()).log10().item() for p in model.parameters()])\n",
    "\n",
    "    return model, lossi, ud"
   ]
  },
  {
   "cell_type": "code",
   "execution_count": 29,
   "id": "0c3ab0cc",
   "metadata": {},
   "outputs": [
    {
     "name": "stdout",
     "output_type": "stream",
     "text": [
      "Iteration: 0/10000, Loss: 3.4521\n",
      "Iteration: 400/10000, Loss: 2.5758\n",
      "Iteration: 800/10000, Loss: 2.4437\n",
      "Iteration: 1200/10000, Loss: 2.1994\n",
      "Iteration: 1600/10000, Loss: 2.5093\n",
      "Iteration: 2000/10000, Loss: 2.2985\n",
      "Iteration: 2400/10000, Loss: 2.5499\n",
      "Iteration: 2800/10000, Loss: 2.3200\n",
      "Iteration: 3200/10000, Loss: 2.2357\n",
      "Iteration: 3600/10000, Loss: 1.9933\n",
      "Iteration: 4000/10000, Loss: 2.1524\n",
      "Iteration: 4400/10000, Loss: 2.2831\n",
      "Iteration: 4800/10000, Loss: 2.5153\n",
      "Iteration: 5200/10000, Loss: 2.2134\n",
      "Iteration: 5600/10000, Loss: 2.4017\n",
      "Iteration: 6000/10000, Loss: 2.3431\n",
      "Iteration: 6400/10000, Loss: 2.3794\n",
      "Iteration: 6800/10000, Loss: 2.3468\n",
      "Iteration: 7200/10000, Loss: 2.4159\n",
      "Iteration: 7600/10000, Loss: 2.3267\n",
      "Iteration: 8000/10000, Loss: 2.3704\n",
      "Iteration: 8400/10000, Loss: 2.2850\n",
      "Iteration: 8800/10000, Loss: 2.2503\n",
      "Iteration: 9200/10000, Loss: 2.8121\n",
      "Iteration: 9600/10000, Loss: 2.1575\n"
     ]
    }
   ],
   "source": [
    "model, lossi, ud = train(model, C, X_tr, Y_tr, max_steps=TRAINING_STEPS, lr=0.1, generator=g, device=device)"
   ]
  },
  {
   "cell_type": "code",
   "execution_count": 30,
   "id": "6341c361",
   "metadata": {},
   "outputs": [],
   "source": [
    "@torch.no_grad()\n",
    "def loss_of_split(split: Literal['train'] | Literal['test'] | Literal['val'], model: Sequential):\n",
    "    x, y = {\n",
    "        'train': (X_tr, Y_tr),\n",
    "        'val': (X_dev, Y_dev),\n",
    "        'test': (X_te, Y_te)\n",
    "    }[split]\n",
    "\n",
    "    logits = model(x)\n",
    "    loss = F.cross_entropy(logits, y)\n",
    "\n",
    "    print(f'Loss of \\'{split}\\' split: {loss.item():.4f}')"
   ]
  },
  {
   "cell_type": "code",
   "execution_count": 31,
   "id": "d03d296d",
   "metadata": {},
   "outputs": [],
   "source": [
    "def generate(model: Sequential, number_of_names: int, block_size: int, generator = None, device = None) -> None:\n",
    "    for _ in range(number_of_names):\n",
    "        out = []\n",
    "        context = [0 for _ in range(block_size)]\n",
    "\n",
    "        while True:\n",
    "            context_tensor = torch.tensor([context], device=device)\n",
    "\n",
    "            logits = model(context_tensor)\n",
    "            probs = F.softmax(logits, dim=1)\n",
    "            ix = torch.multinomial(probs, num_samples=1, generator=g).item()\n",
    "\n",
    "            context = context[1:] + [ix]\n",
    "            out.append(ix)\n",
    "\n",
    "            if ix == 0:\n",
    "                break\n",
    "\n",
    "        print(str().join(itos[i] for i in out))"
   ]
  },
  {
   "cell_type": "code",
   "execution_count": 32,
   "id": "5f0aba0f",
   "metadata": {},
   "outputs": [],
   "source": [
    "for layer in model.layers:\n",
    "    layer.training = False"
   ]
  },
  {
   "cell_type": "code",
   "execution_count": 33,
   "id": "c5421b4e",
   "metadata": {},
   "outputs": [
    {
     "data": {
      "image/png": "[encoded data removed]",
      "text/plain": [
       "<Figure size 640x480 with 1 Axes>"
      ]
     },
     "metadata": {},
     "output_type": "display_data"
    }
   ],
   "source": [
    "lossi_tensor = torch.tensor(lossi, device=device)\n",
    "plt.figure()\n",
    "plt.plot(lossi_tensor.view(-1, 1000).mean(1).cpu())\n",
    "plt.title('Loss Over Training Iterations')\n",
    "plt.xlabel('Iteration')\n",
    "plt.ylabel('Loss')\n",
    "plt.grid()\n",
    "plt.show()"
   ]
  },
  {
   "cell_type": "code",
   "execution_count": 34,
   "id": "e9799018",
   "metadata": {},
   "outputs": [
    {
     "name": "stdout",
     "output_type": "stream",
     "text": [
      "Loss of 'train' split: 2.2854\n",
      "Loss of 'val' split: 2.2969\n"
     ]
    }
   ],
   "source": [
    "loss_of_split('train', model)\n",
    "loss_of_split('val', model)"
   ]
  },
  {
   "cell_type": "code",
   "execution_count": 35,
   "id": "222450fa",
   "metadata": {},
   "outputs": [
    {
     "name": "stdout",
     "output_type": "stream",
     "text": [
      "hy.\n",
      "trigen.\n",
      "mire.\n",
      "cia.\n",
      "gylin.\n",
      "ctilaalin.\n",
      "rosi.\n",
      "nudeanazra.\n",
      "khannie.\n",
      "g.\n",
      "oluwan.\n",
      "nia.\n",
      "lenem.\n",
      "ynemyl.\n",
      "jee.\n",
      "greste.\n",
      "urar.\n",
      "yya.\n",
      "meic.\n",
      "maria.\n"
     ]
    }
   ],
   "source": [
    "g = torch.Generator(device=device).manual_seed(TORCH_GENERATOR_SEED + 105)\n",
    "generate(model, 20, block_size, generator=g, device=device)"
   ]
  },
  {
   "cell_type": "code",
   "execution_count": 36,
   "id": "8070386e",
   "metadata": {},
   "outputs": [
    {
     "name": "stdout",
     "output_type": "stream",
     "text": [
      "X_tr.shape=torch.Size([182477, 8]), Y_tr.shape=torch.Size([182477])\n",
      "X_dev.shape=torch.Size([22854, 8]), Y_dev.shape=torch.Size([22854])\n",
      "X_te.shape=torch.Size([22822, 8]), Y_te.shape=torch.Size([22822])\n"
     ]
    }
   ],
   "source": [
    "block_size = 8\n",
    "\n",
    "random.shuffle(words)\n",
    "\n",
    "n1 = int(0.8 * len(words))\n",
    "n2 = int(0.9 * len(words))\n",
    "\n",
    "X_tr, Y_tr = build_dataset(words[:n1], block_size, device)\n",
    "X_dev, Y_dev = build_dataset(words[n1:n2], block_size, device)\n",
    "X_te, Y_te = build_dataset(words[n2:], block_size, device)\n",
    "\n",
    "print(f'{X_tr.shape=}, {Y_tr.shape=}\\n{X_dev.shape=}, {Y_dev.shape=}\\n{X_te.shape=}, {Y_te.shape=}')"
   ]
  },
  {
   "cell_type": "code",
   "execution_count": 37,
   "id": "f972e52f",
   "metadata": {},
   "outputs": [
    {
     "name": "stdout",
     "output_type": "stream",
     "text": [
      "Number of parameters: 22097\n"
     ]
    }
   ],
   "source": [
    "n_embd = 10\n",
    "n_hidden = 200\n",
    "\n",
    "g = torch.Generator(device=device).manual_seed(TORCH_GENERATOR_SEED)\n",
    "\n",
    "model = Sequential([\n",
    "    Embedding(vocab_size, n_embd, generator=g, device=device),\n",
    "    Flatten(),\n",
    "    Linear(n_embd * block_size, n_hidden, bias=False, generator=g, device=device),\n",
    "    BatchNorm1d(n_hidden, device=device),\n",
    "    Tanh(),\n",
    "    Linear(n_hidden, vocab_size, generator=g, device=device)\n",
    "])\n",
    "\n",
    "with torch.no_grad():\n",
    "    layers[-1].weight *= 0.1\n",
    "\n",
    "for p in model.parameters():\n",
    "    p.requires_grad = True\n",
    "print(f'Number of parameters: {sum(p.nelement() for p in model.parameters())}')"
   ]
  },
  {
   "cell_type": "code",
   "execution_count": 38,
   "id": "a31d9ce9",
   "metadata": {},
   "outputs": [
    {
     "name": "stdout",
     "output_type": "stream",
     "text": [
      "Iteration: 0/10000, Loss: 3.5835\n",
      "Iteration: 400/10000, Loss: 2.3818\n",
      "Iteration: 800/10000, Loss: 2.4318\n",
      "Iteration: 1200/10000, Loss: 2.4835\n",
      "Iteration: 1600/10000, Loss: 2.6323\n",
      "Iteration: 2000/10000, Loss: 2.3928\n",
      "Iteration: 2400/10000, Loss: 2.1230\n",
      "Iteration: 2800/10000, Loss: 2.3132\n",
      "Iteration: 3200/10000, Loss: 2.2332\n",
      "Iteration: 3600/10000, Loss: 2.2308\n",
      "Iteration: 4000/10000, Loss: 2.6740\n",
      "Iteration: 4400/10000, Loss: 2.0328\n",
      "Iteration: 4800/10000, Loss: 2.1251\n",
      "Iteration: 5200/10000, Loss: 2.5212\n",
      "Iteration: 5600/10000, Loss: 2.2447\n",
      "Iteration: 6000/10000, Loss: 2.6679\n",
      "Iteration: 6400/10000, Loss: 2.5799\n",
      "Iteration: 6800/10000, Loss: 2.3230\n",
      "Iteration: 7200/10000, Loss: 2.6698\n",
      "Iteration: 7600/10000, Loss: 2.2492\n",
      "Iteration: 8000/10000, Loss: 1.7497\n",
      "Iteration: 8400/10000, Loss: 2.3005\n",
      "Iteration: 8800/10000, Loss: 1.9513\n",
      "Iteration: 9200/10000, Loss: 2.6671\n",
      "Iteration: 9600/10000, Loss: 2.3957\n"
     ]
    }
   ],
   "source": [
    "model, lossi, ud = train(model, C, X_tr, Y_tr, max_steps=TRAINING_STEPS, lr=0.1, generator=g, device=device)"
   ]
  },
  {
   "cell_type": "code",
   "execution_count": 39,
   "id": "a6731df3",
   "metadata": {},
   "outputs": [
    {
     "name": "stdout",
     "output_type": "stream",
     "text": [
      "Layer: Embedding, Shape: (32, 8, 10)\n",
      "Layer: Flatten, Shape: (32, 80)\n",
      "Layer: Linear, Shape: (32, 200)\n",
      "Layer: BatchNorm1d, Shape: (32, 200)\n",
      "Layer: Tanh, Shape: (32, 200)\n",
      "Layer: Linear, Shape: (32, 27)\n"
     ]
    }
   ],
   "source": [
    "for layer in model.layers:\n",
    "    print(f'Layer: {layer.__class__.__name__}, Shape: {tuple(layer.out.shape)}')"
   ]
  },
  {
   "cell_type": "code",
   "execution_count": 40,
   "id": "5bad9ead",
   "metadata": {},
   "outputs": [],
   "source": [
    "for layer in model.layers:\n",
    "    layer.training = False"
   ]
  },
  {
   "cell_type": "code",
   "execution_count": 41,
   "id": "8f0c6b04",
   "metadata": {},
   "outputs": [
    {
     "name": "stdout",
     "output_type": "stream",
     "text": [
      "Loss of 'train' split: 2.2518\n",
      "Loss of 'val' split: 2.2763\n"
     ]
    }
   ],
   "source": [
    "loss_of_split('train', model)\n",
    "loss_of_split('val', model)"
   ]
  },
  {
   "cell_type": "code",
   "execution_count": 42,
   "id": "c07ec948",
   "metadata": {},
   "outputs": [
    {
     "data": {
      "image/png": "[encoded data removed]",
      "text/plain": [
       "<Figure size 640x480 with 1 Axes>"
      ]
     },
     "metadata": {},
     "output_type": "display_data"
    }
   ],
   "source": [
    "lossi_tensor = torch.tensor(lossi, device=device)\n",
    "plt.figure()\n",
    "plt.plot(lossi_tensor.view(-1, 1000).mean(1).cpu())\n",
    "plt.title('Loss Over Training Iterations')\n",
    "plt.xlabel('Iteration')\n",
    "plt.ylabel('Loss')\n",
    "plt.grid()\n",
    "plt.show()"
   ]
  },
  {
   "cell_type": "code",
   "execution_count": 43,
   "id": "fbfa0099",
   "metadata": {},
   "outputs": [
    {
     "name": "stdout",
     "output_type": "stream",
     "text": [
      "ryatreg.\n",
      "farlyn.\n",
      "cisteyn.\n",
      "chatrlyn.\n",
      "licen.\n",
      "janden.\n",
      "lozen.\n",
      "khanni.\n",
      "janoi.\n",
      "braste.\n",
      "elenem.\n",
      "animya.\n",
      "jeen.\n",
      "jasee.\n",
      "urarey.\n",
      "damer.\n",
      "kicjan.\n",
      "lorinn.\n",
      "kreler.\n",
      "karetton.\n"
     ]
    }
   ],
   "source": [
    "g = torch.Generator(device=device).manual_seed(TORCH_GENERATOR_SEED + 105)\n",
    "generate(model, 20, block_size, generator=g, device=device)"
   ]
  },
  {
   "cell_type": "code",
   "execution_count": 44,
   "id": "1a919f35",
   "metadata": {},
   "outputs": [],
   "source": [
    "class FlattenConsecutive(Layer):\n",
    "\n",
    "    def __init__(self, n: int):\n",
    "        self.n = n\n",
    "\n",
    "    def __call__(self, x: Tensor):\n",
    "        B, T, C = x.shape\n",
    "        x = x.view(B, T // self.n, C * self.n)\n",
    "        if x.shape[1] == 1:\n",
    "            x = x.squeeze(1)\n",
    "        self.out = x\n",
    "        return self.out\n",
    "\n",
    "    def parameters(self) -> List[Tensor]:\n",
    "        return []"
   ]
  },
  {
   "cell_type": "code",
   "execution_count": 45,
   "id": "622ed2d7",
   "metadata": {},
   "outputs": [
    {
     "name": "stdout",
     "output_type": "stream",
     "text": [
      "Number of parameters: 170897\n"
     ]
    }
   ],
   "source": [
    "n_embd = 10\n",
    "n_hidden = 200\n",
    "\n",
    "g = torch.Generator(device=device).manual_seed(TORCH_GENERATOR_SEED)\n",
    "\n",
    "model = Sequential([\n",
    "    Embedding(vocab_size, n_embd, generator=g, device=device),\n",
    "    FlattenConsecutive(2),\n",
    "    Linear(n_embd * 2, n_hidden, bias=False, generator=g, device=device),\n",
    "    BatchNorm1d(n_hidden, device=device),\n",
    "    Tanh(),\n",
    "    FlattenConsecutive(2),\n",
    "    Linear(n_hidden * 2, n_hidden, bias=False, generator=g, device=device),\n",
    "    BatchNorm1d(n_hidden, device=device),\n",
    "    Tanh(),\n",
    "    FlattenConsecutive(2),\n",
    "    Linear(n_hidden * 2, n_hidden, bias=False, generator=g, device=device),\n",
    "    BatchNorm1d(n_hidden, device=device),\n",
    "    Tanh(),\n",
    "    Linear(n_hidden, vocab_size, generator=g, device=device)\n",
    "])\n",
    "\n",
    "with torch.no_grad():\n",
    "    layers[-1].weight *= 0.1\n",
    "\n",
    "for p in model.parameters():\n",
    "    p.requires_grad = True\n",
    "print(f'Number of parameters: {sum(p.nelement() for p in model.parameters())}')"
   ]
  },
  {
   "cell_type": "code",
   "execution_count": 46,
   "id": "8becf4ea",
   "metadata": {},
   "outputs": [
    {
     "name": "stdout",
     "output_type": "stream",
     "text": [
      "Iteration: 0/10000, Loss: 3.4699\n",
      "Iteration: 400/10000, Loss: 2.6812\n",
      "Iteration: 800/10000, Loss: 2.3461\n",
      "Iteration: 1200/10000, Loss: 2.6891\n",
      "Iteration: 1600/10000, Loss: 2.4771\n",
      "Iteration: 2000/10000, Loss: 2.1646\n",
      "Iteration: 2400/10000, Loss: 2.0916\n",
      "Iteration: 2800/10000, Loss: 1.9738\n",
      "Iteration: 3200/10000, Loss: 2.2913\n",
      "Iteration: 3600/10000, Loss: 2.2251\n",
      "Iteration: 4000/10000, Loss: 2.0587\n",
      "Iteration: 4400/10000, Loss: 2.1598\n",
      "Iteration: 4800/10000, Loss: 2.7893\n",
      "Iteration: 5200/10000, Loss: 1.9576\n",
      "Iteration: 5600/10000, Loss: 2.3871\n",
      "Iteration: 6000/10000, Loss: 2.1031\n",
      "Iteration: 6400/10000, Loss: 2.6968\n",
      "Iteration: 6800/10000, Loss: 2.2583\n",
      "Iteration: 7200/10000, Loss: 2.1667\n",
      "Iteration: 7600/10000, Loss: 2.2325\n",
      "Iteration: 8000/10000, Loss: 2.3893\n",
      "Iteration: 8400/10000, Loss: 2.2697\n",
      "Iteration: 8800/10000, Loss: 1.9434\n",
      "Iteration: 9200/10000, Loss: 2.4022\n",
      "Iteration: 9600/10000, Loss: 2.4192\n"
     ]
    }
   ],
   "source": [
    "model, lossi, ud = train(model, C, X_tr, Y_tr, max_steps=TRAINING_STEPS, lr=0.1, generator=g, device=device)"
   ]
  },
  {
   "cell_type": "code",
   "execution_count": 47,
   "id": "3154a26e",
   "metadata": {},
   "outputs": [
    {
     "name": "stdout",
     "output_type": "stream",
     "text": [
      "Layer: Embedding, Shape: (32, 8, 10)\n",
      "Layer: FlattenConsecutive, Shape: (32, 4, 20)\n",
      "Layer: Linear, Shape: (32, 4, 200)\n",
      "Layer: BatchNorm1d, Shape: (32, 4, 200)\n",
      "Layer: Tanh, Shape: (32, 4, 200)\n",
      "Layer: FlattenConsecutive, Shape: (32, 2, 400)\n",
      "Layer: Linear, Shape: (32, 2, 200)\n",
      "Layer: BatchNorm1d, Shape: (32, 2, 200)\n",
      "Layer: Tanh, Shape: (32, 2, 200)\n",
      "Layer: FlattenConsecutive, Shape: (32, 400)\n",
      "Layer: Linear, Shape: (32, 200)\n",
      "Layer: BatchNorm1d, Shape: (32, 200)\n",
      "Layer: Tanh, Shape: (32, 200)\n",
      "Layer: Linear, Shape: (32, 27)\n"
     ]
    }
   ],
   "source": [
    "for layer in model.layers:\n",
    "    print(f'Layer: {layer.__class__.__name__}, Shape: {tuple(layer.out.shape)}')"
   ]
  },
  {
   "cell_type": "code",
   "execution_count": 48,
   "id": "7e5044c6",
   "metadata": {},
   "outputs": [],
   "source": [
    "for layer in model.layers:\n",
    "    layer.training = False"
   ]
  },
  {
   "cell_type": "code",
   "execution_count": 49,
   "id": "7fcd0ff2",
   "metadata": {},
   "outputs": [
    {
     "name": "stdout",
     "output_type": "stream",
     "text": [
      "Loss of 'train' split: 2.2100\n",
      "Loss of 'val' split: 2.2395\n"
     ]
    }
   ],
   "source": [
    "loss_of_split('train', model)\n",
    "loss_of_split('val', model)"
   ]
  },
  {
   "cell_type": "code",
   "execution_count": 50,
   "id": "d696531b",
   "metadata": {},
   "outputs": [
    {
     "data": {
      "image/png": "[encoded data removed]",
      "text/plain": [
       "<Figure size 640x480 with 1 Axes>"
      ]
     },
     "metadata": {},
     "output_type": "display_data"
    }
   ],
   "source": [
    "lossi_tensor = torch.tensor(lossi, device=device)\n",
    "plt.figure()\n",
    "plt.plot(lossi_tensor.view(-1, 1000).mean(1).cpu())\n",
    "plt.title('Loss Over Training Iterations')\n",
    "plt.xlabel('Iteration')\n",
    "plt.ylabel('Loss')\n",
    "plt.grid()\n",
    "plt.show()"
   ]
  },
  {
   "cell_type": "code",
   "execution_count": 51,
   "id": "09f342c8",
   "metadata": {},
   "outputs": [
    {
     "name": "stdout",
     "output_type": "stream",
     "text": [
      "ryrtreg.\n",
      "farlyn.\n",
      "cisteyn.\n",
      "chrtilyn.\n",
      "licen.\n",
      "jadfena.\n",
      "azro.\n",
      "khanni.\n",
      "jaheigh.\n",
      "arle.\n",
      "clenlee.\n",
      "comyl.\n",
      "jeer.\n",
      "jasee.\n",
      "urlinay.\n",
      "coeh.\n",
      "kicjan.\n",
      "joanzin.\n",
      "reler.\n",
      "karryan.\n"
     ]
    }
   ],
   "source": [
    "g = torch.Generator(device=device).manual_seed(TORCH_GENERATOR_SEED + 105)\n",
    "generate(model, 20, block_size, generator=g, device=device)"
   ]
  },
  {
   "cell_type": "code",
   "execution_count": 52,
   "id": "c5eb278f",
   "metadata": {},
   "outputs": [],
   "source": [
    "class BatchNorm1d(Layer):\n",
    "\n",
    "    def __init__(self, dim, eps=1e-5, momentum=0.1, device=None):\n",
    "        self.eps = eps\n",
    "        self.momentum = momentum\n",
    "        self.training = True\n",
    "        self.gamma = torch.ones(dim, device=device)\n",
    "        self.beta = torch.zeros(dim, device=device)\n",
    "        self.running_mean = torch.zeros(dim, device=device)\n",
    "        self.running_var = torch.ones(dim, device=device)\n",
    "\n",
    "    def __call__(self, x: Tensor):\n",
    "        if self.training:\n",
    "            if x.ndim == 2:\n",
    "                dim = 0\n",
    "            elif x.ndim == 3:\n",
    "                dim = (0, 1)\n",
    "            xmean = x.mean(dim, keepdim=True)\n",
    "            xvar = x.var(dim, keepdim=True)\n",
    "        else:\n",
    "            xmean = self.running_mean\n",
    "            xvar = self.running_var\n",
    "        xhat = (x - xmean) / torch.sqrt(xvar + self.eps)\n",
    "        self.out = self.gamma * xhat + self.beta\n",
    "        if self.training:\n",
    "            with torch.no_grad():\n",
    "                self.running_mean = (1 - self.momentum) * self.running_mean + self.momentum * xmean\n",
    "                self.running_var = (1 - self.momentum) * self.running_var + self.momentum * xvar\n",
    "        return self.out\n",
    "\n",
    "    def parameters(self):\n",
    "        return [self.gamma, self.beta]"
   ]
  },
  {
   "cell_type": "code",
   "execution_count": 67,
   "id": "f6f75405",
   "metadata": {},
   "outputs": [
    {
     "name": "stdout",
     "output_type": "stream",
     "text": [
      "Number of parameters: 176875\n"
     ]
    }
   ],
   "source": [
    "n_embd = 24\n",
    "n_hidden = 200\n",
    "\n",
    "g = torch.Generator(device=device).manual_seed(TORCH_GENERATOR_SEED)\n",
    "\n",
    "model = Sequential([\n",
    "    Embedding(vocab_size, n_embd, generator=g, device=device),\n",
    "    FlattenConsecutive(2),\n",
    "    Linear(n_embd * 2, n_hidden, bias=False, generator=g, device=device),\n",
    "    BatchNorm1d(n_hidden, device=device),\n",
    "    Tanh(),\n",
    "    FlattenConsecutive(2),\n",
    "    Linear(n_hidden * 2, n_hidden, bias=False, generator=g, device=device),\n",
    "    BatchNorm1d(n_hidden, device=device),\n",
    "    Tanh(),\n",
    "    FlattenConsecutive(2),\n",
    "    Linear(n_hidden * 2, n_hidden, bias=False, generator=g, device=device),\n",
    "    BatchNorm1d(n_hidden, device=device),\n",
    "    Tanh(),\n",
    "    Linear(n_hidden, vocab_size, generator=g, device=device)\n",
    "])\n",
    "\n",
    "with torch.no_grad():\n",
    "    layers[-1].weight *= 0.1\n",
    "\n",
    "for p in model.parameters():\n",
    "    p.requires_grad = True\n",
    "print(f'Number of parameters: {sum(p.nelement() for p in model.parameters())}')"
   ]
  },
  {
   "cell_type": "code",
   "execution_count": 68,
   "id": "888853a1",
   "metadata": {},
   "outputs": [
    {
     "name": "stdout",
     "output_type": "stream",
     "text": [
      "Iteration: 0/200000, Loss: 3.4476\n",
      "Iteration: 8000/200000, Loss: 2.3269\n",
      "Iteration: 16000/200000, Loss: 2.1908\n",
      "Iteration: 24000/200000, Loss: 1.8313\n",
      "Iteration: 32000/200000, Loss: 1.6775\n",
      "Iteration: 40000/200000, Loss: 2.2805\n",
      "Iteration: 48000/200000, Loss: 2.4196\n",
      "Iteration: 56000/200000, Loss: 1.8444\n",
      "Iteration: 64000/200000, Loss: 1.7490\n",
      "Iteration: 72000/200000, Loss: 1.8997\n",
      "Iteration: 80000/200000, Loss: 1.6771\n",
      "Iteration: 88000/200000, Loss: 1.6489\n",
      "Iteration: 96000/200000, Loss: 1.7350\n",
      "Iteration: 104000/200000, Loss: 1.7969\n",
      "Iteration: 112000/200000, Loss: 1.9825\n",
      "Iteration: 120000/200000, Loss: 1.6896\n",
      "Iteration: 128000/200000, Loss: 1.6712\n",
      "Iteration: 136000/200000, Loss: 2.1774\n",
      "Iteration: 144000/200000, Loss: 2.1956\n",
      "Iteration: 152000/200000, Loss: 2.1388\n",
      "Iteration: 160000/200000, Loss: 1.5309\n",
      "Iteration: 168000/200000, Loss: 1.8049\n",
      "Iteration: 176000/200000, Loss: 1.7873\n",
      "Iteration: 184000/200000, Loss: 2.0720\n",
      "Iteration: 192000/200000, Loss: 2.1170\n"
     ]
    }
   ],
   "source": [
    "model, lossi, ud = train(model, C, X_tr, Y_tr, max_steps=200_000, lr=0.1, generator=g, device=device)"
   ]
  },
  {
   "cell_type": "code",
   "execution_count": 69,
   "id": "32a11571",
   "metadata": {},
   "outputs": [
    {
     "name": "stdout",
     "output_type": "stream",
     "text": [
      "Layer: Embedding, Shape: (32, 8, 24)\n",
      "Layer: FlattenConsecutive, Shape: (32, 4, 48)\n",
      "Layer: Linear, Shape: (32, 4, 200)\n",
      "Layer: BatchNorm1d, Shape: (32, 4, 200)\n",
      "Layer: Tanh, Shape: (32, 4, 200)\n",
      "Layer: FlattenConsecutive, Shape: (32, 2, 400)\n",
      "Layer: Linear, Shape: (32, 2, 200)\n",
      "Layer: BatchNorm1d, Shape: (32, 2, 200)\n",
      "Layer: Tanh, Shape: (32, 2, 200)\n",
      "Layer: FlattenConsecutive, Shape: (32, 400)\n",
      "Layer: Linear, Shape: (32, 200)\n",
      "Layer: BatchNorm1d, Shape: (32, 200)\n",
      "Layer: Tanh, Shape: (32, 200)\n",
      "Layer: Linear, Shape: (32, 27)\n"
     ]
    }
   ],
   "source": [
    "for layer in model.layers:\n",
    "    print(f'Layer: {layer.__class__.__name__}, Shape: {tuple(layer.out.shape)}')"
   ]
  },
  {
   "cell_type": "code",
   "execution_count": 70,
   "id": "df981c2d",
   "metadata": {},
   "outputs": [],
   "source": [
    "for layer in model.layers:\n",
    "    layer.training = False"
   ]
  },
  {
   "cell_type": "code",
   "execution_count": 71,
   "id": "4e634acd",
   "metadata": {},
   "outputs": [
    {
     "name": "stdout",
     "output_type": "stream",
     "text": [
      "Loss of 'train' split: 1.8592\n",
      "Loss of 'val' split: 2.0425\n"
     ]
    }
   ],
   "source": [
    "loss_of_split('train', model)\n",
    "loss_of_split('val', model)"
   ]
  },
  {
   "cell_type": "code",
   "execution_count": 72,
   "id": "06f9d937",
   "metadata": {},
   "outputs": [
    {
     "data": {
      "image/png": "[encoded data removed]",
      "text/plain": [
       "<Figure size 640x480 with 1 Axes>"
      ]
     },
     "metadata": {},
     "output_type": "display_data"
    }
   ],
   "source": [
    "lossi_tensor = torch.tensor(lossi, device=device)\n",
    "plt.figure()\n",
    "plt.plot(lossi_tensor.view(-1, 1000).mean(1).cpu())\n",
    "plt.title('Loss Over Training Iterations')\n",
    "plt.xlabel('Iteration')\n",
    "plt.ylabel('Loss')\n",
    "plt.grid()\n",
    "plt.show()"
   ]
  },
  {
   "cell_type": "code",
   "execution_count": 78,
   "id": "c87d7aed",
   "metadata": {},
   "outputs": [
    {
     "name": "stdout",
     "output_type": "stream",
     "text": [
      "luxx.\n",
      "luxden.\n",
      "preslyn.\n",
      "alaiyah.\n",
      "hajeer.\n",
      "kayena.\n",
      "kaylani.\n",
      "danuan.\n",
      "kweljom.\n",
      "kaylei.\n",
      "kensley.\n",
      "jacklel.\n",
      "alyseha.\n",
      "farhett.\n",
      "avaes.\n",
      "jordinn.\n",
      "leslyn.\n",
      "brandon.\n",
      "diontario.\n",
      "kahyari.\n"
     ]
    }
   ],
   "source": [
    "g = torch.Generator(device=device).manual_seed(TORCH_GENERATOR_SEED + 15)\n",
    "generate(model, 20, block_size, generator=g, device=device)"
   ]
  }
 ],
 "metadata": {
  "kernelspec": {
   "display_name": "ml_cuda12.2",
   "language": "python",
   "name": "python3"
  },
  "language_info": {
   "codemirror_mode": {
    "name": "ipython",
    "version": 3
   },
   "file_extension": ".py",
   "mimetype": "text/x-python",
   "name": "python",
   "nbconvert_exporter": "python",
   "pygments_lexer": "ipython3",
   "version": "3.12.9"
  }
 },
 "nbformat": 4,
 "nbformat_minor": 5
}
