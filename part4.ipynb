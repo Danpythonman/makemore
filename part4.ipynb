{
 "cells": [
  {
   "cell_type": "code",
   "execution_count": 1,
   "id": "4751d2a9",
   "metadata": {},
   "outputs": [],
   "source": [
    "import math\n",
    "import random\n",
    "import time\n",
    "from typing import List, Literal\n",
    "\n",
    "import matplotlib.gridspec as gridspec\n",
    "import matplotlib.patches as mpatches\n",
    "import matplotlib.pyplot as plt\n",
    "import torch\n",
    "from torch import Tensor\n",
    "import torch.nn.functional as F\n",
    "\n",
    "%matplotlib inline"
   ]
  },
  {
   "cell_type": "code",
   "execution_count": 3,
   "id": "17ef3138",
   "metadata": {},
   "outputs": [
    {
     "name": "stdout",
     "output_type": "stream",
     "text": [
      "Using CPU\n"
     ]
    }
   ],
   "source": [
    "if torch.cuda.is_available():\n",
    "    device = torch.device('cuda')\n",
    "    print('Using CUDA')\n",
    "else:\n",
    "    device = torch.device('cpu')\n",
    "    print('Using CPU')"
   ]
  },
  {
   "cell_type": "code",
   "execution_count": 3,
   "id": "f5e2af1b",
   "metadata": {},
   "outputs": [],
   "source": [
    "RANDOM_SEED = 42\n",
    "TORCH_GENERATOR_SEED = 2147483647\n",
    "\n",
    "random.seed(RANDOM_SEED)\n",
    "g = torch.Generator(device=device).manual_seed(TORCH_GENERATOR_SEED)"
   ]
  },
  {
   "cell_type": "code",
   "execution_count": 4,
   "id": "917eec33",
   "metadata": {},
   "outputs": [
    {
     "data": {
      "text/plain": [
       "['emma', 'olivia', 'ava', 'isabella', 'sophia', 'charlotte', 'mia', 'amelia']"
      ]
     },
     "execution_count": 4,
     "metadata": {},
     "output_type": "execute_result"
    }
   ],
   "source": [
    "words = open('names.txt', 'r').read().splitlines()\n",
    "words[:8]"
   ]
  },
  {
   "cell_type": "code",
   "execution_count": 5,
   "id": "b51d88e5",
   "metadata": {},
   "outputs": [
    {
     "data": {
      "text/plain": [
       "32033"
      ]
     },
     "execution_count": 5,
     "metadata": {},
     "output_type": "execute_result"
    }
   ],
   "source": [
    "len(words)"
   ]
  },
  {
   "cell_type": "code",
   "execution_count": 6,
   "id": "d7b1f516",
   "metadata": {},
   "outputs": [
    {
     "name": "stdout",
     "output_type": "stream",
     "text": [
      "{1: 'a', 2: 'b', 3: 'c', 4: 'd', 5: 'e', 6: 'f', 7: 'g', 8: 'h', 9: 'i', 10: 'j', 11: 'k', 12: 'l', 13: 'm', 14: 'n', 15: 'o', 16: 'p', 17: 'q', 18: 'r', 19: 's', 20: 't', 21: 'u', 22: 'v', 23: 'w', 24: 'x', 25: 'y', 26: 'z', 0: '.'}\n"
     ]
    }
   ],
   "source": [
    "chars = sorted(list(set(str().join(words))))\n",
    "stoi = {s: i+1 for i, s in enumerate(chars)}\n",
    "stoi['.'] = 0\n",
    "itos = {i: s for s, i in stoi.items()}\n",
    "print(itos)"
   ]
  },
  {
   "cell_type": "code",
   "execution_count": 7,
   "id": "d112dc70",
   "metadata": {},
   "outputs": [
    {
     "data": {
      "text/plain": [
       "27"
      ]
     },
     "execution_count": 7,
     "metadata": {},
     "output_type": "execute_result"
    }
   ],
   "source": [
    "vocab_size = len(itos)\n",
    "vocab_size"
   ]
  },
  {
   "cell_type": "code",
   "execution_count": 8,
   "id": "c6bbb8d3",
   "metadata": {},
   "outputs": [],
   "source": [
    "def build_dataset(words, block_size, device):\n",
    "    X_data, Y_data = [], []\n",
    "    for word in words:\n",
    "        context = [0 for _ in range(block_size)]\n",
    "        for ch in word + '.':\n",
    "            ix = stoi[ch]\n",
    "\n",
    "            X_data.append(context)\n",
    "            Y_data.append(ix)\n",
    "\n",
    "            context = context[1:] + [ix]\n",
    "\n",
    "    X = torch.tensor(X_data, device=device)\n",
    "    Y = torch.tensor(Y_data, device=device)\n",
    "    return X, Y"
   ]
  },
  {
   "cell_type": "code",
   "execution_count": 9,
   "id": "5f07c9cc",
   "metadata": {},
   "outputs": [
    {
     "name": "stdout",
     "output_type": "stream",
     "text": [
      "X_tr.shape=torch.Size([182625, 3]), Y_tr.shape=torch.Size([182625])\n",
      "X_dev.shape=torch.Size([22655, 3]), Y_dev.shape=torch.Size([22655])\n",
      "X_te.shape=torch.Size([22866, 3]), Y_te.shape=torch.Size([22866])\n"
     ]
    }
   ],
   "source": [
    "block_size = 3\n",
    "\n",
    "random.shuffle(words)\n",
    "\n",
    "n1 = int(0.8 * len(words))\n",
    "n2 = int(0.9 * len(words))\n",
    "\n",
    "X_tr, Y_tr = build_dataset(words[:n1], block_size, device)\n",
    "X_dev, Y_dev = build_dataset(words[n1:n2], block_size, device)\n",
    "X_te, Y_te = build_dataset(words[n2:], block_size, device)\n",
    "\n",
    "print(f'{X_tr.shape=}, {Y_tr.shape=}\\n{X_dev.shape=}, {Y_dev.shape=}\\n{X_te.shape=}, {Y_te.shape=}')"
   ]
  },
  {
   "cell_type": "code",
   "execution_count": 10,
   "id": "953c6c42",
   "metadata": {},
   "outputs": [],
   "source": [
    "def cmp(s, dt, t):\n",
    "    ex = torch.all(dt == t.grad).item()\n",
    "    app = torch.allclose(dt, t.grad)\n",
    "    maxdiff = (dt - t.grad).abs().max().item()\n",
    "    print(f'{s:15s} | exact: {str(ex):5s} | approximate: {str(app):5s} | maxdiff: {maxdiff}')"
   ]
  },
  {
   "cell_type": "code",
   "execution_count": 11,
   "id": "47b5c3a2",
   "metadata": {},
   "outputs": [
    {
     "name": "stdout",
     "output_type": "stream",
     "text": [
      "Number of parameters: 4137\n"
     ]
    }
   ],
   "source": [
    "n_embd = 10\n",
    "n_hidden = 64\n",
    "\n",
    "C = torch.randn((vocab_size, n_embd),             generator=g, device=device)\n",
    "W1 = torch.randn((n_embd * block_size, n_hidden), generator=g, device=device) * (5.0/3.0) / (math.sqrt(n_embd * block_size))\n",
    "b1 = torch.randn(n_hidden,                        generator=g, device=device) * 0.1\n",
    "W2 = torch.randn((n_hidden, vocab_size),          generator=g, device=device) * 0.1\n",
    "b2 = torch.randn(vocab_size,                      generator=g, device=device) * 0.1\n",
    "\n",
    "bngain = torch.randn((1, n_hidden), device=device) * 0.1 + 1.0\n",
    "bnbias = torch.randn((1, n_hidden), device=device) * 0.1\n",
    "\n",
    "parameters = [C, W1, b1, W2, b2, bngain, bnbias]\n",
    "for p in parameters:\n",
    "    p.requires_grad = True\n",
    "\n",
    "print(f'Number of parameters: {sum(p.nelement() for p in parameters)}')"
   ]
  },
  {
   "cell_type": "code",
   "execution_count": 12,
   "id": "f5b4718d",
   "metadata": {},
   "outputs": [],
   "source": [
    "batch_size = 32\n",
    "ix = torch.randint(0, X_tr.shape[0], (batch_size,), generator=g, device=device)\n",
    "Xb, Yb = X_tr[ix], Y_tr[ix]"
   ]
  },
  {
   "cell_type": "code",
   "execution_count": 13,
   "id": "382b4b11",
   "metadata": {},
   "outputs": [
    {
     "data": {
      "text/plain": [
       "tensor(3.3541, grad_fn=<NegBackward0>)"
      ]
     },
     "execution_count": 13,
     "metadata": {},
     "output_type": "execute_result"
    }
   ],
   "source": [
    "emb = C[Xb]\n",
    "embcat = emb.view(emb.shape[0], -1)\n",
    "\n",
    "hprebn = embcat @ W1 + b1\n",
    "\n",
    "bnmeani = 1.0 / batch_size * hprebn.sum(0, keepdim=True)\n",
    "bndiff = hprebn - bnmeani\n",
    "bndiff2 = bndiff**2\n",
    "bnvar = 1 / (batch_size-1) * bndiff2.sum(0, keepdim=True)\n",
    "bnvar_inv = (bnvar + 1e-5)**-0.5\n",
    "bnraw = bndiff * bnvar_inv\n",
    "\n",
    "hpreact = bngain * bnraw + bnbias\n",
    "h = torch.tanh(hpreact)\n",
    "\n",
    "logits = h @ W2 + b2\n",
    "\n",
    "logit_maxes = logits.max(1, keepdim=True).values\n",
    "norm_logits = logits - logit_maxes               # Subtract by max for numerical safety\n",
    "\n",
    "counts = norm_logits.exp()\n",
    "counts_sum = counts.sum(1, keepdim=True)\n",
    "counts_sum_inv = counts_sum**-1\n",
    "probs = counts * counts_sum_inv                 # Multiplying by inverse instead of dividing\n",
    "logprobs = probs.log()\n",
    "loss = -logprobs[range(batch_size), Yb].mean()\n",
    "\n",
    "for p in parameters:\n",
    "    p.grad = None\n",
    "\n",
    "for t in [logprobs, probs, counts, counts_sum, counts_sum_inv, norm_logits, logit_maxes, logits, h, hpreact, bnraw, bnvar_inv, bnvar, bndiff2, bndiff, hprebn, bnmeani, embcat, emb]:\n",
    "    t.retain_grad()\n",
    "loss.backward()\n",
    "loss"
   ]
  },
  {
   "cell_type": "code",
   "execution_count": 14,
   "id": "7a0b965b",
   "metadata": {},
   "outputs": [
    {
     "data": {
      "text/plain": [
       "torch.Size([32])"
      ]
     },
     "execution_count": 14,
     "metadata": {},
     "output_type": "execute_result"
    }
   ],
   "source": [
    "logprobs[range(batch_size),Yb].shape"
   ]
  },
  {
   "cell_type": "markdown",
   "id": "4ef776fa",
   "metadata": {},
   "source": [
    "## Exercise 1 - Back-Propagation Manually through each Intermediate Step\n",
    "\n",
    "### Derivative of `loss` with respect to `logprobs`.\n",
    "\n",
    "The `logprobs` tensor has dimension $32 \\times 27$."
   ]
  },
  {
   "cell_type": "code",
   "execution_count": 15,
   "id": "338d4057",
   "metadata": {},
   "outputs": [
    {
     "data": {
      "text/plain": [
       "torch.Size([32, 27])"
      ]
     },
     "execution_count": 15,
     "metadata": {},
     "output_type": "execute_result"
    }
   ],
   "source": [
    "logprobs.shape"
   ]
  },
  {
   "cell_type": "markdown",
   "id": "d532848f",
   "metadata": {},
   "source": [
    "Let $m = 32$ be the batch size, $n = 27$ be the vocabulary size, and $\\mathbf{LP}$ be the `logprobs` tensor.\n",
    "\n",
    "$$\n",
    "\\mathbf{LP} = \\begin{bmatrix}\n",
    "lp_{1 \\, 1} & lp_{1 \\, 2} & \\dots & lp_{1 \\, n}\\\\\n",
    "lp_{2 \\, 1} & lp_{2 \\, 2} & \\dots & lp_{2 \\, n}\\\\\n",
    "\\vdots   & \\vdots   & \\ddots & \\vdots\\\\\n",
    "lp_{m \\, 1} & lp_{m \\, 2} & \\dots & lp_{m \\, n}\\\\\n",
    "\\end{bmatrix}\n",
    "$$\n",
    "\n",
    "Let $\\mathscr{L}$ be the loss. We want to find $\\frac{\\partial \\mathscr{L}}{\\partial \\mathbf{LP}}$.\n",
    "\n",
    "We calculate loss as\n",
    "\n",
    "```python\n",
    "loss = -logprobs[range(batch_size), Yb].mean()\n",
    "```\n",
    "\n",
    "So let's first find an expression for `-logprobs[range(batch_size), Yb]`. We call this tensor $\\mathbf{LP_b}$. We index the rows with `range(batch_size)`, which means we get all rows $0, 1, \\dots, m$. And for each row we index that row with `Yb`. This means the size of `Yb` must be the batch size. Indeed it is."
   ]
  },
  {
   "cell_type": "code",
   "execution_count": 16,
   "id": "18367560",
   "metadata": {},
   "outputs": [
    {
     "name": "stdout",
     "output_type": "stream",
     "text": [
      "len(range(batch_size))=32, Yb.shape=torch.Size([32])\n"
     ]
    }
   ],
   "source": [
    "print(f'{len(range(batch_size))=}, {Yb.shape=}')"
   ]
  },
  {
   "cell_type": "markdown",
   "id": "4066238d",
   "metadata": {},
   "source": [
    "The vector $\\mathbf{LP}_b$ can be expressed as\n",
    "\n",
    "$$\n",
    "\\mathbf{LP}_b = \\begin{bmatrix}\n",
    "    \\mathbf{LP}_{1 \\; {\\mathbf{y}_b}_1}\\\\\n",
    "    \\mathbf{LP}_{2 \\; {\\mathbf{y}_b}_2}\\\\\n",
    "    \\vdots\\\\\n",
    "    \\mathbf{LP}_{m \\; {\\mathbf{y}_b}_m}\\\\\n",
    "\\end{bmatrix}\n",
    "$$\n",
    "\n",
    "And the loss is the negative mean of the elements in this vector.\n",
    "\n",
    "$$\n",
    "\\mathscr{L} = - \\frac{{\\mathbf{y}_b}_1 + {\\mathbf{y}_b}_2 + \\dots + {\\mathbf{y}_b}_m}{m}\n",
    "$$\n",
    "\n",
    "For the elements of $\\mathbf{LP}$ that are part of $\\mathbf{LP}_b$, the loss $\\frac{\\partial \\mathscr{L}}{\\partial \\mathbf{LP}_{i \\, j}}$ is\n",
    "\n",
    "$$\n",
    "\\begin{align*}\n",
    "    \\frac{\\partial \\mathscr{L}}{\\partial \\mathbf{LP}_{i \\, j}} &= \\frac{\\partial}{\\partial \\mathbf{LP}_{i j}} \\left( - \\frac{{\\mathbf{y}_b}_1 + {\\mathbf{y}_b}_2 + \\dots + {\\mathbf{y}_b}_m}{m} \\right)\\\\\n",
    "    &= 0 + 0 + \\dots + \\frac{\\partial}{\\partial \\mathbf{LP}_{i j}} \\left( - \\frac{\\mathbf{LP}_{i \\, j}}{m} \\right) + \\dots + 0 + 0\\\\\n",
    "    \\frac{\\partial \\mathscr{L}}{\\partial \\mathbf{LP}_{i \\, j}} &= -\\frac{1}{m}\n",
    "\\end{align*}\n",
    "$$\n",
    "\n",
    "For the elements of $\\mathbf{LP}$ that are *not* part of $\\mathbf{LP}_b$, the loss $\\frac{\\partial \\mathscr{L}}{\\partial \\mathbf{LP}_{i \\, j}}$ is $0$."
   ]
  },
  {
   "cell_type": "code",
   "execution_count": 17,
   "id": "175ad230",
   "metadata": {},
   "outputs": [
    {
     "name": "stdout",
     "output_type": "stream",
     "text": [
      "logprobs        | exact: True  | approximate: True  | maxdiff: 0.0\n"
     ]
    }
   ],
   "source": [
    "dlogprobs = torch.zeros_like(logprobs)\n",
    "dlogprobs[range(batch_size), Yb] = -1 / batch_size\n",
    "cmp('logprobs', dlogprobs, logprobs)"
   ]
  },
  {
   "cell_type": "markdown",
   "id": "e9f5cca9",
   "metadata": {},
   "source": [
    "### Derivative of `loss` with respect to `probs`.\n",
    "\n",
    "We want to find $\\frac{\\partial \\mathscr{L}}{\\partial \\mathbf{P}}$, where $P$ is the tensor `probs`.\n",
    "\n",
    "Note that `logprobs` is defined as\n",
    "\n",
    "```python\n",
    "logprobs = probs.log()\n",
    "```\n",
    "\n",
    "So, instead of calculating $\\frac{\\partial \\mathscr{L}}{\\partial \\mathbf{P}}$ directly, we can use the chain rule.\n",
    "\n",
    "$$\n",
    "\\frac{\\partial \\mathscr{L}}{\\partial \\mathbf{P}} = \\frac{\\partial \\mathscr{L}}{\\partial \\mathbf{LP}} \\frac{\\partial \\mathbf{LP}}{\\partial \\mathbf{P}}\n",
    "$$\n",
    "\n",
    "We already know $\\frac{\\partial \\mathscr{L}}{\\partial \\mathbf{LP}}$, so we just need to calculate $\\frac{\\partial \\mathbf{LP}}{\\partial \\mathbf{P}}$.\n",
    "\n",
    "If $\\mathbf{LP}$ is defined as\n",
    "\n",
    "$$\n",
    "\\mathbf{LP} = \\begin{bmatrix}\n",
    "lp_{1 \\, 1} & lp_{1 \\, 2} & \\dots & lp_{1 \\, n}\\\\\n",
    "lp_{2 \\, 1} & lp_{2 \\, 2} & \\dots & lp_{2 \\, n}\\\\\n",
    "\\vdots   & \\vdots   & \\ddots & \\vdots\\\\\n",
    "lp_{m \\, 1} & lp_{m \\, 2} & \\dots & lp_{m \\, n}\\\\\n",
    "\\end{bmatrix}\n",
    "$$\n",
    "\n",
    "and $\\mathbf{P}$ is defined as\n",
    "\n",
    "$$\n",
    "\\mathbf{P} = \\begin{bmatrix}\n",
    "p_{1 \\, 1} & p_{1 \\, 2} & \\dots & p_{1 \\, n}\\\\\n",
    "p_{2 \\, 1} & p_{2 \\, 2} & \\dots & p_{2 \\, n}\\\\\n",
    "\\vdots   & \\vdots   & \\ddots & \\vdots\\\\\n",
    "p_{m \\, 1} & p_{m \\, 2} & \\dots & p_{m \\, n}\\\\\n",
    "\\end{bmatrix}\n",
    "$$\n",
    "\n",
    "then $\\mathbf{LP}$ can also be defined as\n",
    "\n",
    "$$\n",
    "\\mathbf{LP} = \\log(\\mathbf{P}) = \\log\\left(\\begin{bmatrix}\n",
    "p_{1 \\, 1} & p_{1 \\, 2} & \\dots & p_{1 \\, n}\\\\\n",
    "p_{2 \\, 1} & p_{2 \\, 2} & \\dots & p_{2 \\, n}\\\\\n",
    "\\vdots   & \\vdots   & \\ddots & \\vdots\\\\\n",
    "p_{m \\, 1} & p_{m \\, 2} & \\dots & p_{m \\, n}\\\\\n",
    "\\end{bmatrix}\\right) = \\begin{bmatrix}\n",
    "\\log(p_{1 \\, 1}) & \\log(p_{1 \\, 2}) & \\dots & \\log(p_{1 \\, n})\\\\\n",
    "\\log(p_{2 \\, 1}) & \\log(p_{2 \\, 2}) & \\dots & \\log(p_{2 \\, n})\\\\\n",
    "\\vdots   & \\vdots   & \\ddots & \\vdots\\\\\n",
    "\\log(p_{m \\, 1}) & \\log(p_{m \\, 2}) & \\dots & \\log(p_{m \\, n})\\\\\n",
    "\\end{bmatrix}\n",
    "$$\n",
    "\n",
    "So we know that $\\mathbf{LP}_{i \\, j} = \\log(\\mathbf{P}_{i \\, j})$. This means\n",
    "\n",
    "$$\n",
    "\\frac{\\partial \\mathbf{LP}_{i\\,j}}{\\partial \\mathbf{P}_{i\\,j}} = \\frac{\\partial}{\\partial \\mathbf{P}_{i\\,j}} \\left( \\log(\\mathbf{P}_{i \\, j}) \\right) = \\frac{1}{\\mathbf{P}_{i \\, j}}\n",
    "$$\n",
    "\n",
    "$$\n",
    "\\frac{\\partial \\mathbf{LP}}{\\partial \\mathbf{P}} = \\begin{bmatrix}\n",
    "\\frac{1}{p_{1 \\, 1}} & \\frac{1}{p_{1 \\, 2}} & \\dots & \\frac{1}{p_{1 \\, n}}\\\\\n",
    "\\frac{1}{p_{2 \\, 1}} & \\frac{1}{p_{2 \\, 2}} & \\dots & \\frac{1}{p_{2 \\, n}}\\\\\n",
    "\\vdots   & \\vdots   & \\ddots & \\vdots\\\\\n",
    "\\frac{1}{p_{m \\, 1}} & \\frac{1}{p_{m \\, 2}} & \\dots & \\frac{1}{p_{m \\, n}}\\\\\n",
    "\\end{bmatrix}\n",
    "$$\n",
    "\n",
    "Then we can do element-wise multiplication between $\\frac{\\partial \\mathscr{L}}{\\partial \\mathbf{LP}}$ and $\\frac{\\partial \\mathbf{LP}}{\\partial \\mathbf{P}}$ to get $\\frac{\\partial \\mathscr{L}}{\\partial \\mathbf{P}}$."
   ]
  },
  {
   "cell_type": "code",
   "execution_count": 18,
   "id": "0dd8de82",
   "metadata": {},
   "outputs": [
    {
     "name": "stdout",
     "output_type": "stream",
     "text": [
      "probs           | exact: True  | approximate: True  | maxdiff: 0.0\n"
     ]
    }
   ],
   "source": [
    "dprobs = dlogprobs * probs.pow(-1)\n",
    "cmp('probs', dprobs, probs)"
   ]
  },
  {
   "cell_type": "markdown",
   "id": "6e19bebd",
   "metadata": {},
   "source": [
    "### Derivative of `loss` with respect to `counts_sum_inv`\n",
    "\n",
    "Note that `probs` is defined as\n",
    "\n",
    "```python\n",
    "probs = counts * counts_sum_inv\n",
    "```\n",
    "\n",
    "But the sizes of `counts` and `counts_sum_inv` are different."
   ]
  },
  {
   "cell_type": "code",
   "execution_count": 19,
   "id": "b206c3f3",
   "metadata": {},
   "outputs": [
    {
     "name": "stdout",
     "output_type": "stream",
     "text": [
      "counts.shape=torch.Size([32, 27]), counts_sum_inv.shape=torch.Size([32, 1])\n"
     ]
    }
   ],
   "source": [
    "print(f'{counts.shape=}, {counts_sum_inv.shape=}')"
   ]
  },
  {
   "cell_type": "markdown",
   "id": "2010b359",
   "metadata": {},
   "source": [
    "This means PyTorch broadcasts the multiplication like so:\n",
    "\n",
    "$$\n",
    "\\mathbf{C} \\circ \\mathbf{CSI} = \\begin{bmatrix}\n",
    "c_{1 \\: 1} & c_{1 \\: 2} & \\dots & c_{1 \\: 27}\\\\\n",
    "c_{2 \\: 1} & c_{2 \\: 2} & \\dots & c_{2 \\: 27}\\\\\n",
    "\\vdots   & \\vdots   & \\ddots & \\vdots\\\\\n",
    "c_{32 \\: 1} & c_{32 \\: 2} & \\dots & c_{32 \\: 27}\\\\\n",
    "\\end{bmatrix} \\circ \\begin{bmatrix}\n",
    "csi_{1}\\\\\n",
    "csi_{2}\\\\\n",
    "\\vdots\\\\\n",
    "csi_{32}\\\\\n",
    "\\end{bmatrix} = \\begin{bmatrix}\n",
    "c_{1 \\: 1} & c_{1 \\: 2} & \\dots & c_{1 \\: 27}\\\\\n",
    "c_{2 \\: 1} & c_{2 \\: 2} & \\dots & c_{2 \\: 27}\\\\\n",
    "\\vdots   & \\vdots   & \\ddots & \\vdots\\\\\n",
    "c_{32 \\: 1} & c_{32 \\: 2} & \\dots & c_{32 \\: 27}\\\\\n",
    "\\end{bmatrix} \\circ \\begin{bmatrix}\n",
    "csi_{1} & csi_{1} & \\dots & csi_{1}\\\\\n",
    "csi_{2} & csi_{2} & \\dots & csi_{2}\\\\\n",
    "\\vdots  & \\vdots & \\ddots & \\vdots\\\\\n",
    "csi_{32} & csi_{32} & \\dots & csi_{32}\\\\\n",
    "\\end{bmatrix} = \\begin{bmatrix}\n",
    "c_{1 \\: 1} \\: csi_{1} & c_{1 \\: 2} \\: csi_{1} & \\dots & c_{1 \\: 27} \\: csi_{1}\\\\\n",
    "c_{2 \\: 1} \\: csi_{2} & c_{2 \\: 2} \\: csi_{2} & \\dots & c_{2 \\: 27} \\: csi_{2}\\\\\n",
    "\\vdots  & \\vdots & \\ddots & \\vdots\\\\\n",
    "c_{32 \\: 1} \\: csi_{32} & c_{32 \\: 2} \\: csi_{32} & \\dots & c_{32 \\: 27} \\: csi_{32}\\\\\n",
    "\\end{bmatrix}\n",
    "$$\n",
    "\n",
    "First let's call this broadcasted tensor $\\mathbf{CSI}'$ and calculate its partial derivative.\n",
    "\n",
    "$$\n",
    "\\mathbf{CSI}' = \\begin{bmatrix}\n",
    "csi_{1} & csi_{1} & \\dots & csi_{1}\\\\\n",
    "csi_{2} & csi_{2} & \\dots & csi_{2}\\\\\n",
    "\\vdots  & \\vdots & \\ddots & \\vdots\\\\\n",
    "csi_{32} & csi_{32} & \\dots & csi_{32}\\\\\n",
    "\\end{bmatrix}\n",
    "$$\n",
    "\n",
    "Using the chain rule\n",
    "\n",
    "$$\n",
    "\\frac{\\partial \\mathscr{L}}{\\partial \\mathbf{CSI}'} = \\frac{\\partial \\mathscr{L}}{\\partial \\mathbf{P}} \\frac{\\partial \\mathbf{P}}{\\partial \\mathbf{CSI}'}\n",
    "$$\n",
    "\n",
    "Since $\\mathbf{P} = \\mathbf{C} \\circ \\mathbf{CSI}'$, $\\frac{\\partial \\mathbf{P}}{\\partial \\mathbf{CSI}'}$ can be expressed as\n",
    "\n",
    "$$\n",
    "\\frac{\\partial \\mathbf{P}}{\\partial \\mathbf{CSI}'} = \\frac{\\partial}{\\partial \\mathbf{CSI}'} \\left( \\mathbf{C} \\circ \\mathbf{CSI}' \\right) = \\mathbf{C}\n",
    "$$\n",
    "\n",
    "Since the gradient of the vector $\\mathbf{CSI}$ is used multiple times (each column in the broadcast), we must sum each use of the vector."
   ]
  },
  {
   "cell_type": "code",
   "execution_count": 20,
   "id": "92790ef1",
   "metadata": {},
   "outputs": [
    {
     "name": "stdout",
     "output_type": "stream",
     "text": [
      "counts_sum_inv  | exact: True  | approximate: True  | maxdiff: 0.0\n"
     ]
    }
   ],
   "source": [
    "dcounts_sum_inv = (counts * dprobs).sum(1, keepdim=True)\n",
    "cmp('counts_sum_inv', dcounts_sum_inv, counts_sum_inv)"
   ]
  },
  {
   "cell_type": "markdown",
   "id": "76cea05c",
   "metadata": {},
   "source": [
    "### Derivative of `loss` with respect to `counts_sum`\n",
    "\n",
    "Note that `counts_sum_inv` is defined as\n",
    "\n",
    "```python\n",
    "counts_sum_inv = counts_sum**-1\n",
    "```\n",
    "\n",
    "Denoting `counts_sum_inv` as $\\mathbf{CSI}$ and `counts_sum` as $\\mathbf{CS}$\n",
    "\n",
    "$$\n",
    "\\mathbf{CSI} = \\mathbf{CS}^{-1}\n",
    "$$\n",
    "\n",
    "Using the chain rule\n",
    "\n",
    "$$\n",
    "\\frac{\\partial \\mathscr{L}}{\\partial \\mathbf{CS}} = \\frac{\\partial \\mathscr{L}}{\\partial \\mathbf{CSI}} \\frac{\\partial \\mathbf{CSI}}{\\partial \\mathbf{CS}}\n",
    "$$\n",
    "\n",
    "All we need to compute is $\\frac{\\partial \\mathbf{CSI}}{\\partial \\mathbf{CS}}$.\n",
    "\n",
    "$$\n",
    "\\frac{\\partial \\mathbf{CSI}}{\\partial \\mathbf{CS}} = \\frac{\\partial}{\\partial \\mathbf{CS}} \\left( \\mathbf{CS}^{-1} \\right) = - \\mathbf{CS}^{-2}\n",
    "$$"
   ]
  },
  {
   "cell_type": "code",
   "execution_count": 21,
   "id": "13c5272b",
   "metadata": {},
   "outputs": [
    {
     "name": "stdout",
     "output_type": "stream",
     "text": [
      "counts_sum      | exact: True  | approximate: True  | maxdiff: 0.0\n"
     ]
    }
   ],
   "source": [
    "dcounts_sum = dcounts_sum_inv * - counts_sum.pow(-2)\n",
    "cmp('counts_sum', dcounts_sum, counts_sum)"
   ]
  },
  {
   "cell_type": "markdown",
   "id": "cb685980",
   "metadata": {},
   "source": [
    "### Derivative of `loss` with respect to `counts`\n",
    "\n",
    "Note that `probs` is defined as\n",
    "\n",
    "```python\n",
    "probs = counts * counts_sum_inv\n",
    "```\n",
    "\n",
    "and `counts_sum` is defined as\n",
    "\n",
    "```python\n",
    "counts_sum = counts.sum(1, keepdim=True)\n",
    "```\n",
    "\n",
    "Representing `probs` as $\\mathbf{P}$, `counts` as $\\mathbf{C}$, `counts_sum` as $\\mathbf{CS}$, and `counts_sum_inv` as $\\mathbf{CSI}$, we get two equations involving $\\mathbf{C}$.\n",
    "\n",
    "$$\n",
    "\\begin{align*}\n",
    "    \\mathbf{P} = \\mathbf{C} * \\mathbf{CSI}\\\\\n",
    "    \\mathbf{CS} = \\sum_{i} \\mathbf{C}_i\n",
    "\\end{align*}\n",
    "$$\n",
    "\n",
    "To calculate $\\frac{\\partial \\mathscr{L}}{\\partial \\mathbf{C}}$, we must calculate the gradient for both of the above equations and add their contributions to the gradient of $\\mathbf{C}$.\n",
    "\n",
    "1. Remember, the sizes of `counts` and `counts_sum_inv` are different, causing `counts_sum_inv` to be broadcasted.\n",
    "\n",
    "    Using the chain rule\n",
    "\n",
    "    $$\n",
    "    \\frac{\\partial \\mathscr{L}}{\\partial \\mathbf{C}} = \\frac{\\partial \\mathscr{L}}{\\partial \\mathbf{P}} \\frac{\\partial \\mathbf{P}}{\\partial \\mathbf{C}}\n",
    "    $$\n",
    "\n",
    "    All we need to compute is $\\frac{\\partial \\mathbf{P}}{\\partial \\mathbf{C}}$, denoting the broadcasted tensor of $\\mathbf{CSI}$ as $\\mathbf{CSI}'$.\n",
    "\n",
    "    $$\n",
    "    \\frac{\\partial \\mathbf{P}}{\\partial \\mathbf{C}} = \\frac{\\partial}{\\partial \\mathbf{C}} \\left( \\mathbf{C} \\circ \\mathbf{CSI}' \\right) = \\mathbf{CSI}'\n",
    "    $$\n",
    "\n",
    "2. Defining $\\mathbf{C}$ as\n",
    "\n",
    "    $$\n",
    "    \\mathbf{C} = \\begin{bmatrix}\n",
    "    c_{1 \\: 1} & c_{1 \\: 2} & \\dots & c_{1 \\: 27}\\\\\n",
    "    c_{2 \\: 1} & c_{2 \\: 2} & \\dots & c_{2 \\: 27}\\\\\n",
    "    \\vdots   & \\vdots   & \\ddots & \\vdots\\\\\n",
    "    c_{32 \\: 1} & c_{32 \\: 2} & \\dots & c_{32 \\: 27}\\\\\n",
    "    \\end{bmatrix}\n",
    "    $$\n",
    "\n",
    "    we know that $\\mathbf{CS}$ is defined as\n",
    "\n",
    "    $$\n",
    "    \\mathbf{CS} = \\begin{bmatrix}\n",
    "    c_{1 \\: 1} + c_{1 \\: 2} + \\dots + c_{1 \\: 27}\\\\\n",
    "    c_{2 \\: 1} + c_{2 \\: 2} + \\dots + c_{2 \\: 27}\\\\\n",
    "    \\vdots\\\\\n",
    "    c_{32 \\: 1} + c_{32 \\: 2} + \\dots + c_{32 \\: 27}\\\\\n",
    "    \\end{bmatrix}\n",
    "    $$\n",
    "\n",
    "    Using the chain rule\n",
    "\n",
    "    $$\n",
    "    \\frac{\\partial \\mathscr{L}}{\\partial \\mathbf{C}} = \\frac{\\partial \\mathscr{L}}{\\partial \\mathbf{CS}} \\frac{\\partial \\mathbf{CS}}{\\partial \\mathbf{C}}\n",
    "    $$\n",
    "\n",
    "    We only need to calculate $\\frac{\\partial \\mathbf{CS}}{\\partial \\mathbf{C}}$.\n",
    "\n",
    "    Since each element $c_{i j}$ of $\\mathbf{C}$ participates in a sum in some element of $\\mathbf{CS}$, the partial derivative $\\frac{\\partial \\mathbf{CS}_i}{\\partial \\mathbf{C}_{i j}}$ is\n",
    "\n",
    "    $$\n",
    "    \\frac{\\partial \\mathbf{CS}_i}{\\partial \\mathbf{C}_{i j}} = \\frac{\\partial}{\\partial \\mathbf{C}_{i j}} \\left( c_{i \\, 1} + c_{i \\, 2} + \\dots + c_{i j} + \\dots c_{i \\, 27} \\right) = 1\n",
    "    $$\n",
    "\n",
    "    So, the partial derivative $\\frac{\\partial \\mathbf{CS}}{\\partial \\mathbf{C}}$ is a matrix the shape of $\\mathbf{C}$ with all elements being $1$."
   ]
  },
  {
   "cell_type": "code",
   "execution_count": 22,
   "id": "e2f68d1b",
   "metadata": {},
   "outputs": [
    {
     "name": "stdout",
     "output_type": "stream",
     "text": [
      "counts          | exact: True  | approximate: True  | maxdiff: 0.0\n"
     ]
    }
   ],
   "source": [
    "dcounts = (counts_sum_inv * dprobs) + (torch.ones_like(counts) * dcounts_sum)\n",
    "cmp('counts', dcounts, counts)"
   ]
  },
  {
   "cell_type": "markdown",
   "id": "fd8a3bb1",
   "metadata": {},
   "source": [
    "### Derivative of `loss` with respect to `norm_logits`\n",
    "\n",
    "Note that `counts` is defined as\n",
    "\n",
    "```python\n",
    "counts = norm_logits.exp()\n",
    "```\n",
    "\n",
    "Representing `counts` as $\\mathbf{C}$ and `norm_logits` as $\\mathbf{NL}$, we have:\n",
    "\n",
    "$$\n",
    "\\mathbf{NL} = \\begin{bmatrix}\n",
    "nl_{1 \\: 1} & nl_{1 \\: 2} & \\dots & nl_{1 \\: 27}\\\\\n",
    "nl_{2 \\: 1} & nl_{2 \\: 2} & \\dots & nl_{2 \\: 27}\\\\\n",
    "\\vdots   & \\vdots   & \\ddots & \\vdots\\\\\n",
    "nl_{32 \\: 1} & nl_{32 \\: 2} & \\dots & nl_{32 \\: 27}\\\\\n",
    "\\end{bmatrix}\n",
    "$$\n",
    "\n",
    "This way, $\\mathbf{C}$ can be expressed as\n",
    "\n",
    "$$\n",
    "\\mathbf{C} = \\exp(\\mathbf{NL}) = \\begin{bmatrix}\n",
    "e^{nl_{1 \\: 1}} & e^{nl_{1 \\: 2}} & \\dots & e^{nl_{1 \\: 27}}\\\\\n",
    "e^{nl_{2 \\: 1}} & e^{nl_{2 \\: 2}} & \\dots & e^{nl_{2 \\: 27}}\\\\\n",
    "\\vdots   & \\vdots   & \\ddots & \\vdots\\\\\n",
    "e^{nl_{32 \\: 1}} & e^{nl_{32 \\: 2}} & \\dots & e^{nl_{32 \\: 27}}\\\\\n",
    "\\end{bmatrix}\n",
    "$$\n",
    "\n",
    "Using the chain rule\n",
    "\n",
    "$$\n",
    "\\frac{\\partial \\mathscr{L}}{\\partial \\mathbf{NL}} = \\frac{\\partial \\mathscr{L}}{\\partial \\mathbf{C}} \\frac{\\partial \\mathbf{C}}{\\partial \\mathbf{NL}}\n",
    "$$\n",
    "\n",
    "For each partial derivative $\\frac{\\partial \\mathbf{C}_{ij}}{\\partial \\mathbf{NL}_{ij}}$, we have\n",
    "\n",
    "$$\n",
    "\\frac{\\partial \\mathbf{C}_{ij}}{\\partial \\mathbf{NL}_{ij}} = \\frac{\\partial}{\\partial \\mathbf{NL}_{ij}}\\left( e^{nl_{ij}} \\right) = e^{nl_{ij}}\n",
    "$$\n",
    "\n",
    "Therefore, $\\frac{\\partial \\mathbf{C}}{\\partial \\mathbf{NL}} = \\mathbf{C}$."
   ]
  },
  {
   "cell_type": "code",
   "execution_count": 23,
   "id": "5632a62d",
   "metadata": {},
   "outputs": [
    {
     "name": "stdout",
     "output_type": "stream",
     "text": [
      "norm_logits     | exact: True  | approximate: True  | maxdiff: 0.0\n"
     ]
    }
   ],
   "source": [
    "dnorm_logits = counts * dcounts\n",
    "cmp('norm_logits', dnorm_logits, norm_logits)"
   ]
  },
  {
   "cell_type": "markdown",
   "id": "3d853c25",
   "metadata": {},
   "source": [
    "### Derivative of `loss` with respect to `logits_maxes`\n",
    "\n",
    "Note that `norm_logits` is defined as\n",
    "\n",
    "```python\n",
    "norm_logits = logits - logits_maxes\n",
    "```\n",
    "\n",
    "Since `logits` and `logits_maxes` are not the same shape, the operation will be broadcasted."
   ]
  },
  {
   "cell_type": "code",
   "execution_count": 24,
   "id": "6421b3b2",
   "metadata": {},
   "outputs": [
    {
     "name": "stdout",
     "output_type": "stream",
     "text": [
      "logits.shape=torch.Size([32, 27]), logit_maxes.shape=torch.Size([32, 1])\n"
     ]
    }
   ],
   "source": [
    "print(f'{logits.shape=}, {logit_maxes.shape=}')"
   ]
  },
  {
   "cell_type": "markdown",
   "id": "933f2a1a",
   "metadata": {},
   "source": [
    "This means the vector `logit_maxes` will be repeated $27$ times. So `norm_logits` is defined as\n",
    "\n",
    "$$\n",
    "\\mathbf{NL} = \\begin{bmatrix}\n",
    "l_{1 \\: 1} - lm_1 & l_{1 \\: 2} - lm_1 & \\dots & l_{1 \\: 27} - lm_1\\\\\n",
    "l_{2 \\: 1} - lm_2 & l_{2 \\: 2} - lm_2 & \\dots & l_{2 \\: 27} - lm_2\\\\\n",
    "\\vdots   & \\vdots   & \\ddots & \\vdots\\\\\n",
    "l_{32 \\: 1} - lm_{32} & l_{32 \\: 2} - lm_{32} & \\dots & l_{32 \\: 27} - lm_{32}\\\\\n",
    "\\end{bmatrix}\n",
    "$$\n",
    "\n",
    "The gradient $\\frac{\\partial \\mathbf{NL}}{\\partial \\mathbf{LM}}$ is\n",
    "\n",
    "$$\n",
    "\\frac{\\partial \\mathbf{NL}}{\\partial \\mathbf{LM}} = \\begin{bmatrix}\n",
    "-1\\\\\n",
    "-1\\\\\n",
    "\\vdots\\\\\n",
    "-1\\\\\n",
    "\\end{bmatrix}\n",
    "$$\n",
    "\n",
    "Again using the chain rule, $\\frac{\\partial \\mathscr{L}}{\\partial \\mathbf{LM}} = \\frac{\\partial \\mathscr{L}}{\\partial \\mathbf{NL}} \\frac{\\partial \\mathbf{NL}}{\\partial \\mathbf{LM}}$. Again, due to broadcasting, $\\frac{\\partial \\mathbf{NL}}{\\partial \\mathbf{LM}}$ is repeated. Since all its entries are $-1$, we can sum across $\\frac{\\partial \\mathscr{L}}{\\partial \\mathbf{NL}}$ and negate it."
   ]
  },
  {
   "cell_type": "code",
   "execution_count": 25,
   "id": "558f2fc8",
   "metadata": {},
   "outputs": [
    {
     "name": "stdout",
     "output_type": "stream",
     "text": [
      "logit_maxes     | exact: True  | approximate: True  | maxdiff: 0.0\n"
     ]
    }
   ],
   "source": [
    "dlogit_maxes = - dnorm_logits.sum(1, keepdim=True)\n",
    "cmp('logit_maxes', dlogit_maxes, logit_maxes)"
   ]
  },
  {
   "cell_type": "markdown",
   "id": "99c4554c",
   "metadata": {},
   "source": [
    "Note that the logit normalization is performed to prevent floating point errors when values are too large. This means it should not have an effect on the loss, which means the gradient of `dlogit_maxes` should be approximately $0$."
   ]
  },
  {
   "cell_type": "code",
   "execution_count": 26,
   "id": "891db07c",
   "metadata": {},
   "outputs": [
    {
     "data": {
      "text/plain": [
       "tensor([[ 3.0268e-09],\n",
       "        [-9.3132e-10],\n",
       "        [-1.8626e-09],\n",
       "        [-1.3970e-09],\n",
       "        [-2.7940e-09],\n",
       "        [ 2.3283e-10],\n",
       "        [-9.3132e-10],\n",
       "        [-2.7940e-09],\n",
       "        [ 1.3970e-09],\n",
       "        [-1.6298e-09],\n",
       "        [-3.7253e-09],\n",
       "        [-1.8626e-09],\n",
       "        [ 9.7789e-09],\n",
       "        [-6.5193e-09],\n",
       "        [ 2.7940e-09],\n",
       "        [ 2.3283e-09],\n",
       "        [ 3.7253e-09],\n",
       "        [ 2.3283e-10],\n",
       "        [ 6.0536e-09],\n",
       "        [-2.7940e-09],\n",
       "        [ 1.8626e-09],\n",
       "        [ 2.7940e-09],\n",
       "        [ 5.3551e-09],\n",
       "        [ 3.9581e-09],\n",
       "        [-1.8626e-09],\n",
       "        [ 1.3970e-09],\n",
       "        [-1.1642e-09],\n",
       "        [-2.7940e-09],\n",
       "        [-4.6566e-10],\n",
       "        [-6.7521e-09],\n",
       "        [-3.2596e-09],\n",
       "        [ 1.8626e-09]], grad_fn=<NegBackward0>)"
      ]
     },
     "execution_count": 26,
     "metadata": {},
     "output_type": "execute_result"
    }
   ],
   "source": [
    "dlogit_maxes"
   ]
  },
  {
   "cell_type": "markdown",
   "id": "ed37c813",
   "metadata": {},
   "source": [
    "### Derivative of `loss` with respect to `logits`\n",
    "\n",
    "The tensor `logits` is used twice, so its gradient is a sum of the two separate gradients.\n",
    "\n",
    "```python\n",
    "logit_maxes = logits.max(1, keepdim=True).values\n",
    "norm_logits = logits - logit_maxes\n",
    "```\n",
    "\n",
    "1. The `logits` tensor $\\mathbf{L}$ is defined as\n",
    "\n",
    "    $$\n",
    "    \\mathbf{L} = \\begin{bmatrix}\n",
    "    l_{1 \\: 1} & l_{1 \\: 2} & \\dots & l_{1 \\: 27}\\\\\n",
    "    l_{2 \\: 1} & l_{2 \\: 2} & \\dots & l_{2 \\: 27}\\\\\n",
    "    \\vdots   & \\vdots   & \\ddots & \\vdots\\\\\n",
    "    l_{32 \\: 1} & l_{32 \\: 2} & \\dots & l_{32 \\: 27}\\\\\n",
    "    \\end{bmatrix}\n",
    "    $$\n",
    "\n",
    "    The `logit_maxes` tensor is defined as\n",
    "\n",
    "    $$\n",
    "    \\mathbf{LM} = \\begin{bmatrix}\n",
    "    lm_1\\\\\n",
    "    lm_2\\\\\n",
    "    \\vdots\\\\\n",
    "    lm_{32}\\\\\n",
    "    \\end{bmatrix} = \\begin{bmatrix}\n",
    "    \\max(l_{1 \\: 1}, l_{1 \\: 2}, \\dots, l_{1 \\: 27})\\\\\n",
    "    \\max(l_{2 \\: 1}, l_{2 \\: 2}, \\dots, l_{2 \\: 27})\\\\\n",
    "    \\vdots\\\\\n",
    "    \\max(l_{32 \\: 1}, l_{32 \\: 2}, \\dots, l_{32 \\: 27})\\\\\n",
    "    \\end{bmatrix}\n",
    "    $$\n",
    "\n",
    "    The partial derivative $\\frac{\\partial \\mathbf{LM}_{i}}{\\partial \\mathbf{L}_{i j}}$ is $1$ if $l_{i j}$ is the maximum of the row $l_{i \\, 1}, l_{i \\, 2}, \\dots l_{i \\, j}, \\dots, l_{i \\, 27}$, and is $0$ otherwise. From here we can use the chain rule $\\frac{\\partial \\mathscr{L}}{\\partial \\mathbf{L}} = \\frac{\\partial \\mathscr{L}}{\\partial \\mathbf{LM}} \\frac{\\partial \\mathbf{LM}}{\\partial \\mathbf{L}}$\n",
    "\n",
    "2. The `norm_logits` tensor $\\mathbf{NL}$ is defined as\n",
    "\n",
    "    $$\n",
    "    \\mathbf{NL} = \\begin{bmatrix}\n",
    "    l_{1 \\: 1} - lm_1 & l_{1 \\: 2} - lm_1 & \\dots & l_{1 \\: 27} - lm_1\\\\\n",
    "    l_{2 \\: 1} - lm_2 & l_{2 \\: 2} - lm_2 & \\dots & l_{2 \\: 27} - lm_2\\\\\n",
    "    \\vdots   & \\vdots   & \\ddots & \\vdots\\\\\n",
    "    l_{32 \\: 1} - lm_{32} & l_{32 \\: 2} - lm_{32} & \\dots & l_{32 \\: 27} - lm_{32}\\\\\n",
    "    \\end{bmatrix}\n",
    "    $$\n",
    "\n",
    "    The partial derivative $\\frac{\\partial \\mathbf{NL}_{i j}}{\\partial \\mathbf{L}_{i j}}$ is $1$ because all $l_{i j}$ participate in the $\\mathbf{NL}$ matrix with coefficient $1$. This means\n",
    "\n",
    "    $$\n",
    "    \\frac{\\partial \\mathbf{NL}}{\\partial \\mathbf{L}} = \\begin{bmatrix}\n",
    "    1 & 1 & \\dots & 1\\\\\n",
    "    1 & 1 & \\dots & 1\\\\\n",
    "    \\vdots   & \\vdots   & \\ddots & \\vdots\\\\\n",
    "    1 & 1 & \\dots & 1\\\\\n",
    "    \\end{bmatrix}\n",
    "    $$\n",
    "\n",
    "    From here we can use the chain rule $\\frac{\\partial \\mathscr{L}}{\\partial \\mathbf{L}} = \\frac{\\partial \\mathscr{L}}{\\partial \\mathbf{NL}} \\frac{\\partial \\mathbf{NL}}{\\partial \\mathbf{L}}$."
   ]
  },
  {
   "cell_type": "code",
   "execution_count": 27,
   "id": "986d420e",
   "metadata": {},
   "outputs": [
    {
     "name": "stdout",
     "output_type": "stream",
     "text": [
      "logits          | exact: True  | approximate: True  | maxdiff: 0.0\n"
     ]
    }
   ],
   "source": [
    "dlogits = (F.one_hot(logits.max(1).indices, num_classes=logits.shape[1]) * dlogit_maxes) + (dnorm_logits)\n",
    "cmp('logits', dlogits, logits)"
   ]
  },
  {
   "cell_type": "markdown",
   "id": "86fd1867",
   "metadata": {},
   "source": [
    "### Derivative of `loss` with respect to `h`, `W2`, and `b2`\n",
    "\n",
    "The `logits` tensor is defined as\n",
    "\n",
    "```python\n",
    "logits = h @ W2 + b2\n",
    "```\n",
    "\n",
    "Defining the $\\mathbf{H}$, $\\mathbf{W}_2$, and $\\mathbf{b}_2$ tensors as\n",
    "\n",
    "$$\n",
    "\\mathbf{H} = \\begin{bmatrix}\n",
    "h_{1 \\: 1} & h_{1 \\: 2} & \\dots & h_{1 \\: 64}\\\\\n",
    "h_{2 \\: 1} & h_{2 \\: 2} & \\dots & h_{2 \\: 64}\\\\\n",
    "\\vdots   & \\vdots   & \\ddots & \\vdots\\\\\n",
    "h_{32 \\: 1} & h_{32 \\: 2} & \\dots & h_{32 \\: 64}\\\\\n",
    "\\end{bmatrix} \\quad\\quad \\mathbf{W}_2 = \\begin{bmatrix}\n",
    "w_{1 \\: 1} & w_{1 \\: 2} & \\dots & w_{1 \\: 27}\\\\\n",
    "w_{2 \\: 1} & w_{2 \\: 2} & \\dots & w_{2 \\: 27}\\\\\n",
    "\\vdots   & \\vdots   & \\ddots & \\vdots\\\\\n",
    "w_{64 \\: 1} & w_{64 \\: 2} & \\dots & w_{64 \\: 27}\\\\\n",
    "\\end{bmatrix} \\quad\\quad \\mathbf{b}_2 = \\begin{bmatrix}\n",
    "b_{1} & b_{2} & \\dots & b_{27}\n",
    "\\end{bmatrix}\n",
    "$$\n",
    "\n",
    "The product $\\mathbf{H} \\mathbf{W}_2$ is performed as\n",
    "\n",
    "$$\n",
    "\\mathbf{H} \\mathbf{W}_2 = \\begin{bmatrix}\n",
    "h_{1 \\: 1} \\, w_{1 \\: 1} + h_{1 \\: 2} \\, w_{2 \\: 1} + \\dots + h_{1 \\: 64} \\, w_{64 \\: 1} & h_{1 \\: 1} \\, w_{1 \\: 2} + h_{1 \\: 2} \\, w_{2 \\: 2} + \\dots + h_{1 \\: 64} \\, w_{64 \\: 2} & \\dots & h_{1 \\: 1} \\, w_{1 \\: 27} + h_{1 \\: 2} \\, w_{2 \\: 27} + \\dots + h_{1 \\: 64} \\, w_{64 \\: 27}\\\\\n",
    "h_{2 \\: 1} \\, w_{1 \\: 1} + h_{2 \\: 2} \\, w_{2 \\: 1} + \\dots + h_{2 \\: 64} \\, w_{64 \\: 1} & h_{2 \\: 1} \\, w_{1 \\: 2} + h_{2 \\: 2} \\, w_{2 \\: 2} + \\dots + h_{2 \\: 64} \\, w_{64 \\: 2} & \\dots & h_{2 \\: 1} \\, w_{1 \\: 27} + h_{2 \\: 2} \\, w_{2 \\: 27} + \\dots + h_{2 \\: 64} \\, w_{64 \\: 27}\\\\\n",
    "\\vdots   & \\vdots   & \\ddots & \\vdots\\\\\n",
    "h_{32 \\: 1} \\, w_{1 \\: 1} + h_{32 \\: 2} \\, w_{2 \\: 1} + \\dots + h_{32 \\: 64} \\, w_{64 \\: 1} & h_{32 \\: 1} \\, w_{1 \\: 2} + h_{32 \\: 2} \\, w_{2 \\: 2} + \\dots + h_{32 \\: 64} \\, w_{64 \\: 2} & \\dots & h_{32 \\: 1} \\, w_{1 \\: 27} + h_{32 \\: 2} \\, w_{2 \\: 27} + \\dots + h_{32 \\: 64} \\, w_{64 \\: 27}\\\\\n",
    "\\end{bmatrix}\n",
    "$$\n",
    "\n",
    "Then the full expression $\\mathbf{L} = \\mathbf{H} \\mathbf{W}_2 + \\mathbf{b}_2$, which causes $\\mathbf{b}_2$ to be broadcasted, is\n",
    "\n",
    "$$\n",
    "\\mathbf{L} = \\mathbf{H} \\mathbf{W}_2 + \\mathbf{b}_2 = \\begin{bmatrix}\n",
    "h_{1 \\: 1} \\, w_{1 \\: 1} + h_{1 \\: 2} \\, w_{2 \\: 1} + \\dots + h_{1 \\: 64} \\, w_{64 \\: 1} + b_1 & h_{1 \\: 1} \\, w_{1 \\: 2} + h_{1 \\: 2} \\, w_{2 \\: 2} + \\dots + h_{1 \\: 64} \\, w_{64 \\: 2} + b_2 & \\dots & h_{1 \\: 1} \\, w_{1 \\: 27} + h_{1 \\: 2} \\, w_{2 \\: 27} + \\dots + h_{1 \\: 64} \\, w_{64 \\: 27} + b_{27}\\\\\n",
    "h_{2 \\: 1} \\, w_{1 \\: 1} + h_{2 \\: 2} \\, w_{2 \\: 1} + \\dots + h_{2 \\: 64} \\, w_{64 \\: 1} + b_1 & h_{2 \\: 1} \\, w_{1 \\: 2} + h_{2 \\: 2} \\, w_{2 \\: 2} + \\dots + h_{2 \\: 64} \\, w_{64 \\: 2} + b_2 & \\dots & h_{2 \\: 1} \\, w_{1 \\: 27} + h_{2 \\: 2} \\, w_{2 \\: 27} + \\dots + h_{2 \\: 64} \\, w_{64 \\: 27} + b_{27}\\\\\n",
    "\\vdots   & \\vdots   & \\ddots & \\vdots\\\\\n",
    "h_{32 \\: 1} \\, w_{1 \\: 1} + h_{32 \\: 2} \\, w_{2 \\: 1} + \\dots + h_{32 \\: 64} \\, w_{64 \\: 1} + b_{1} & h_{32 \\: 1} \\, w_{1 \\: 2} + h_{32 \\: 2} \\, w_{2 \\: 2} + \\dots + h_{32 \\: 64} \\, w_{64 \\: 2} + b_{2} & \\dots & h_{32 \\: 1} \\, w_{1 \\: 27} + h_{32 \\: 2} \\, w_{2 \\: 27} + \\dots + h_{32 \\: 64} \\, w_{64 \\: 27} + b_{27}\\\\\n",
    "\\end{bmatrix}\n",
    "$$\n",
    "\n",
    "For $\\frac{\\partial \\mathbf{L}}{\\partial \\mathbf{H}}$, the partial derivative for entry $i,j$, $\\frac{\\partial \\mathbf{L}_{i j}}{\\partial \\mathbf{H}_{i j}}$, is\n",
    "\n",
    "$$\n",
    "\\frac{\\partial \\mathbf{L}_{i j}}{\\partial \\mathbf{H}_{i j}} = \\frac{\\partial}{\\partial h_{i j}} \\left( h_{i \\: 1} \\, w_{1 \\: i} + h_{i \\: 2} \\, w_{2 \\: i} + \\dots + h_{i \\: j} \\, w_{j \\: i} + \\dots + h_{i \\: 64} \\, w_{64 \\: i} + b_j \\right) = w_{j \\: i}\n",
    "$$\n",
    "\n",
    "which means the partial derivative $\\frac{\\partial \\mathbf{L}}{\\partial \\mathbf{H}}$ is\n",
    "\n",
    "$$\n",
    "\\frac{\\partial \\mathbf{L}}{\\partial \\mathbf{H}} = {\\mathbf{W}_2}^\\mathrm{T}\n",
    "$$\n",
    "\n",
    "By similar logic, the partial derivative $\\frac{\\partial \\mathbf{L}}{\\partial {\\mathbf{W}_2}}$, is\n",
    "\n",
    "$$\n",
    "\\frac{\\partial \\mathbf{L}}{\\partial {\\mathbf{W}_2}}\n",
    "$$\n",
    "\n",
    "Lastly, for $\\mathbf{b}_2$, the partial derivative $\\frac{\\partial \\mathbf{L}}{\\partial \\mathbf{b}_2}$ for entry $i,j$, $\\frac{\\partial \\mathbf{L}_{i j}}{\\partial {\\mathbf{b}_2}_{i j}}$, is\n",
    "\n",
    "$$\n",
    "\\frac{\\partial \\mathbf{L}_{i j}}{\\partial {\\mathbf{b}_2}_{i j}} = \\frac{\\partial}{\\partial {b}_{j}} \\left( h_{i \\: 1} \\, w_{1 \\: i} + h_{i \\: 2} \\, w_{2 \\: i} + \\dots + h_{i \\: j} \\, w_{j \\: i} + \\dots + h_{i \\: 64} \\, w_{64 \\: i} + b_j \\right) = 1\n",
    "$$\n",
    "\n",
    "Since $\\mathbf{b}_2$ is broadcasted, there are $64$ contributions to the gradient $\\frac{\\partial \\mathbf{L}}{\\partial {\\mathbf{b}_2}}$ (one for each row).\n",
    "\n",
    "From here, we can use the chain rule to calculate the derivatives of $\\mathbf{L}$ with respect to $\\mathbf{H}$, $\\mathbf{W}_2$, and $\\mathbf{b}_2$.\n",
    "\n",
    "$$\n",
    "\\begin{align*}\n",
    "    \\frac{\\partial \\mathscr{L}}{\\partial \\mathbf{H}} &= \\frac{\\partial \\mathscr{L}}{\\partial \\mathbf{L}} \\frac{\\partial \\mathbf{L}}{\\partial \\mathbf{H}}\\\\[10pt]\n",
    "    \\frac{\\partial \\mathscr{L}}{\\partial \\mathbf{W}_2} &= \\frac{\\partial \\mathscr{L}}{\\partial \\mathbf{L}} \\frac{\\partial \\mathbf{L}}{\\partial \\mathbf{W}_2}\\\\[10pt]\n",
    "    \\frac{\\partial \\mathscr{L}}{\\partial \\mathbf{b}_2} &= \\frac{\\partial \\mathscr{L}}{\\partial \\mathbf{L}} \\frac{\\partial \\mathbf{L}}{\\partial \\mathbf{b}_2}\n",
    "\\end{align*}\n",
    "$$"
   ]
  },
  {
   "cell_type": "code",
   "execution_count": 28,
   "id": "a2f93c68",
   "metadata": {},
   "outputs": [
    {
     "name": "stdout",
     "output_type": "stream",
     "text": [
      "Knowing the shapes of the tensors involved in the matrix multiplication can help you figure out the correct way to multiply the gradients.\n",
      "logits.shape=torch.Size([32, 27]), W2.shape=torch.Size([64, 27]), h.shape=torch.Size([32, 64]), b2.shape=torch.Size([27])\n"
     ]
    }
   ],
   "source": [
    "print('Knowing the shapes of the tensors involved in the matrix multiplication can help you figure out the correct way to multiply the gradients.')\n",
    "print(f'{logits.shape=}, {W2.shape=}, {h.shape=}, {b2.shape=}')"
   ]
  },
  {
   "cell_type": "code",
   "execution_count": 29,
   "id": "b7433241",
   "metadata": {},
   "outputs": [
    {
     "name": "stdout",
     "output_type": "stream",
     "text": [
      "h               | exact: True  | approximate: True  | maxdiff: 0.0\n",
      "W2              | exact: True  | approximate: True  | maxdiff: 0.0\n",
      "b2              | exact: True  | approximate: True  | maxdiff: 0.0\n"
     ]
    }
   ],
   "source": [
    "dh = dlogits @ W2.T\n",
    "dW2 = h.T @ dlogits\n",
    "db2 = dlogits.sum(0, keepdim=True)\n",
    "cmp('h', dh, h)\n",
    "cmp('W2', dW2, W2)\n",
    "cmp('b2', db2, b2)"
   ]
  },
  {
   "cell_type": "markdown",
   "id": "9cf08476",
   "metadata": {},
   "source": [
    "### Derivative of `loss` with respect to `hpreact`\n",
    "\n",
    "The tensor `h` is defined as\n",
    "\n",
    "```python\n",
    "h = torch.tanh(hpreact)\n",
    "```\n",
    "\n",
    "Note the derivative of $\\mathrm{tanh}$\n",
    "\n",
    "$$\n",
    "y = \\mathrm{tanh}(x) \\Rightarrow \\frac{dy}{dx} = 1 - y^2\n",
    "$$\n",
    "\n",
    "Since $\\mathbf{H} = \\mathrm{tanh}(\\mathbf{H}_{pre \\, activation})$, we know that\n",
    "\n",
    "$$\n",
    "\\frac{\\partial \\mathbf{H}}{\\partial \\mathbf{H}_{pre \\,activation}} = 1 - \\mathbf{H}^2\n",
    "$$\n",
    "\n",
    "From here we can use the chain rule\n",
    "\n",
    "$$\n",
    "\\frac{\\partial \\mathscr{L}}{\\partial \\mathbf{H}_{pre \\, activation}} = \\frac{\\partial \\mathscr{L}}{\\partial \\mathbf{H}} \\frac{\\partial \\mathbf{H}}{\\partial \\mathbf{H}_{pre \\, activation}}\n",
    "$$"
   ]
  },
  {
   "cell_type": "code",
   "execution_count": 30,
   "id": "4e2dea48",
   "metadata": {},
   "outputs": [
    {
     "name": "stdout",
     "output_type": "stream",
     "text": [
      "hpreact         | exact: False | approximate: True  | maxdiff: 9.313225746154785e-10\n"
     ]
    }
   ],
   "source": [
    "dhpreact = dh * (1.0 - h.pow(2))\n",
    "cmp('hpreact', dhpreact, hpreact)"
   ]
  },
  {
   "cell_type": "markdown",
   "id": "c6936812",
   "metadata": {},
   "source": [
    "### Derivative of `loss` with respect to `bngain`, `bnraw`, and `bnbias`\n",
    "\n",
    "The tensor `hpreact` is defined as\n",
    "\n",
    "```python\n",
    "hpreact = bngain * bnraw + bnbias\n",
    "```\n",
    "\n",
    "Note the shapes of each tensor."
   ]
  },
  {
   "cell_type": "code",
   "execution_count": 31,
   "id": "b8716e02",
   "metadata": {},
   "outputs": [
    {
     "name": "stdout",
     "output_type": "stream",
     "text": [
      "hpreact.shape=torch.Size([32, 64]), bngain.shape=torch.Size([1, 64]), bnraw.shape=torch.Size([32, 64]), bnbias.shape=torch.Size([1, 64])\n"
     ]
    }
   ],
   "source": [
    "print(f'{hpreact.shape=}, {bngain.shape=}, {bnraw.shape=}, {bnbias.shape=}')"
   ]
  },
  {
   "cell_type": "markdown",
   "id": "a24fcb1d",
   "metadata": {},
   "source": [
    "Defining the ${\\mathbf{b}_{n}}_{gain}$, ${\\mathbf{B}_{n}}_{raw}$, and ${\\mathbf{b}_{n}}_{bias}$ tensors as\n",
    "\n",
    "$$\n",
    "{\\mathbf{b}_{n}}_{gain} = \\begin{bmatrix}\n",
    "{{b_n}_{gain}}_{1} & {{b_n}_{gain}}_{2} & \\dots & {{b_n}_{gain}}_{64}\n",
    "\\end{bmatrix} \\quad\\quad {\\mathbf{B}_{n}}_{raw} = \\begin{bmatrix}\n",
    "{{b_n}_{raw}}_{1 \\: 1} & {{b_n}_{raw}}_{1 \\: 2} & \\dots & {{b_n}_{raw}}_{1 \\: 64}\\\\\n",
    "{{b_n}_{raw}}_{2 \\: 1} & {{b_n}_{raw}}_{2 \\: 2} & \\dots & {{b_n}_{raw}}_{2 \\: 64}\\\\\n",
    "\\vdots   & \\vdots   & \\ddots & \\vdots\\\\\n",
    "{{b_n}_{raw}}_{32 \\: 1} & {{b_n}_{raw}}_{32 \\: 2} & \\dots & {{b_n}_{raw}}_{32 \\: 64}\\\\\n",
    "\\end{bmatrix} \\quad\\quad {\\mathbf{b}_{n}}_{bias} = \\begin{bmatrix}\n",
    "{{b_n}_{bias}}_{1} & {{b_n}_{bias}}_{2} & \\dots & {{b_n}_{bias}}_{64}\n",
    "\\end{bmatrix}\n",
    "$$\n",
    "\n",
    "The full operation $\\mathbf{H}_{pre \\, activation} = {\\mathbf{b}_{n}}_{gain} \\circ {\\mathbf{B}_{n}}_{raw} + {\\mathbf{b}_{n}}_{bias}$, including broadcasting, is\n",
    "\n",
    "$$\n",
    "\\mathbf{H}_{pre \\, activation} = {\\mathbf{b}_{n}}_{gain} \\circ {\\mathbf{B}_{n}}_{raw} + {\\mathbf{b}_{n}}_{bias} = \\begin{bmatrix}\n",
    "{{b_n}_{gain}}_{1} \\: {{b_n}_{raw}}_{1 \\: 1} + {{b_n}_{bias}}_{1} & {{b_n}_{gain}}_{2} \\: {{b_n}_{raw}}_{1 \\: 2} + {{b_n}_{bias}}_{2} & \\dots & {{b_n}_{gain}}_{64} \\: {{b_n}_{raw}}_{1 \\: 64} + {{b_n}_{bias}}_{64}\\\\\n",
    "{{b_n}_{gain}}_{1} \\: {{b_n}_{raw}}_{2 \\: 1} + {{b_n}_{bias}}_{1} & {{b_n}_{gain}}_{2} \\: {{b_n}_{raw}}_{2 \\: 2} + {{b_n}_{bias}}_{2} & \\dots & {{b_n}_{gain}}_{64} \\: {{b_n}_{raw}}_{2 \\: 64} + {{b_n}_{bias}}_{64}\\\\\n",
    "\\vdots   & \\vdots   & \\ddots & \\vdots\\\\\n",
    "{{b_n}_{gain}}_{1} \\: {{b_n}_{raw}}_{32 \\: 1} + {{b_n}_{bias}}_{1} & {{b_n}_{gain}}_{2} \\: {{b_n}_{raw}}_{32 \\: 2} + {{b_n}_{bias}}_{2} & \\dots & {{b_n}_{gain}}_{64} \\: {{b_n}_{raw}}_{32 \\: 64} + {{b_n}_{bias}}_{64}\\\\\n",
    "\\end{bmatrix}\n",
    "$$\n",
    "\n",
    "Calculating the derivative $\\frac{\\partial {\\mathbf{H}_{pre \\, activation}}}{\\partial {{\\mathbf{b}_{n}}_{gain}}}$\n",
    "\n",
    "$$\n",
    "\\begin{align*}\n",
    "\\frac{\\partial {\\mathbf{H}_{pre \\, activation}}_{i j}}{\\partial {{\\mathbf{b}_{n}}_{gain}}_{i j}} = \\frac{\\partial}{\\partial {{{b}_{n}}_{gain}}_{j}} \\left( {{b_n}_{gain}}_{j} \\: {{b_n}_{raw}}_{i \\: j} + {{b_n}_{bias}}_{j} \\right) = {{b_n}_{raw}}_{i \\: j}\n",
    "\\end{align*}\n",
    "$$\n",
    "\n",
    "$$\n",
    "\\begin{align*}\n",
    "\\frac{\\partial {\\mathbf{H}_{pre \\, activation}}}{\\partial {{\\mathbf{b}_{n}}_{gain}}} = {\\mathbf{B}_{n}}_{raw}\n",
    "\\end{align*}\n",
    "$$\n",
    "\n",
    "Calculating the derivative $\\frac{\\partial {\\mathbf{H}_{pre \\, activation}}}{\\partial {{\\mathbf{B}_{n}}_{raw}}}$\n",
    "\n",
    "$$\n",
    "\\begin{align*}\n",
    "\\frac{\\partial {\\mathbf{H}_{pre \\, activation}}_{i j}}{\\partial {{\\mathbf{B}_{n}}_{raw}}_{i j}} = \\frac{\\partial}{\\partial {{{b}_{n}}_{gain}}_{j}} \\left( {{b_n}_{gain}}_{j} \\: {{b_n}_{raw}}_{i \\: j} + {{b_n}_{bias}}_{j} \\right) = {{b_n}_{gain}}_{j}\n",
    "\\end{align*}\n",
    "$$\n",
    "\n",
    "$$\n",
    "\\begin{align*}\n",
    "\\frac{\\partial {\\mathbf{H}_{pre \\, activation}}}{\\partial {{\\mathbf{B}_{n}}_{raw}}} = {\\mathbf{b}_{n}}_{gain}\n",
    "\\end{align*}\n",
    "$$\n",
    "\n",
    "Calculating the derivative $\\frac{\\partial {\\mathbf{H}_{pre \\, activation}}}{\\partial {{\\mathbf{b}_{n}}_{bias}}}$\n",
    "\n",
    "$$\n",
    "\\begin{align*}\n",
    "\\frac{\\partial {\\mathbf{H}_{pre \\, activation}}_{i j}}{\\partial {{\\mathbf{b}_{n}}_{bias}}_{i j}} = \\frac{\\partial}{\\partial {{{b}_{n}}_{gain}}_{j}} \\left( {{b_n}_{gain}}_{j} \\: {{b_n}_{raw}}_{i \\: j} + {{b_n}_{bias}}_{j} \\right) = 1\n",
    "\\end{align*}\n",
    "$$\n",
    "\n",
    "$$\n",
    "\\begin{align*}\n",
    "\\frac{\\partial {\\mathbf{H}_{pre \\, activation}}}{\\partial {{\\mathbf{b}_{n}}_{bias}}} = 1\n",
    "\\end{align*}\n",
    "$$\n",
    "\n",
    "From here we can use the chain rule\n",
    "\n",
    "$$\n",
    "\\begin{align*}\n",
    "\\frac{\\partial \\mathscr{L}}{\\partial {\\mathbf{b}_{n}}_{gain}} &= \\frac{\\partial \\mathscr{L}}{\\partial \\mathbf{H}_{pre \\, activation}} \\frac{\\partial \\mathbf{H}_{pre \\, activation}}{\\partial {\\mathbf{b}_{n}}_{gain}}\\\\\n",
    "\\frac{\\partial \\mathscr{L}}{\\partial {\\mathbf{B}_{n}}_{raw}} &= \\frac{\\partial \\mathscr{L}}{\\partial \\mathbf{H}_{pre \\, activation}} \\frac{\\partial \\mathbf{H}_{pre \\, activation}}{\\partial {\\mathbf{B}_{n}}_{raw}}\\\\\n",
    "\\frac{\\partial \\mathscr{L}}{\\partial {\\mathbf{b}_{n}}_{bias}} &= \\frac{\\partial \\mathscr{L}}{\\partial \\mathbf{H}_{pre \\, activation}} \\frac{\\partial \\mathbf{H}_{pre \\, activation}}{\\partial {\\mathbf{b}_{n}}_{bias}}\n",
    "\\end{align*}\n",
    "$$"
   ]
  },
  {
   "cell_type": "code",
   "execution_count": 32,
   "id": "e1948637",
   "metadata": {},
   "outputs": [
    {
     "name": "stdout",
     "output_type": "stream",
     "text": [
      "bngain          | exact: False | approximate: True  | maxdiff: 3.725290298461914e-09\n",
      "bnraw           | exact: False | approximate: True  | maxdiff: 9.313225746154785e-10\n",
      "bnbias          | exact: False | approximate: True  | maxdiff: 3.725290298461914e-09\n"
     ]
    }
   ],
   "source": [
    "dbngain = (dhpreact * bnraw).sum(0, keepdim=True)\n",
    "dbnraw = dhpreact * bngain\n",
    "dbnbias = dhpreact.sum(0, keepdim=True)\n",
    "cmp('bngain', dbngain, bngain)\n",
    "cmp('bnraw', dbnraw, bnraw)\n",
    "cmp('bnbias', dbnbias, bnbias)"
   ]
  },
  {
   "cell_type": "markdown",
   "id": "d3ba1534",
   "metadata": {},
   "source": [
    "### Derivative of `loss` with respect to `bnvar_inv`\n",
    "\n",
    "The tensor `bnraw` is defined as\n",
    "\n",
    "```python\n",
    "bnraw = bndiff * bnvar_inv\n",
    "```\n",
    "\n",
    "Note the shapes are different"
   ]
  },
  {
   "cell_type": "code",
   "execution_count": 33,
   "id": "85f1d229",
   "metadata": {},
   "outputs": [
    {
     "name": "stdout",
     "output_type": "stream",
     "text": [
      "bnraw.shape=torch.Size([32, 64]), bndiff.shape=torch.Size([32, 64]), bnvar_inv.shape=torch.Size([1, 64])\n"
     ]
    }
   ],
   "source": [
    "print(f'{bnraw.shape=}, {bndiff.shape=}, {bnvar_inv.shape=}')"
   ]
  },
  {
   "cell_type": "markdown",
   "id": "674ff900",
   "metadata": {},
   "source": [
    "So `bnvar_inv` will be broadcasted.\n",
    "\n",
    "We know how to do back-propagation for element-wise multiplication: we just multiply ${\\mathbf{B}_n}_{diff}$ by $\\frac{\\partial \\mathscr{L}}{\\partial {\\mathbf{B}_n}_{raw}}$ and sum across the rows (because of broadcasting)."
   ]
  },
  {
   "cell_type": "code",
   "execution_count": 34,
   "id": "8c655d4a",
   "metadata": {},
   "outputs": [
    {
     "name": "stdout",
     "output_type": "stream",
     "text": [
      "bnvar_inv       | exact: False | approximate: True  | maxdiff: 7.450580596923828e-09\n"
     ]
    }
   ],
   "source": [
    "dbnvar_inv = (dbnraw * bndiff).sum(0, keepdim=True)\n",
    "cmp('bnvar_inv', dbnvar_inv, bnvar_inv)"
   ]
  },
  {
   "cell_type": "markdown",
   "id": "75f3bc3d",
   "metadata": {},
   "source": [
    "### Derivative of `loss` with respect to `bnvar`\n",
    "\n",
    "The tensor `bnvar_inv` is defined as\n",
    "\n",
    "```python\n",
    "bnvar_inv = (bnvar + 1e-5)**-0.5\n",
    "```\n",
    "\n",
    "Taking the derivative \n",
    "\n",
    "$$\n",
    "\\frac{\\partial {{\\mathbf{B}_n}_{var}}_{inv}}{\\partial {\\mathbf{B}_n}_{var}} = \\frac{\\partial}{\\partial {\\mathbf{B}_n}_{var}} \\left( \\left( {\\mathbf{B}_n}_{var} + 1 \\times 10^{-5} \\right)^{-\\frac{1}{2}} \\right) = - \\frac{1}{2} \\left( {\\mathbf{B}_n}_{var} + 1 \\times 10^{-5} \\right)^{-\\frac{3}{2}}\n",
    "$$\n",
    "\n",
    "From here we can use the chain rule\n",
    "\n",
    "$$\n",
    "\\frac{\\partial \\mathscr{L}}{\\partial {\\mathbf{B}_n}_{var}} = \\frac{\\partial \\mathscr{L}}{\\partial {{\\mathbf{B}_n}_{var}}_{inv}} \\frac{\\partial {{\\mathbf{B}_n}_{var}}_{inv}}{\\partial {\\mathbf{B}_n}_{var}}\n",
    "$$"
   ]
  },
  {
   "cell_type": "code",
   "execution_count": 35,
   "id": "7ef6ddcc",
   "metadata": {},
   "outputs": [
    {
     "name": "stdout",
     "output_type": "stream",
     "text": [
      "bnvar           | exact: False | approximate: True  | maxdiff: 1.3969838619232178e-09\n"
     ]
    }
   ],
   "source": [
    "dbnvar = dbnvar_inv * (-(1.0/2.0) * (bnvar + 1e-5)**(-3.0/2.0))\n",
    "cmp('bnvar', dbnvar, bnvar)"
   ]
  },
  {
   "cell_type": "markdown",
   "id": "50df660a",
   "metadata": {},
   "source": [
    "### Derivative of `loss` with respect to `bndiff2`\n",
    "\n",
    "The tensor `bnvar` is defined as\n",
    "\n",
    "```python\n",
    "bnvar = 1 / (batch_size-1) * bndiff2.sum(0, keepdim=True)\n",
    "```\n",
    "\n",
    "Let $m=32$ be the batch size. If we represent ${{\\mathbf{B}_n}_{diff}}_2$ as\n",
    "\n",
    "$$\n",
    "{{\\mathbf{B}_n}_{diff}}_2 = \\begin{bmatrix}\n",
    "{{{b_n}_{diff}}_2}_{\\: 1 \\, 1} & {{{b_n}_{diff}}_2}_{\\: 1 \\, 2} & \\dots & {{{b_n}_{diff}}_2}_{\\: 1 \\, 64}\\\\\n",
    "{{{b_n}_{diff}}_2}_{\\: 2 \\, 1} & {{{b_n}_{diff}}_2}_{\\: 2 \\, 2} & \\dots & {{{b_n}_{diff}}_2}_{\\: 2 \\, 64}\\\\\n",
    "\\vdots   & \\vdots   & \\ddots & \\vdots\\\\\n",
    "{{{b_n}_{diff}}_2}_{\\: 32 \\, 1} & {{{b_n}_{diff}}_2}_{\\: 32 \\, 2} & \\dots & {{{b_n}_{diff}}_2}_{\\: 32 \\, 64}\\\\\n",
    "\\end{bmatrix}\n",
    "$$\n",
    "\n",
    "Then we define ${\\mathbf{b}_n}_{var}$ as\n",
    "\n",
    "$$\n",
    "{\\mathbf{b}_n}_{var} = \\begin{bmatrix}\n",
    "\\frac{1}{m-1} \\left( {{{b_n}_{diff}}_2}_{\\: 1 \\, 1} + {{{b_n}_{diff}}_2}_{\\: 2 \\, 1} + \\dots + {{{b_n}_{diff}}_2}_{\\: 32 \\, 1} \\right) & \\frac{1}{m-1} \\left( {{{b_n}_{diff}}_2}_{\\: 1 \\, 2} + {{{b_n}_{diff}}_2}_{\\: 2 \\, 2} + \\dots + {{{b_n}_{diff}}_2}_{\\: 32 \\, 2} \\right) & \\dots & \\frac{1}{m-1} \\left( {{{b_n}_{diff}}_2}_{\\: 1 \\, 64} + {{{b_n}_{diff}}_2}_{\\: 2 \\, 64} + \\dots + {{{b_n}_{diff}}_2}_{\\: 32 \\, 64} \\right)\\\\\n",
    "\\end{bmatrix}\n",
    "$$\n",
    "\n",
    "Taking the partial derivative\n",
    "\n",
    "$$\n",
    "\\frac{\\partial {{\\mathbf{b}_n}_{var}}_{i j}}{\\partial {{{\\mathbf{B}_n}_{diff}}_2}_{i j}} = \\frac{\\partial}{\\partial {{{{b}_n}_{diff}}_2}_{i j}} \\left( \\frac{1}{m-1} \\left( {{{b_n}_{diff}}_2}_{\\: 1 \\, j} + {{{b_n}_{diff}}_2}_{\\: 2 \\, j} + \\dots + {{{b_n}_{diff}}_2}_{\\: i \\, j} + \\dots + {{{b_n}_{diff}}_2}_{\\: 32 \\, j} \\right) \\right) = \\frac{1}{m-1}\n",
    "$$\n",
    "\n",
    "From here we can use the chain rule\n",
    "\n",
    "$$\n",
    "\\frac{\\partial \\mathscr{L}}{\\partial {{{\\mathbf{B}_n}_{diff}}_2}} = \\frac{\\partial \\mathscr{L}}{\\partial {{\\mathbf{b}_n}_{var}}} \\frac{\\partial {{\\mathbf{b}_n}_{var}}}{\\partial {{{\\mathbf{B}_n}_{diff}}_2}}\n",
    "$$"
   ]
  },
  {
   "cell_type": "code",
   "execution_count": 36,
   "id": "dc01e450",
   "metadata": {},
   "outputs": [
    {
     "name": "stdout",
     "output_type": "stream",
     "text": [
      "bndiff2         | exact: False | approximate: True  | maxdiff: 4.3655745685100555e-11\n"
     ]
    }
   ],
   "source": [
    "dbndiff2 = dbnvar * ((1.0 / (batch_size - 1)) * torch.ones_like(bndiff2))\n",
    "cmp('bndiff2', dbndiff2, bndiff2)"
   ]
  },
  {
   "cell_type": "markdown",
   "id": "dca8f2d7",
   "metadata": {},
   "source": [
    "### Derivative of `loss` with respect to `bndiff`\n",
    "\n",
    "The tensor `bndiff` is used twice, once in the definition of `bnraw` and again in the definition of `bndiff2`.\n",
    "\n",
    "```python\n",
    "bnraw = bndiff * bnvar_inv\n",
    "bndiff2 = bndiff**2\n",
    "```\n",
    "\n",
    "1. The partial derivative $\\frac{\\partial {\\mathbf{B}_n}_{raw}}{\\partial {\\mathbf{B}_n}_{diff}}$ is\n",
    "\n",
    "    $$\n",
    "    \\frac{\\partial {\\mathbf{B}_n}_{raw}}{\\partial {\\mathbf{B}_n}_{diff}} = {{\\mathbf{B}_n}_{var}}_{inv}\n",
    "    $$\n",
    "\n",
    "    From here we can use the chain rule\n",
    "\n",
    "    $$\n",
    "    \\frac{\\partial \\mathscr{L}}{\\partial {\\mathbf{B}_n}_{diff}} = \\frac{\\partial \\mathscr{L}}{\\partial {{\\mathbf{b}_n}_{raw}}} \\frac{\\partial {{\\mathbf{b}_n}_{raw}}}{\\partial {\\mathbf{B}_n}_{diff}}\n",
    "    $$\n",
    "\n",
    "    Note that this will be broadcasted because $\\frac{\\partial {\\mathbf{B}_n}_{raw}}{\\partial {\\mathbf{B}_n}_{diff}} = {{\\mathbf{B}_n}_{var}}_{inv}$ is a vector and $\\frac{\\partial \\mathscr{L}}{\\partial {{\\mathbf{b}_n}_{raw}}}$ is a 2D matrix.\n",
    "\n",
    "2. The partial derivative $\\frac{\\partial {{\\mathbf{B}_n}_{diff}}_2}{\\partial {\\mathbf{B}_n}_{diff}}$ is\n",
    "\n",
    "    $$\n",
    "    \\frac{\\partial {{\\mathbf{B}_n}_{diff}}_2}{\\partial {\\mathbf{B}_n}_{diff}} = \\frac{\\partial}{\\partial {\\mathbf{B}_n}_{diff}} \\left( {{\\mathbf{B}_n}_{diff}}^2 \\right) = 2 {{\\mathbf{B}_n}_{diff}}\n",
    "    $$\n",
    "\n",
    "    From here we can use the chain rule\n",
    "\n",
    "    $$\n",
    "    \\frac{\\partial \\mathscr{L}}{\\partial {\\mathbf{B}_n}_{diff}} = \\frac{\\partial \\mathscr{L}}{\\partial {{\\mathbf{B}_n}_{diff}}_2} \\frac{\\partial {{\\mathbf{B}_n}_{diff}}_2}{\\partial {\\mathbf{B}_n}_{diff}}\n",
    "    $$"
   ]
  },
  {
   "cell_type": "code",
   "execution_count": 37,
   "id": "78f46a57",
   "metadata": {},
   "outputs": [
    {
     "name": "stdout",
     "output_type": "stream",
     "text": [
      "Inspecting the shapes of the tensors can also help\n",
      "bnraw.shape=torch.Size([32, 64]), bndiff.shape=torch.Size([32, 64]), bndiff2.shape=torch.Size([32, 64]), bnvar_inv.shape=torch.Size([1, 64])\n"
     ]
    }
   ],
   "source": [
    "print('Inspecting the shapes of the tensors can also help')\n",
    "print(f'{bnraw.shape=}, {bndiff.shape=}, {bndiff2.shape=}, {bnvar_inv.shape=}')"
   ]
  },
  {
   "cell_type": "code",
   "execution_count": 38,
   "id": "1b71f62a",
   "metadata": {},
   "outputs": [
    {
     "name": "stdout",
     "output_type": "stream",
     "text": [
      "dbndiff         | exact: False | approximate: True  | maxdiff: 9.313225746154785e-10\n"
     ]
    }
   ],
   "source": [
    "dbndiff = ( dbnraw * bnvar_inv ) + ( dbndiff2 * (2 * bndiff) )\n",
    "cmp('dbndiff', dbndiff, bndiff)"
   ]
  },
  {
   "cell_type": "markdown",
   "id": "8dde5326",
   "metadata": {},
   "source": [
    "### Derivative of `loss` with respect to `bnmeani`\n",
    "\n",
    "The tensor `bndiff` is defined as\n",
    "\n",
    "```python\n",
    "bndiff = hprebn - bnmeani\n",
    "```\n",
    "\n",
    "Note that `bndiff` and `hprebn` are  different sizes."
   ]
  },
  {
   "cell_type": "code",
   "execution_count": 39,
   "id": "a27dcdb8",
   "metadata": {},
   "outputs": [
    {
     "name": "stdout",
     "output_type": "stream",
     "text": [
      "bndiff.shape=torch.Size([32, 64]), bnmeani.shape=torch.Size([1, 64])\n"
     ]
    }
   ],
   "source": [
    "print(f'{bndiff.shape=}, {bnmeani.shape=}')"
   ]
  },
  {
   "cell_type": "markdown",
   "id": "0b75142b",
   "metadata": {},
   "source": [
    "So `bnmeani` will be broadcasted.\n",
    "\n",
    "Since this operation is a subtraction, the partial derivative $\\frac{\\partial {\\mathbf{B}_n}_{diff}}{\\partial {{\\mathbf{b}_n}_{mean}}_i}$ is $-1$. Then we use chain rule $\\frac{\\partial \\mathscr{L}}{\\partial {{\\mathbf{b}_n}_{mean}}_i} = \\frac{\\partial \\mathscr{L}}{\\partial {\\mathbf{B}_n}_{diff}} \\frac{\\partial {\\mathbf{B}_n}_{diff}}{\\partial {{\\mathbf{b}_n}_{mean}}_i}$.\n",
    "\n",
    "Since `bnmeani` is broadcasted, we must perform a sum to add all the contributions to the gradient."
   ]
  },
  {
   "cell_type": "code",
   "execution_count": 40,
   "id": "ca94e0ff",
   "metadata": {},
   "outputs": [
    {
     "name": "stdout",
     "output_type": "stream",
     "text": [
      "bnmeani         | exact: False | approximate: True  | maxdiff: 3.725290298461914e-09\n"
     ]
    }
   ],
   "source": [
    "dbnmeani = (dbndiff * (-1 * torch.ones_like(bndiff))).sum(0, keepdim=True)\n",
    "cmp('bnmeani', dbnmeani, bnmeani)"
   ]
  },
  {
   "cell_type": "markdown",
   "id": "9e33a358",
   "metadata": {},
   "source": [
    "### Derivative of `loss` with respect to `hprebn`\n",
    "\n",
    "The tensor `hprebn` is used twice, once in the definition of `bndiff` and again in the definition of `bnmeani`.\n",
    "\n",
    "```python\n",
    "bndiff = hprebn - bnmeani\n",
    "bnmeani = 1.0 / batch_size * hprebn.sum(0, keepdim=True)\n",
    "```\n",
    "\n",
    "Note that `bndiff` and `hprebn` are the same sizes.\n",
    "\n",
    "1. The partial derivative $\\frac{\\partial {\\mathbf{B}_n}_{diff}}{\\partial {\\mathbf{H}_{pre}}_{b_n}}$ is\n",
    "\n",
    "    $$\n",
    "    \\frac{\\partial {\\mathbf{B}_n}_{diff}}{\\partial {\\mathbf{H}_{pre}}_{b_n}} = 1\n",
    "    $$\n",
    "\n",
    "    From here we can use the chain rule\n",
    "\n",
    "    $$\n",
    "    \\frac{\\partial \\mathscr{L}}{\\partial {\\mathbf{H}_{pre}}_{b_n}} = \\frac{\\partial \\mathscr{L}}{\\partial {{\\mathbf{B}_n}_{diff}}} \\frac{\\partial {{\\mathbf{B}_n}_{diff}}}{\\partial {\\mathbf{H}_{pre}}_{b_n}}\n",
    "    $$\n",
    "\n",
    "2. The partial derivative $\\frac{\\partial {{\\mathbf{B}_n}_{mean}}_i}{\\partial {\\mathbf{H}_{pre}}_{b_n}}$ is\n",
    "\n",
    "    $$\n",
    "    \\frac{\\partial {{\\mathbf{B}_n}_{mean}}_i}{\\partial {\\mathbf{H}_{pre}}_{b_n}} = \\frac{1}{m}\n",
    "    $$\n",
    "\n",
    "    where $m$ is the batch size. From here we can use the chain rule\n",
    "\n",
    "    $$\n",
    "    \\frac{\\partial \\mathscr{L}}{\\partial {\\mathbf{H}_{pre}}_{b_n}} = \\frac{\\partial \\mathscr{L}}{\\partial {{\\mathbf{B}_n}_{mean}}_i} \\frac{\\partial {{\\mathbf{B}_n}_{mean}}_i}{\\partial {\\mathbf{H}_{pre}}_{b_n}}\n",
    "    $$"
   ]
  },
  {
   "cell_type": "code",
   "execution_count": 41,
   "id": "cf3da1f7",
   "metadata": {},
   "outputs": [
    {
     "name": "stdout",
     "output_type": "stream",
     "text": [
      "hprebn          | exact: False | approximate: True  | maxdiff: 9.313225746154785e-10\n"
     ]
    }
   ],
   "source": [
    "dhprebn = ( dbndiff.clone() ) + ( dbnmeani * ((1.0 / batch_size) * torch.ones_like(hprebn)) )\n",
    "cmp('hprebn', dhprebn, hprebn)"
   ]
  },
  {
   "cell_type": "markdown",
   "id": "7aae0b0c",
   "metadata": {},
   "source": [
    "### Derivative of `loss` with respect to `embcat`, `W1`, and `b1`\n",
    "\n",
    "The `hprebn` tensor is defined as\n",
    "\n",
    "```python\n",
    "hprebn = embcat @ W1 + b1\n",
    "```\n",
    "\n",
    "Using the same logic as the matrix multiplication expression `logits = h @ W2 + b2`, we know that the gradients are\n",
    "\n",
    "$$\n",
    "\\begin{align*}\n",
    "\\frac{\\partial {\\mathbf{H}_{pre}}_{b_n}}{\\partial \\mathbf{C}_{cat}} &= {\\mathbf{W}_1}^T\\\\\n",
    "\\frac{\\partial {\\mathbf{H}_{pre}}_{b_n}}{\\partial \\mathbf{W}_1} &= {\\mathbf{C}_{cat}}^T\\\\\n",
    "\\frac{\\partial {\\mathbf{H}_{pre}}_{b_n}}{\\partial \\mathbf{b}_1} &= 1\n",
    "\\end{align*}\n",
    "$$\n",
    "\n",
    "where $\\mathbf{C}_{cat}$ is `embcat`, $\\mathbf{W}_1$ is `W1`, and $\\mathbf{b}_1$ is `b1`. Note that `b1` is broadcasted across the 0th dimension (down columns) due to its differing shape from `embcat @ W1`."
   ]
  },
  {
   "cell_type": "code",
   "execution_count": 42,
   "id": "0f5e48b1",
   "metadata": {},
   "outputs": [
    {
     "name": "stdout",
     "output_type": "stream",
     "text": [
      "hprebn.shape=torch.Size([32, 64]), embcat.shape=torch.Size([32, 30]), W1.shape=torch.Size([30, 64]), b1.shape=torch.Size([64])\n"
     ]
    }
   ],
   "source": [
    "print(f'{hprebn.shape=}, {embcat.shape=}, {W1.shape=}, {b1.shape=}')"
   ]
  },
  {
   "cell_type": "markdown",
   "id": "bdc750c7",
   "metadata": {},
   "source": [
    "From here, we can use the chain rule to calculate the partial derivatives of $\\mathscr{L}$ with respect to $\\mathbf{C}_{cat}$, $\\mathbf{W}_1$, and $\\mathbf{b}_1$.\n",
    "\n",
    "$$\n",
    "\\begin{align*}\n",
    "    \\frac{\\partial \\mathscr{L}}{\\partial \\mathbf{C}_{cat}} &= \\frac{\\partial \\mathscr{L}}{\\partial {\\mathbf{H}_{pre}}_{b_n}} \\frac{\\partial {\\mathbf{H}_{pre}}_{b_n}}{\\partial \\mathbf{C}_{cat}}\\\\[10pt]\n",
    "    \\frac{\\partial \\mathscr{L}}{\\partial \\mathbf{W}_1} &= \\frac{\\partial \\mathscr{L}}{\\partial {\\mathbf{H}_{pre}}_{b_n}} \\frac{\\partial {\\mathbf{H}_{pre}}_{b_n}}{\\partial \\mathbf{W}_1}\\\\[10pt]\n",
    "    \\frac{\\partial \\mathscr{L}}{\\partial \\mathbf{b}_1} &= \\frac{\\partial \\mathscr{L}}{\\partial \\mathbf{L}} \\frac{\\partial {\\mathbf{H}_{pre}}_{b_n}}{\\partial \\mathbf{b}_1}\n",
    "\\end{align*}\n",
    "$$"
   ]
  },
  {
   "cell_type": "code",
   "execution_count": 43,
   "id": "485e8b9b",
   "metadata": {},
   "outputs": [
    {
     "name": "stdout",
     "output_type": "stream",
     "text": [
      "embcat          | exact: False | approximate: True  | maxdiff: 1.862645149230957e-09\n",
      "W1              | exact: False | approximate: True  | maxdiff: 3.725290298461914e-09\n",
      "b1              | exact: False | approximate: True  | maxdiff: 3.725290298461914e-09\n"
     ]
    }
   ],
   "source": [
    "dembcat = dhprebn @ W1.T\n",
    "dW1 = embcat.T @ dhprebn\n",
    "db1 = dhprebn.sum(0, keepdim=True)\n",
    "cmp('embcat', dembcat, embcat)\n",
    "cmp('W1', dW1, W1)\n",
    "cmp('b1', db1, b1)"
   ]
  },
  {
   "cell_type": "markdown",
   "id": "68809dfb",
   "metadata": {},
   "source": [
    "### Derivative of `loss` with respect to `emb`\n",
    "\n",
    "Note that `embcat` is jut a concatenation of `emb`, which in PyTorch is just a different view of the tensor.\n",
    "\n",
    "```python\n",
    "embcat = emb.view(emb.shape[0], -1)\n",
    "```"
   ]
  },
  {
   "cell_type": "code",
   "execution_count": 44,
   "id": "b26b8272",
   "metadata": {},
   "outputs": [
    {
     "name": "stdout",
     "output_type": "stream",
     "text": [
      "embcat.shape=torch.Size([32, 30]), emb.shape=torch.Size([32, 3, 10])\n"
     ]
    }
   ],
   "source": [
    "print(f'{embcat.shape=}, {emb.shape=}')"
   ]
  },
  {
   "cell_type": "markdown",
   "id": "8fa44d33",
   "metadata": {},
   "source": [
    "For the backward pass, we just undo this operation by viewing it as the shape of `emb`. Once we deal with the shape of the tensor, and knowing that $\\frac{\\partial \\mathbf{C}_{cat}}{\\partial \\mathbf{C}} = 1$, we can then use chain rule to get $\\frac{\\partial \\mathscr{L}}{\\partial \\mathbf{C}} = \\frac{\\partial \\mathscr{L}}{\\partial \\mathbf{C}_{cat}} \\frac{\\partial \\mathbf{C}_{cat}}{\\partial \\mathbf{C}}$."
   ]
  },
  {
   "cell_type": "code",
   "execution_count": 45,
   "id": "f9d3a41b",
   "metadata": {},
   "outputs": [
    {
     "name": "stdout",
     "output_type": "stream",
     "text": [
      "emb             | exact: False | approximate: True  | maxdiff: 1.862645149230957e-09\n"
     ]
    }
   ],
   "source": [
    "demb = dembcat.view(emb.shape)\n",
    "cmp('emb', demb, emb)"
   ]
  },
  {
   "cell_type": "markdown",
   "id": "ec9d6801",
   "metadata": {},
   "source": [
    "### Derivative of `loss` with respect to `C`\n",
    "\n",
    "Note that the tensor `emb` is defined as\n",
    "\n",
    "```python\n",
    "emb = C[Xb]\n",
    "```\n",
    "\n",
    "Note what is happening in the example below. The tensor `Xb`, which is $32 \\times 3$, is picking out $3$ rows from `C`, and is doing so $32$ times. For each of the three rows it selects, it gets a vector of length $10$. This is why `emb` is $32 \\times 3 \\times 10$: there are $32$ examples, each with $3$ letters, and each letter represented by a vector with $10$ elements.\n",
    "\n",
    "Note that this only works if all elements in `Xb` are greater than or equal to $0$ and less than $27$, otherwise it would not be able to index `C` (because it is a $27 \\times 10$ tensor)."
   ]
  },
  {
   "cell_type": "code",
   "execution_count": 46,
   "id": "110f2c58",
   "metadata": {},
   "outputs": [
    {
     "name": "stdout",
     "output_type": "stream",
     "text": [
      "emb.shape=torch.Size([32, 3, 10]), C.shape=torch.Size([27, 10]), Xb.shape=torch.Size([32, 3])\n",
      "tensor([1, 1, 4])\n",
      "tensor([[-0.4713,  0.7868, -0.3284, -0.4330,  1.3729,  2.9334,  1.5618, -1.6261,\n",
      "          0.6772, -0.8404],\n",
      "        [-0.4713,  0.7868, -0.3284, -0.4330,  1.3729,  2.9334,  1.5618, -1.6261,\n",
      "          0.6772, -0.8404],\n",
      "        [-0.9648, -0.2321, -0.3476,  0.3324, -1.3263,  1.1224,  0.5964,  0.4585,\n",
      "          0.0540, -1.7400]], grad_fn=<IndexBackward0>)\n",
      "tensor([-0.4713,  0.7868, -0.3284, -0.4330,  1.3729,  2.9334,  1.5618, -1.6261,\n",
      "         0.6772, -0.8404], grad_fn=<SelectBackward0>)\n",
      "tensor([-0.9648, -0.2321, -0.3476,  0.3324, -1.3263,  1.1224,  0.5964,  0.4585,\n",
      "         0.0540, -1.7400], grad_fn=<SelectBackward0>)\n",
      "tensor([[-0.4713,  0.7868, -0.3284, -0.4330,  1.3729,  2.9334,  1.5618, -1.6261,\n",
      "          0.6772, -0.8404],\n",
      "        [-0.4713,  0.7868, -0.3284, -0.4330,  1.3729,  2.9334,  1.5618, -1.6261,\n",
      "          0.6772, -0.8404],\n",
      "        [-0.9648, -0.2321, -0.3476,  0.3324, -1.3263,  1.1224,  0.5964,  0.4585,\n",
      "          0.0540, -1.7400]])\n",
      "tensor([[True, True, True, True, True, True, True, True, True, True],\n",
      "        [True, True, True, True, True, True, True, True, True, True],\n",
      "        [True, True, True, True, True, True, True, True, True, True]])\n",
      "tensor(True)\n",
      "tensor(True)\n"
     ]
    }
   ],
   "source": [
    "print(f'{emb.shape=}, {C.shape=}, {Xb.shape=}')\n",
    "print(Xb[0])\n",
    "print(C[Xb[0]])\n",
    "print(C[1])\n",
    "print(C[4])\n",
    "print(torch.tensor([C[1].tolist(), C[1].tolist(), C[4].tolist()]))\n",
    "print(torch.tensor([C[1].tolist(), C[1].tolist(), C[4].tolist()]) == C[Xb[0].cpu()].cpu())\n",
    "print(torch.all(Xb >= 0))\n",
    "print(torch.all(Xb < 27))"
   ]
  },
  {
   "cell_type": "markdown",
   "id": "850b4aee",
   "metadata": {},
   "source": [
    "To back-propagate this operation, we need to \"route\" the gradient from `emb` to the indices of `C` that are chosen by `Xb`. The rest of the elements of `C` should have a gradient of 0.\n",
    "\n",
    "To do this, we initialize the gradient of `C` to all zeros and iterate through all the letters in `Xb`. For each letter we add the gradient from that letter in `emb` to the corresponding index in `C` (noting that the gradient is a vector of length $10$, since that is how letters are embedded)."
   ]
  },
  {
   "cell_type": "code",
   "execution_count": 47,
   "id": "ed748ee1",
   "metadata": {},
   "outputs": [
    {
     "name": "stdout",
     "output_type": "stream",
     "text": [
      "C               | exact: False | approximate: True  | maxdiff: 3.725290298461914e-09\n"
     ]
    }
   ],
   "source": [
    "dC = torch.zeros_like(C)\n",
    "for k in range(Xb.shape[0]):\n",
    "    for j in range(Xb.shape[1]):\n",
    "        ix = Xb[k, j]\n",
    "        dC[ix] += demb[k, j]\n",
    "cmp('C', dC, C)"
   ]
  },
  {
   "cell_type": "markdown",
   "id": "00b49347",
   "metadata": {},
   "source": [
    "## Exercise 2 - Back-Propagation Manually through the Entire Cross-Entropy Calculation\n",
    "\n",
    "We perform cross-entropy loss as such:\n",
    "\n",
    "```python\n",
    "logits = h @ W2 + b2\n",
    "\n",
    "logit_maxes = logits.max(1, keepdim=True).values\n",
    "norm_logits = logits - logit_maxes\n",
    "\n",
    "counts = norm_logits.exp()\n",
    "counts_sum = counts.sum(1, keepdim=True)\n",
    "counts_sum_inv = counts_sum**-1\n",
    "probs = counts * counts_sum_inv\n",
    "logprobs = probs.log()\n",
    "loss = -logprobs[range(batch_size), Yb].mean()\n",
    "```\n",
    "\n",
    "For a single example, `logits` would be a $1 \\times 27$ vector $\\mathbf{\\ell}$.\n",
    "\n",
    "$$\n",
    "\\mathbf{\\ell} = \\begin{bmatrix} \\ell_1 & \\ell_2 & \\dots & \\ell_{27} \\end{bmatrix}\n",
    "$$\n",
    "\n",
    "To get the counts vector $\\mathbf{c}$, we perform element-wise exponentiation.\n",
    "\n",
    "$$\n",
    "\\mathbf{c} = \\begin{bmatrix} e^{\\ell_1} & e^{\\ell_2} & \\dots & e^{\\ell_{27}} \\end{bmatrix}\n",
    "$$\n",
    "\n",
    "Then to get probabilities, we divide each of the counts by the sum of the counts (softmax).\n",
    "\n",
    "$$\n",
    "\\mathbf{p} = \\begin{bmatrix} \\frac{e^{\\ell_1}}{\\sum_{j=1}^{27} e^{\\ell_j}} & \\frac{e^{\\ell_2}}{\\sum_{j=1}^{27} e^{\\ell_j}} & \\dots & \\frac{e^{\\ell_{27}}}{\\sum_{j=1}^{27} e^{\\ell_j}} \\end{bmatrix}\n",
    "$$\n",
    "\n",
    "We then take the negative logarithm to get negative log likelihoods (NLLs).\n",
    "\n",
    "$$\n",
    "\\mathbf{p'} = \\begin{bmatrix} -\\log\\left(\\frac{e^{\\ell_1}}{\\sum_{j=1}^{27} e^{\\ell_j}}\\right) & -\\log\\left(\\frac{e^{\\ell_2}}{\\sum_{j=1}^{27} e^{\\ell_j}}\\right) & \\dots & -\\log\\left(\\frac{e^{\\ell_{27}}}{\\sum_{j=1}^{27} e^{\\ell_j}}\\right) \\end{bmatrix}\n",
    "$$\n",
    "\n",
    "Then the loss of this example is the NLL of the correct label. Let's call this label $y$, so the correct logit is $\\ell_y$, and the expression for loss, $\\mathscr{L}$, becomes\n",
    "\n",
    "$$\n",
    "\\mathscr{L} = -\\log\\left(\\frac{e^{\\ell_y}}{\\sum_{j=1}^{27} e^{\\ell_j}}\\right)\n",
    "$$\n",
    "\n",
    "We want to find an expression for loss with respect to each logit, meaning $\\frac{\\partial \\mathscr{L}}{\\partial \\ell_i}$ for all $i = 1, 2, \\dots, 27$.\n",
    "\n",
    "$$\n",
    "\\begin{align*}\n",
    "    \\frac{\\partial \\mathscr{L}}{\\partial \\ell_i} &= \\frac{\\partial}{\\partial \\ell_i} \\left( -\\log\\left(\\frac{e^{\\ell_y}}{\\sum_{j=1}^{27} e^{\\ell_j}}\\right) \\right)\\\\\n",
    "        &= - \\frac{\\partial}{\\partial \\ell_i} \\left( \\log\\left(\\frac{e^{\\ell_y}}{\\sum_{j=1}^{27} e^{\\ell_j}}\\right) \\right)\\\\\n",
    "        &= - \\frac{1}{\\frac{e^{\\ell_y}}{\\sum_{j=1}^{27} e^{\\ell_j}}} \\frac{\\partial}{\\partial \\ell_i} \\left( \\frac{e^{\\ell_y}}{\\sum_{j=1}^{27} e^{\\ell_j}} \\right)\\\\\n",
    "        &= - \\frac{\\sum_{j=1}^{27} e^{\\ell_j}}{e^{\\ell_y}} \\frac{\\partial}{\\partial \\ell_i} \\left( \\frac{e^{\\ell_y}}{\\sum_{j=1}^{27} e^{\\ell_j}} \\right)\\\\\n",
    "        &= - \\frac{\\sum_{j=1}^{27} e^{\\ell_j}}{e^{\\ell_y}} \\left( \\frac{\\frac{\\partial}{\\partial \\ell_i} \\left( e^{\\ell_y} \\right) \\sum_{j=1}^{27} e^{\\ell_j} - e^{\\ell_y} \\frac{\\partial}{\\partial \\ell_i} \\left( \\sum_{j=1}^{27} e^{\\ell_j} \\right)}{\\left( \\sum_{j=1}^{27} e^{\\ell_j} \\right)^2} \\right)\\\\\n",
    "        &= - \\frac{\\sum_{j=1}^{27} e^{\\ell_j}}{e^{\\ell_y}} \\left( \\frac{\\frac{\\partial}{\\partial \\ell_i} \\left( e^{\\ell_y} \\right) \\sum_{j=1}^{27} e^{\\ell_j} - e^{\\ell_y} e^{\\ell_i}}{\\left( \\sum_{j=1}^{27} e^{\\ell_j} \\right)^2} \\right)\\\\\n",
    "    \\frac{\\partial \\mathscr{L}}{\\partial \\ell_i} &= - \\frac{1}{e^{\\ell_y}} \\left( \\frac{\\frac{\\partial}{\\partial \\ell_i} \\left( e^{\\ell_y} \\right) \\sum_{j=1}^{27} e^{\\ell_j} - e^{\\ell_y} e^{\\ell_i}}{\\sum_{j=1}^{27} e^{\\ell_j}} \\right)\n",
    "\\end{align*}\n",
    "$$\n",
    "\n",
    "We now have to separate cases:\n",
    "\n",
    "- If $i = y$:\n",
    "\n",
    "    $$\n",
    "    \\begin{align*}\n",
    "        \\frac{\\partial \\mathscr{L}}{\\partial \\ell_i} &= - \\frac{1}{e^{\\ell_i}} \\left( \\frac{\\frac{\\partial}{\\partial \\ell_i} \\left( e^{\\ell_i} \\right) \\sum_{j=1}^{27} e^{\\ell_j} - e^{\\ell_i} e^{\\ell_i}}{\\sum_{j=1}^{27} e^{\\ell_j}} \\right)\\\\\n",
    "            &= - \\frac{1}{e^{\\ell_i}} \\left( \\frac{e^{\\ell_i} \\sum_{j=1}^{27} e^{\\ell_j} - e^{\\ell_i} e^{\\ell_i}}{\\sum_{j=1}^{27} e^{\\ell_j}} \\right)\\\\\n",
    "            &= - \\frac{\\sum_{j=1}^{27} e^{\\ell_j} - e^{\\ell_i}}{\\sum_{j=1}^{27} e^{\\ell_j}}\\\\\n",
    "            &= \\frac{e^{\\ell_i} - \\sum_{j=1}^{27} e^{\\ell_j}}{\\sum_{j=1}^{27} e^{\\ell_j}}\\\\\n",
    "            &= \\frac{e^{\\ell_i}}{\\sum_{j=1}^{27} e^{\\ell_j}} - \\frac{\\sum_{j=1}^{27} e^{\\ell_j}}{\\sum_{j=1}^{27} e^{\\ell_j}}\\\\\n",
    "        \\frac{\\partial \\mathscr{L}}{\\partial \\ell_i} &= \\frac{e^{\\ell_i}}{\\sum_{j=1}^{27} e^{\\ell_j}} - 1\n",
    "    \\end{align*}\n",
    "    $$\n",
    "\n",
    "    Note that $\\frac{e^{\\ell_i}}{\\sum_{j=1}^{27} e^{\\ell_j}}$ is the definition of $p_i$ (from the softmax probability vector $\\mathbf{p}$).\n",
    "\n",
    "    $$\n",
    "    \\frac{\\partial \\mathscr{L}}{\\partial \\ell_i} = p_i - 1\n",
    "    $$\n",
    "\n",
    "- If $i \\ne y$:\n",
    "\n",
    "    $$\n",
    "    \\begin{align*}\n",
    "        \\frac{\\partial \\mathscr{L}}{\\partial \\ell_i} &= - \\frac{1}{e^{\\ell_y}} \\left( \\frac{\\frac{\\partial}{\\partial \\ell_i} \\left( e^{\\ell_y} \\right) \\sum_{j=1}^{27} e^{\\ell_j} - e^{\\ell_y} e^{\\ell_i}}{\\sum_{j=1}^{27} e^{\\ell_j}} \\right)\\\\\n",
    "            &= - \\frac{1}{e^{\\ell_y}} \\left( \\frac{0 \\cdot \\sum_{j=1}^{27} e^{\\ell_j} - e^{\\ell_y} e^{\\ell_i}}{\\sum_{j=1}^{27} e^{\\ell_j}} \\right)\\\\\n",
    "            &= - \\frac{1}{e^{\\ell_y}} \\left( \\frac{0 - e^{\\ell_y} e^{\\ell_i}}{\\sum_{j=1}^{27} e^{\\ell_j}} \\right)\\\\\n",
    "            &= - \\frac{1}{e^{\\ell_y}} \\left( \\frac{- e^{\\ell_y} e^{\\ell_i}}{\\sum_{j=1}^{27} e^{\\ell_j}} \\right)\\\\\n",
    "            &= \\frac{1}{e^{\\ell_y}} \\left( \\frac{e^{\\ell_y} e^{\\ell_i}}{\\sum_{j=1}^{27} e^{\\ell_j}} \\right)\\\\\n",
    "        \\frac{\\partial \\mathscr{L}}{\\partial \\ell_i} &= \\frac{e^{\\ell_i}}{\\sum_{j=1}^{27} e^{\\ell_j}}\\\\\n",
    "    \\end{align*}\n",
    "    $$\n",
    "\n",
    "    Again, note that $\\frac{e^{\\ell_i}}{\\sum_{j=1}^{27} e^{\\ell_j}}$ is the definition of $p_i$ (from the softmax probability vector $\\mathbf{p}$).\n",
    "\n",
    "    $$\n",
    "    \\frac{\\partial \\mathscr{L}}{\\partial \\ell_i} = p_i\n",
    "    $$"
   ]
  },
  {
   "cell_type": "code",
   "execution_count": 48,
   "id": "e895d17e",
   "metadata": {},
   "outputs": [
    {
     "name": "stdout",
     "output_type": "stream",
     "text": [
      "logits          | exact: False | approximate: True  | maxdiff: 9.313225746154785e-09\n"
     ]
    }
   ],
   "source": [
    "dlogits = F.softmax(logits, 1)      # Each logit[i,j] starts with gradient p[i,j]\n",
    "dlogits[range(batch_size), Yb] -= 1 # Subtract 1 from the correct labels\n",
    "dlogits /= batch_size               # Divide by the batch size since loss is averaged over batches\n",
    "cmp('logits', dlogits, logits)"
   ]
  },
  {
   "cell_type": "markdown",
   "id": "03685a0a",
   "metadata": {},
   "source": [
    "Note that for each logit, its partial derivative is negative for the correct label and is positive, but very small, for the incorrect labels."
   ]
  },
  {
   "cell_type": "code",
   "execution_count": 49,
   "id": "9f7a519b",
   "metadata": {},
   "outputs": [
    {
     "data": {
      "text/plain": [
       "tensor([ 0.0745,  0.0857,  0.0193,  0.0522,  0.0195,  0.0817,  0.0242,  0.0353,\n",
       "        -0.9815,  0.0278,  0.0388,  0.0341,  0.0358,  0.0283,  0.0361,  0.0146,\n",
       "         0.0098,  0.0188,  0.0141,  0.0525,  0.0557,  0.0219,  0.0247,  0.0714,\n",
       "         0.0564,  0.0252,  0.0229], grad_fn=<MulBackward0>)"
      ]
     },
     "execution_count": 49,
     "metadata": {},
     "output_type": "execute_result"
    }
   ],
   "source": [
    "dlogits[0] * batch_size"
   ]
  },
  {
   "cell_type": "markdown",
   "id": "084177ce",
   "metadata": {},
   "source": [
    "The sum across the partial derivative of the logits for each example is approximately $0$."
   ]
  },
  {
   "cell_type": "code",
   "execution_count": 50,
   "id": "910e301d",
   "metadata": {},
   "outputs": [
    {
     "data": {
      "text/plain": [
       "tensor(6.9849e-10, grad_fn=<SumBackward0>)"
      ]
     },
     "execution_count": 50,
     "metadata": {},
     "output_type": "execute_result"
    }
   ],
   "source": [
    "dlogits[0].sum()"
   ]
  },
  {
   "cell_type": "markdown",
   "id": "7cffd7d0",
   "metadata": {},
   "source": [
    "So the gradient is kind of like a force for the logits, where the correct label pulls it in one direction, and the incorrect labels pull it slightly in the opposite direction, and the net force is approximately $0$. Since the neurons are all connected, eventually the force of pulling on these logits causes a pull on the weights and biases."
   ]
  },
  {
   "cell_type": "code",
   "execution_count": 51,
   "id": "ac320fd7",
   "metadata": {},
   "outputs": [
    {
     "data": {
      "image/png": "[encoded data removed]",
      "text/plain": [
       "<Figure size 800x800 with 1 Axes>"
      ]
     },
     "metadata": {},
     "output_type": "display_data"
    }
   ],
   "source": [
    "plt.figure(figsize=(8, 8))\n",
    "plt.imshow(dlogits.detach().cpu(), cmap='gray')\n",
    "plt.title('Gradient of Logits')\n",
    "plt.xlabel('Character')\n",
    "plt.ylabel('Example in batch')\n",
    "plt.show()"
   ]
  },
  {
   "cell_type": "markdown",
   "id": "9078d72f",
   "metadata": {},
   "source": [
    "Note also that we can reduce the code in the forward pass with the built-in PyTorch cross-entropy function."
   ]
  },
  {
   "cell_type": "code",
   "execution_count": 52,
   "id": "17fbd95a",
   "metadata": {},
   "outputs": [
    {
     "name": "stdout",
     "output_type": "stream",
     "text": [
      "Manually calculated loss: 3.3541, PyTorch cross-entropy loss: 3.3541, Difference: 0.0\n"
     ]
    }
   ],
   "source": [
    "loss_fast = F.cross_entropy(logits, Yb)\n",
    "print(f'Manually calculated loss: {loss.item():.4f}, PyTorch cross-entropy loss: {loss_fast.item():.4f}, Difference: {loss-loss_fast.abs().item()}')"
   ]
  },
  {
   "cell_type": "markdown",
   "id": "a1c3093a",
   "metadata": {},
   "source": [
    "## Exercise 3 - Back-Propagate through the Entire Batch Normalization Calculation\n",
    "\n",
    "We perform batch normalization as such:\n",
    "\n",
    "```python\n",
    "bnmeani = 1.0 / batch_size * hprebn.sum(0, keepdim=True)\n",
    "bndiff = hprebn - bnmeani\n",
    "bndiff2 = bndiff**2\n",
    "bnvar = 1 / (batch_size-1) * bndiff2.sum(0, keepdim=True)\n",
    "bnvar_inv = (bnvar + 1e-5)**-0.5\n",
    "bnraw = bndiff * bnvar_inv\n",
    "hpreact = bngain * bnraw + bnbias\n",
    "```\n",
    "\n",
    "Let `hprebn` (the output of $\\mathbf{C}_{cat} \\mathbf{W}_1 + \\mathbf{b}_1$, just before batch normalization) be $\\mathbf{x}$ and `hpreact` (the output of batch normalization, just before activation) be $\\mathbf{y}$. The vectors $\\mathbf{x}$ and $\\mathbf{y}$ are of size $m$, which is the batch size.\n",
    "\n",
    "Formally, the batch normalization is performed by first calculating the mean of $\\mathbf{x}$, which we call $\\mu_B$.\n",
    "\n",
    "$$\n",
    "\\mu_B = \\frac{1}{m} \\sum_{i=1}^m x_i\n",
    "$$\n",
    "\n",
    "Then the variance of $\\mathbf{x}$ is calculated, referred to as $\\sigma_B^2$.\n",
    "\n",
    "$$\n",
    "\\sigma_B^2 = \\frac{1}{m-1} \\sum_{i=1}^m \\left( x_i - \\mu_B \\right)^2\n",
    "$$\n",
    "\n",
    "Note that dividing by $m-1$ instead of $m$ is Bessel's correction.\n",
    "\n",
    "We then calculate `bnraw`, which we refer to as $\\hat{\\mathbf{x}}$. For each $i=1,2,\\dots,m$ we calculate $\\hat{x}_i$ as\n",
    "\n",
    "$$\n",
    "\\hat{x}_i = \\frac{x_i - \\mu_B}{\\sqrt{\\sigma_B^2 + \\epsilon}}\n",
    "$$\n",
    "\n",
    "where $\\epsilon$ is a small positive number ($1 \\times 10^{-5}$ in our case).\n",
    "\n",
    "Finally, we calculate $y_i$ for $i=1,2,\\dots,m$ as\n",
    "\n",
    "$$\n",
    "y_i = \\gamma \\hat{x}_i + \\beta\n",
    "$$\n",
    "\n",
    "where $\\gamma$ and $\\beta$ are the gain and bias vectors, respectively.\n",
    "\n",
    "We want to find $\\frac{\\partial \\mathscr{L}}{\\partial x_i}$, given that we have $\\frac{\\partial \\mathscr{L}}{\\partial y_i}$. We can back-propagate our way toward $\\mathbf{x}$ on step at a time, starting at $\\hat{\\mathbf{x}}$.\n",
    "\n",
    "First, we want to find $\\frac{\\partial \\mathscr{L}}{\\partial \\hat{x}_i}$, so we can use the chain rule to note that\n",
    "\n",
    "$$\n",
    "\\frac{\\partial \\mathscr{L}}{\\partial \\hat{x}_i} = \\frac{\\partial \\mathscr{L}}{\\partial y_i} \\frac{\\partial y_i}{\\partial \\hat{x}_i}\n",
    "$$\n",
    "\n",
    "Calculating $\\frac{\\partial y_i}{\\partial \\hat{x}_i}$:\n",
    "\n",
    "$$\n",
    "\\frac{\\partial y_i}{\\partial \\hat{x}_i} = \\frac{\\partial}{\\partial \\hat{x}_i} \\left( \\gamma \\hat{x}_i + \\beta \\right) = \\gamma\n",
    "$$\n",
    "\n",
    "So we have\n",
    "\n",
    "$$\n",
    "\\frac{\\partial \\mathscr{L}}{\\partial \\hat{x}_i} = \\frac{\\partial \\mathscr{L}}{\\partial y_i} \\gamma\n",
    "$$\n",
    "\n",
    "Next, we can find $\\frac{\\partial \\mathscr{L}}{\\partial \\sigma_B^2}$ using the chain rule, and remembering to sum the contributions to the gradient because $\\sigma_B$ is a scalar while $\\hat{\\mathbf{x}}$ is a vector.\n",
    "\n",
    "$$\n",
    "\\frac{\\partial \\mathscr{L}}{\\partial \\sigma_B^2} = \\sum_{i=1}^m \\left( \\frac{\\partial \\mathscr{L}}{\\partial \\hat{x}_i} \\frac{\\partial \\hat{x}_i}{\\partial \\sigma_B^2} \\right)\n",
    "$$\n",
    "\n",
    "Calculating $\\frac{\\partial \\hat{x}_i}{\\partial \\sigma_B^2}$:\n",
    "\n",
    "$$\n",
    "\\begin{align*}\n",
    "    \\frac{\\partial \\hat{x}_i}{\\partial \\sigma_B^2} &= \\frac{\\partial}{\\partial \\sigma_B^2} \\left( \\frac{x_i - \\mu_B}{\\sqrt{\\sigma_B^2 + \\epsilon}} \\right)\\\\\n",
    "        &= \\frac{\\partial}{\\partial \\sigma_B^2} \\left( \\left( x_i - \\mu_B \\right) \\left( \\sigma_B^2 + \\epsilon \\right)^{-\\frac{1}{2}} \\right)\\\\\n",
    "        &= \\left( x_i - \\mu_B \\right) \\frac{\\partial}{\\partial \\sigma_B^2} \\left(  \\left( \\sigma_B^2 + \\epsilon \\right)^{-\\frac{1}{2}} \\right)\\\\\n",
    "        &= \\left( x_i - \\mu_B \\right) \\cdot - \\frac{1}{2} \\left( \\sigma_B^2 + \\epsilon \\right)^{-\\frac{3}{2}} \\frac{\\partial}{\\partial \\sigma_B^2} \\left( \\sigma_B^2 + \\epsilon \\right)\\\\\n",
    "        &= \\left( x_i - \\mu_B \\right) \\cdot - \\frac{1}{2} \\left( \\sigma_B^2 + \\epsilon \\right)^{-\\frac{3}{2}} \\cdot 1\\\\\n",
    "    \\frac{\\partial \\hat{x}_i}{\\partial \\sigma_B^2} &= - \\frac{\\left( x_i - \\mu_B \\right)}{2 \\left( \\sigma_B^2 + \\epsilon \\right)^{\\frac{3}{2}}}\n",
    "\\end{align*}\n",
    "$$\n",
    "\n",
    "So we can express $\\frac{\\partial \\mathscr{L}}{\\partial \\sigma_B^2}$ as\n",
    "\n",
    "$$\n",
    "\\begin{align*}\n",
    "    \\frac{\\partial \\mathscr{L}}{\\partial \\sigma_B^2} &= \\sum_{i=1}^m \\left( \\frac{\\partial \\mathscr{L}}{\\partial \\hat{x}_i} \\frac{\\partial \\hat{x}_i}{\\partial \\sigma_B^2} \\right)\\\\\n",
    "        &= \\sum_{i=1}^m \\left( \\frac{\\partial \\mathscr{L}}{\\partial y_i} \\gamma \\cdot - \\frac{\\left( x_i - \\mu_B \\right)}{2 \\left( \\sigma_B^2 + \\epsilon \\right)^{\\frac{3}{2}}} \\right)\\\\\n",
    "    \\frac{\\partial \\mathscr{L}}{\\partial \\sigma_B^2} &= -\\frac{1}{2} \\gamma \\sum_{i=1}^m \\left( \\frac{\\partial \\mathscr{L}}{\\partial y_i} \\frac{\\left( x_i - \\mu_B \\right)}{\\left( \\sigma_B^2 + \\epsilon \\right)^{\\frac{3}{2}}} \\right)\n",
    "\\end{align*}\n",
    "$$\n",
    "\n",
    "We follow a similar process for $\\frac{\\partial \\mathscr{L}}{\\partial \\mu_B^2}$. The scalar $\\mu_B$ is used $m$ times by $\\hat{\\mathbf{x}}$ (once for each $\\hat{x}_i$) and once by $\\sigma_B^2$. All of these contributions sum up to get the full expression for the gradient of $\\mu_B$.\n",
    "\n",
    "$$\n",
    "\\frac{\\partial \\mathscr{L}}{\\partial \\mu_B} = \\sum_{i=1}^m \\left( \\frac{\\partial \\mathscr{L}}{\\partial \\hat{x}_i} \\frac{\\partial \\hat{x}_i}{\\partial \\mu_B} \\right) + \\frac{\\partial \\mathscr{L}}{\\partial \\sigma_B^2} \\frac{\\partial \\sigma_B^2}{\\partial \\mu_B}\n",
    "$$\n",
    "\n",
    "Calculating $\\frac{\\partial \\hat{x}_i}{\\partial \\mu_B}$:\n",
    "\n",
    "$$\n",
    "\\begin{align*}\n",
    "    \\frac{\\partial \\hat{x}_i}{\\partial \\mu_B} &= \\frac{\\partial}{\\partial \\mu_B} \\left( \\frac{x_i - \\mu_B}{\\sqrt{\\sigma_B^2 + \\epsilon}} \\right) = - \\frac{1}{\\sqrt{\\sigma_B^2 + \\epsilon}}\n",
    "\\end{align*}\n",
    "$$\n",
    "\n",
    "Calculating $\\frac{\\partial \\sigma_B^2}{\\partial \\mu_B}$:\n",
    "\n",
    "$$\n",
    "\\begin{align*}\n",
    "    \\frac{\\partial \\sigma_B^2}{\\partial \\mu_B} &= \\frac{\\partial}{\\partial \\mu_B} \\left( \\frac{1}{m-1} \\sum_{i=1}^m \\left( x_i - \\mu_B \\right)^2 \\right)\\\\\n",
    "        &= \\frac{\\partial}{\\partial \\mu_B} \\left( \\frac{1}{m-1} \\left( \\left( x_1 - \\mu_B \\right)^2 + \\left( x_2 - \\mu_B \\right)^2 + \\dots + \\left( x_m - \\mu_B \\right)^2 \\right) \\right)\\\\\n",
    "        &= \\frac{1}{m-1} \\left( \\frac{\\partial}{\\partial \\mu_B} \\left( \\left( x_1 - \\mu_B \\right)^2 + \\left( x_2 - \\mu_B \\right)^2 + \\dots + \\left( x_m - \\mu_B \\right)^2 \\right) \\right)\\\\\n",
    "        &= \\frac{1}{m-1} \\left( \\frac{\\partial}{\\partial \\mu_B} \\left( x_1 - \\mu_B \\right)^2 + \\frac{\\partial}{\\partial \\mu_B} \\left( x_2 - \\mu_B \\right)^2 + \\dots + \\frac{\\partial}{\\partial \\mu_B} \\left( x_m - \\mu_B \\right)^2 \\right)\\\\\n",
    "        &= \\frac{1}{m-1} \\left( 2 \\left( x_1 - \\mu_B \\right) \\frac{\\partial}{\\partial \\mu_B} \\left( x_1 - \\mu_B \\right) + 2 \\left( x_2 - \\mu_B \\right) \\frac{\\partial}{\\partial \\mu_B} \\left( x_2 - \\mu_B \\right) + \\dots + 2 \\left( x_m - \\mu_B \\right) \\frac{\\partial}{\\partial \\mu_B} \\left( x_m - \\mu_B \\right) \\right)\\\\\n",
    "        &= \\frac{1}{m-1} \\left( 2 \\left( x_1 - \\mu_B \\right) + 2 \\left( x_2 - \\mu_B \\right) + \\dots + 2 \\left( x_m - \\mu_B \\right) \\right)\\\\\n",
    "        &= \\frac{2}{m-1} \\left( \\left( x_1 - \\mu_B \\right) + \\left( x_2 - \\mu_B \\right) + \\dots + \\left( x_m - \\mu_B \\right) \\right)\\\\\n",
    "        &= \\frac{2}{m-1} \\left( x_1 + x_2 + \\dots + x_m - \\mu_B - \\mu_B - \\dots - \\mu_B \\right)\\\\\n",
    "    \\frac{\\partial \\sigma_B^2}{\\partial \\mu_B} &= \\frac{2}{m-1} \\left( \\sum_{i=1}^m x_i - m \\mu_B \\right)\n",
    "\\end{align*}\n",
    "$$\n",
    "\n",
    "Note that since $\\mu_B = \\frac{1}{m} \\sum_{i=1}^m x_i$, we also have $m \\mu_B = \\sum_{i=1}^m x_i$.\n",
    "\n",
    "$$\n",
    "\\begin{align*}\n",
    "    \\frac{\\partial \\sigma_B^2}{\\partial \\mu_B} &= \\frac{2}{m-1} \\left( m \\mu_B - m \\mu_B \\right)\\\\\n",
    "    \\frac{\\partial \\sigma_B^2}{\\partial \\mu_B} &= 0\n",
    "\\end{align*}\n",
    "$$\n",
    "\n",
    "Putting the components for the gradient of $\\mu_B$ together:\n",
    "\n",
    "$$\n",
    "\\begin{align*}\n",
    "\\frac{\\partial \\mathscr{L}}{\\partial \\mu_B} &= \\sum_{i=1}^m \\left( \\frac{\\partial \\mathscr{L}}{\\partial \\hat{x}_i} \\frac{\\partial \\hat{x}_i}{\\partial \\mu_B} \\right) + \\frac{\\partial \\mathscr{L}}{\\partial \\sigma_B^2} \\frac{\\partial \\sigma_B^2}{\\partial \\mu_B}\\\\\n",
    "    &= \\sum_{i=1}^m \\left( \\frac{\\partial \\mathscr{L}}{\\partial y_i} \\gamma \\left( - \\frac{1}{\\sqrt{\\sigma_B^2 + \\epsilon}} \\right) \\right) + 0\\\\\n",
    " \\frac{\\partial \\mathscr{L}}{\\partial \\mu_B} &= - \\gamma \\frac{1}{\\sqrt{\\sigma_B^2 + \\epsilon}} \\sum_{i=1}^m \\left( \\frac{\\partial \\mathscr{L}}{\\partial y_i} \\right)\n",
    "\\end{align*}\n",
    "$$\n",
    "\n",
    "Finally, we can calculate $\\frac{\\partial \\mathscr{L}}{\\partial x_i}$. Note that the scalars $\\mu_B$ and $\\sigma_B^2$ depend on each $x_i$. And, since $\\hat{x}_i = \\frac{x_i - \\mu_B}{\\sqrt{\\sigma_B^2 + \\epsilon}}$, each $\\hat{x}_i$ depends on $x_i$. So for each $x_i$, for $i=1,2,\\dots,m$, there are three contributions to the gradient.\n",
    "\n",
    "$$\n",
    "\\frac{\\partial \\mathscr{L}}{\\partial x_i} = \\frac{\\partial \\mathscr{L}}{\\partial \\hat{x}_i} \\frac{\\partial \\hat{x}_i}{\\partial x_i} + \\frac{\\partial \\mathscr{L}}{\\partial \\mu_B} \\frac{\\partial \\mu_B}{\\partial x_i} + \\frac{\\partial \\mathscr{L}}{\\partial \\sigma_B^2} \\frac{\\partial \\sigma_B^2}{\\partial x_i}\n",
    "$$\n",
    "\n",
    "Calculating $\\frac{\\partial \\hat{x}_i}{\\partial x_i}$:\n",
    "\n",
    "$$\n",
    "\\frac{\\partial \\hat{x}_i}{\\partial x_i} = \\frac{\\partial}{\\partial x_i} \\left( \\frac{x_i - \\mu_B}{\\sqrt{\\sigma_B^2 + \\epsilon}} \\right) = \\frac{1}{\\sqrt{\\sigma_B^2 + \\epsilon}}\n",
    "$$\n",
    "\n",
    "Calculating $\\frac{\\partial \\mu_B}{\\partial x_i}$:\n",
    "\n",
    "$$\n",
    "\\begin{align*}\n",
    "    \\frac{\\partial \\mu_B}{\\partial x_i} &= \\frac{\\partial}{\\partial x_i} \\left( \\frac{1}{m} \\sum_{i=1}^m x_i \\right)\\\\\n",
    "        &= \\frac{1}{m} \\frac{\\partial}{\\partial x_i} \\left( x_1 + x_2 + \\dots + x_i + \\dots + x_m \\right)\\\\\n",
    "        &= \\frac{1}{m} \\cdot \\left( 0 + 0 + \\dots + 1 + \\dots + 0 \\right)\\\\\n",
    "        &= \\frac{1}{m} \\cdot 1\\\\\n",
    "    \\frac{\\partial \\mu_B}{\\partial x_i} &= \\frac{1}{m}\n",
    "\\end{align*}\n",
    "$$\n",
    "\n",
    "Calculating $\\frac{\\partial \\sigma_B^2}{\\partial x_i}$:\n",
    "\n",
    "$$\n",
    "\\begin{align*}\n",
    "    \\frac{\\partial \\sigma_B^2}{\\partial x_i} &= \\frac{\\partial}{\\partial x_i} \\left( \\frac{1}{m-1} \\sum_{i=1}^m \\left( x_i - \\mu_B \\right)^2 \\right)\\\\\n",
    "        &= \\frac{1}{m-1} \\frac{\\partial}{\\partial x_i} \\left( \\sum_{i=1}^m \\left( x_i - \\mu_B \\right)^2 \\right)\\\\\n",
    "        &= \\frac{1}{m-1} \\frac{\\partial}{\\partial x_i} \\left( \\left( x_1 - \\mu_B \\right)^2 + \\left( x_2 - \\mu_B \\right)^2 + \\dots + \\left( x_i - \\mu_B \\right)^2 + \\dots + \\left( x_m - \\mu_B \\right)^2 \\right)\\\\\n",
    "        &= \\frac{1}{m-1} \\left( 0 + 0 + \\dots + \\frac{\\partial}{\\partial x_i} \\left( x_i - \\mu_B \\right)^2 + \\dots + 0 \\right)\\\\\n",
    "        &= \\frac{1}{m-1} \\left( \\frac{\\partial}{\\partial x_i} \\left( x_i - \\mu_B \\right)^2 \\right)\\\\\n",
    "        &= \\frac{1}{m-1} \\left( 2 \\left( x_i - \\mu_B \\right) \\right)\\\\\n",
    "    \\frac{\\partial \\sigma_B^2}{\\partial x_i} &= \\frac{2 \\left( x_i - \\mu_B \\right)}{m-1}\n",
    "\\end{align*}\n",
    "$$\n",
    "\n",
    "Therefore, $\\frac{\\partial \\mathscr{L}}{\\partial x_i}$ can be expressed as\n",
    "\n",
    "$$\n",
    "\\begin{align*}\n",
    "    \\frac{\\partial \\mathscr{L}}{\\partial x_i} &= \\frac{\\partial \\mathscr{L}}{\\partial \\hat{x}_i} \\frac{\\partial \\hat{x}_i}{\\partial x_i} + \\frac{\\partial \\mathscr{L}}{\\partial \\mu_B} \\frac{\\partial \\mu_B}{\\partial x_i} + \\frac{\\partial \\mathscr{L}}{\\partial \\sigma_B^2} \\frac{\\partial \\sigma_B^2}{\\partial x_i}\\\\\n",
    "        &= \\frac{\\partial \\mathscr{L}}{\\partial y_i} \\gamma \\frac{1}{\\sqrt{\\sigma_B^2 + \\epsilon}} + \\left( - \\gamma \\frac{1}{\\sqrt{\\sigma_B^2 + \\epsilon}} \\sum_{j=1}^m \\left( \\frac{\\partial \\mathscr{L}}{\\partial y_j} \\right) \\right) \\frac{1}{m} + \\left( -\\frac{1}{2} \\gamma \\sum_{j=1}^m \\left( \\frac{\\partial \\mathscr{L}}{\\partial y_j} \\frac{\\left( x_j - \\mu_B \\right)}{\\left( \\sigma_B^2 + \\epsilon \\right)^{\\frac{3}{2}}} \\right) \\right) \\frac{2 \\left( x_i - \\mu_B \\right)}{m-1}\\\\\n",
    "        &= \\frac{\\partial \\mathscr{L}}{\\partial y_i} \\gamma \\frac{1}{\\sqrt{\\sigma_B^2 + \\epsilon}} - \\gamma \\frac{1}{\\sqrt{\\sigma_B^2 + \\epsilon}} \\sum_{j=1}^m \\left( \\frac{\\partial \\mathscr{L}}{\\partial y_j} \\right) \\frac{1}{m} - \\frac{1}{2} \\gamma \\sum_{j=1}^m \\left( \\frac{\\partial \\mathscr{L}}{\\partial y_j} \\frac{\\left( x_j - \\mu_B \\right)}{\\left( \\sigma_B^2 + \\epsilon \\right)^{\\frac{3}{2}}} \\right) \\frac{2 \\left( x_i - \\mu_B \\right)}{m-1}\\\\\n",
    "        &= \\gamma \\frac{1}{\\sqrt{\\sigma_B^2 + \\epsilon}} \\left( \\frac{\\partial \\mathscr{L}}{\\partial y_i} - \\sum_{j=1}^m \\left( \\frac{\\partial \\mathscr{L}}{\\partial y_j} \\right) \\frac{1}{m} - \\frac{1}{2} \\sum_{j=1}^m \\left( \\frac{\\partial \\mathscr{L}}{\\partial y_j} \\frac{\\left( x_j - \\mu_B \\right)}{\\sigma_B^2 + \\epsilon} \\right) \\frac{2 \\left( x_i - \\mu_B \\right)}{m-1} \\right)\\\\\n",
    "        &= \\gamma \\frac{1}{\\sqrt{\\sigma_B^2 + \\epsilon}} \\left( \\frac{\\partial \\mathscr{L}}{\\partial y_i} - \\sum_{j=1}^m \\left( \\frac{\\partial \\mathscr{L}}{\\partial y_j} \\right) \\frac{1}{m} - \\sum_{j=1}^m \\left( \\frac{\\partial \\mathscr{L}}{\\partial y_j} \\frac{\\left( x_j - \\mu_B \\right)}{\\sigma_B^2 + \\epsilon} \\right) \\frac{\\left( x_i - \\mu_B \\right)}{m-1} \\right)\\\\\n",
    "        &= \\gamma \\frac{1}{\\sqrt{\\sigma_B^2 + \\epsilon}} \\left( \\frac{\\partial \\mathscr{L}}{\\partial y_i} - \\sum_{j=1}^m \\left( \\frac{\\partial \\mathscr{L}}{\\partial y_j} \\right) \\frac{1}{m} - \\sum_{j=1}^m \\left( \\frac{\\partial \\mathscr{L}}{\\partial y_j} \\frac{\\left( x_j - \\mu_B \\right)}{\\sqrt{\\sigma_B^2 + \\epsilon}\\sqrt{\\sigma_B^2 + \\epsilon}} \\right) \\frac{\\left( x_i - \\mu_B \\right)}{m-1} \\right)\\\\\n",
    "        &= \\gamma \\frac{1}{\\sqrt{\\sigma_B^2 + \\epsilon}} \\left( \\frac{\\partial \\mathscr{L}}{\\partial y_i} - \\sum_{j=1}^m \\left( \\frac{\\partial \\mathscr{L}}{\\partial y_j} \\right) \\frac{1}{m} - \\sum_{j=1}^m \\left( \\frac{\\partial \\mathscr{L}}{\\partial y_j} \\frac{\\left( x_j - \\mu_B \\right)}{\\sqrt{\\sigma_B^2 + \\epsilon}} \\right) \\frac{\\left( x_i - \\mu_B \\right)}{(m-1)\\sqrt{\\sigma_B^2 + \\epsilon}} \\right)\\\\\n",
    "    \\frac{\\partial \\mathscr{L}}{\\partial x_i} &= \\gamma \\frac{1}{\\sqrt{\\sigma_B^2 + \\epsilon}} \\left( \\frac{\\partial \\mathscr{L}}{\\partial y_i} - \\frac{1}{m} \\sum_{j=1}^m \\left( \\frac{\\partial \\mathscr{L}}{\\partial y_j} \\right) - \\frac{1}{m-1} \\sum_{j=1}^m \\left( \\frac{\\partial \\mathscr{L}}{\\partial y_j} \\frac{\\left( x_j - \\mu_B \\right)}{\\sqrt{\\sigma_B^2 + \\epsilon}} \\right) \\frac{\\left( x_i - \\mu_B \\right)}{\\sqrt{\\sigma_B^2 + \\epsilon}} \\right)\n",
    "\\end{align*}\n",
    "$$\n",
    "\n",
    "Since $\\hat{x}_i = \\frac{x_i - \\mu_B}{\\sqrt{\\sigma_B^2 + \\epsilon}}$, we have\n",
    "\n",
    "$$\n",
    "\\begin{align*}\n",
    "    \\frac{\\partial \\mathscr{L}}{\\partial x_i} &= \\gamma \\frac{1}{\\sqrt{\\sigma_B^2 + \\epsilon}} \\left( \\frac{\\partial \\mathscr{L}}{\\partial y_i} - \\frac{1}{m} \\sum_{j=1}^m \\left( \\frac{\\partial \\mathscr{L}}{\\partial y_j} \\right) - \\frac{1}{m-1} \\sum_{j=1}^m \\left( \\frac{\\partial \\mathscr{L}}{\\partial y_j} \\hat{x_j} \\right) \\hat{x_i} \\right)\\\\\n",
    "        &= \\gamma \\frac{1}{\\sqrt{\\sigma_B^2 + \\epsilon}} \\left( \\frac{\\partial \\mathscr{L}}{\\partial y_i} - \\frac{1}{m} \\sum_{j=1}^m \\left( \\frac{\\partial \\mathscr{L}}{\\partial y_j} \\right) - \\frac{m}{(m-1)m} \\sum_{j=1}^m \\left( \\frac{\\partial \\mathscr{L}}{\\partial y_j} \\hat{x_j} \\right) \\hat{x_i} \\right)\\\\\n",
    "    \\frac{\\partial \\mathscr{L}}{\\partial x_i} &= \\gamma \\frac{1}{m \\sqrt{\\sigma_B^2 + \\epsilon}} \\left( m \\frac{\\partial \\mathscr{L}}{\\partial y_i} - \\sum_{j=1}^m \\left( \\frac{\\partial \\mathscr{L}}{\\partial y_j} \\right) - \\frac{m}{m-1} \\sum_{j=1}^m \\left( \\frac{\\partial \\mathscr{L}}{\\partial y_j} \\hat{x_j} \\right) \\hat{x_i} \\right)\n",
    "\\end{align*}\n",
    "$$"
   ]
  },
  {
   "cell_type": "code",
   "execution_count": 53,
   "id": "8171e9be",
   "metadata": {},
   "outputs": [
    {
     "name": "stdout",
     "output_type": "stream",
     "text": [
      "dhprebn         | exact: False | approximate: True  | maxdiff: 1.3969838619232178e-09\n"
     ]
    }
   ],
   "source": [
    "dhprebn = bngain * (1.0 / batch_size) * bnvar_inv * ( batch_size * dhpreact - dhpreact.sum(0) - (batch_size / (batch_size - 1)) * (dhpreact * bnraw).sum(0) * bnraw )\n",
    "cmp('dhprebn', dhprebn, hprebn)"
   ]
  },
  {
   "cell_type": "markdown",
   "id": "060c9d15",
   "metadata": {},
   "source": [
    "Note that we can also reduce the batch normalization code down to one line."
   ]
  },
  {
   "cell_type": "code",
   "execution_count": 54,
   "id": "0fbd08ff",
   "metadata": {},
   "outputs": [
    {
     "name": "stdout",
     "output_type": "stream",
     "text": [
      "Maximum difference between hpreact and hpreact_fast: 4.76837158203125e-07\n"
     ]
    }
   ],
   "source": [
    "hpreact_fast = bngain * (hprebn - hprebn.mean(0, keepdim=True)) / torch.sqrt(hprebn.var(0, keepdim=True, unbiased=True) + 1e-5) + bnbias\n",
    "print(f'Maximum difference between hpreact and hpreact_fast: {(hpreact - hpreact_fast).abs().max().item()}')"
   ]
  },
  {
   "cell_type": "markdown",
   "id": "f316f2e2",
   "metadata": {},
   "source": [
    "## Exercise 4 - Training the Neural Network with Manual Back-Propagation"
   ]
  },
  {
   "cell_type": "code",
   "execution_count": 55,
   "id": "bee3a793",
   "metadata": {},
   "outputs": [
    {
     "name": "stdout",
     "output_type": "stream",
     "text": [
      "Number of parameters: 4137\n"
     ]
    }
   ],
   "source": [
    "n_embd = 10\n",
    "n_hidden = 64\n",
    "\n",
    "C = torch.randn((vocab_size, n_embd),             generator=g, device=device)\n",
    "W1 = torch.randn((n_embd * block_size, n_hidden), generator=g, device=device) * (5.0/3.0) / (math.sqrt(n_embd * block_size))\n",
    "b1 = torch.randn(n_hidden,                        generator=g, device=device) * 0.1\n",
    "W2 = torch.randn((n_hidden, vocab_size),          generator=g, device=device) * 0.1\n",
    "b2 = torch.randn(vocab_size,                      generator=g, device=device) * 0.1\n",
    "\n",
    "bngain = torch.randn((1, n_hidden), device=device) * 0.1 + 1.0\n",
    "bnbias = torch.randn((1, n_hidden), device=device) * 0.1\n",
    "\n",
    "parameters = [C, W1, b1, W2, b2, bngain, bnbias]\n",
    "for p in parameters:\n",
    "    p.requires_grad = True\n",
    "\n",
    "print(f'Number of parameters: {sum(p.nelement() for p in parameters)}')"
   ]
  },
  {
   "cell_type": "code",
   "execution_count": 56,
   "id": "082ea128",
   "metadata": {},
   "outputs": [
    {
     "name": "stdout",
     "output_type": "stream",
     "text": [
      "Iteration 0/200000, loss: 3.2880027294158936\n",
      "Iteration 8000/200000, loss: 2.5092251300811768\n",
      "Iteration 16000/200000, loss: 2.515756130218506\n",
      "Iteration 24000/200000, loss: 2.2205543518066406\n",
      "Iteration 32000/200000, loss: 1.9139076471328735\n",
      "Iteration 40000/200000, loss: 2.3487486839294434\n",
      "Iteration 48000/200000, loss: 2.431751012802124\n",
      "Iteration 56000/200000, loss: 2.493825674057007\n",
      "Iteration 64000/200000, loss: 2.1253273487091064\n",
      "Iteration 72000/200000, loss: 2.160828113555908\n",
      "Iteration 80000/200000, loss: 2.0222008228302\n",
      "Iteration 88000/200000, loss: 2.1858842372894287\n",
      "Iteration 96000/200000, loss: 2.4489762783050537\n",
      "Iteration 104000/200000, loss: 2.434293746948242\n",
      "Iteration 112000/200000, loss: 2.080416679382324\n",
      "Iteration 120000/200000, loss: 1.9263767004013062\n",
      "Iteration 128000/200000, loss: 1.8950459957122803\n",
      "Iteration 136000/200000, loss: 2.336491823196411\n",
      "Iteration 144000/200000, loss: 2.154329538345337\n",
      "Iteration 152000/200000, loss: 2.1447949409484863\n",
      "Iteration 160000/200000, loss: 2.4997127056121826\n",
      "Iteration 168000/200000, loss: 2.1168100833892822\n",
      "Iteration 176000/200000, loss: 1.8595435619354248\n",
      "Iteration 184000/200000, loss: 1.9521340131759644\n",
      "Iteration 192000/200000, loss: 1.9190980195999146\n"
     ]
    }
   ],
   "source": [
    "batch_size = 32\n",
    "max_steps = 200_000\n",
    "lossi = []\n",
    "\n",
    "# No need to have PyTorch keep track of gradients since we will do so manually\n",
    "with torch.no_grad():\n",
    "    for i in range(max_steps):\n",
    "\n",
    "        # --- Batch ---\n",
    "        ix = torch.randint(0, X_tr.shape[0], (batch_size,), generator=g, device=device)\n",
    "        Xb, Yb = X_tr[ix], Y_tr[ix]\n",
    "\n",
    "        # --- Forward pass ---\n",
    "        # Embedding vector from lookup table C\n",
    "        emb = C[Xb]\n",
    "        embcat = emb.view(emb.shape[0], -1)\n",
    "        # First layer\n",
    "        hprebn = embcat @ W1 + b1\n",
    "        # Batch normalization\n",
    "        bnmeani = 1.0 / batch_size * hprebn.sum(0, keepdim=True)\n",
    "        bndiff = hprebn - bnmeani\n",
    "        bndiff2 = bndiff**2\n",
    "        bnvar = 1 / (batch_size-1) * bndiff2.sum(0, keepdim=True)\n",
    "        bnvar_inv = (bnvar + 1e-5)**-0.5\n",
    "        bnraw = bndiff * bnvar_inv\n",
    "        hpreact = bngain * bnraw + bnbias\n",
    "        # Non-linearity\n",
    "        h = torch.tanh(hpreact)\n",
    "        # Second layer\n",
    "        logits = h @ W2 + b2\n",
    "        # Loss calculation\n",
    "        loss = F.cross_entropy(logits, Yb)\n",
    "\n",
    "        # --- Backward pass ---\n",
    "        # Initialize zero gradients\n",
    "        for p in parameters:\n",
    "            p.grad = None\n",
    "        # Softmax layer back-propagation\n",
    "        dlogits = F.softmax(logits, 1)\n",
    "        dlogits[range(batch_size), Yb] -= 1\n",
    "        dlogits /= batch_size\n",
    "        # Second layer back-propagation\n",
    "        dh = dlogits @ W2.T\n",
    "        dW2 = h.T @ dlogits\n",
    "        db2 = dlogits.sum(0)\n",
    "        # Non-linearity back-propagation\n",
    "        dhpreact = dh * (1.0 - h.pow(2))\n",
    "        # Batch normalization back-propagation\n",
    "        dbngain = (dhpreact * bnraw).sum(0, keepdim=True)\n",
    "        dbnbias = dhpreact.sum(0, keepdim=True)\n",
    "        dhprebn = bngain * (1.0 / batch_size) * bnvar_inv * ( batch_size * dhpreact - dhpreact.sum(0) - (batch_size / (batch_size - 1)) * (dhpreact * bnraw).sum(0) * bnraw )\n",
    "        # First layer back-propagation\n",
    "        dembcat = dhprebn @ W1.T\n",
    "        dW1 = embcat.T @ dhprebn\n",
    "        db1 = dhprebn.sum(0)\n",
    "        # Embedding layer back-propagation\n",
    "        demb = dembcat.view(emb.shape)\n",
    "        dC = torch.zeros_like(C)\n",
    "        for k in range(Xb.shape[0]):\n",
    "            for j in range(Xb.shape[1]):\n",
    "                ix = Xb[k, j]\n",
    "                dC[ix] += demb[k, j]\n",
    "\n",
    "        # --- Parameter updates ---\n",
    "        gradients: List[Tensor] = [dC, dW1, db1, dW2, db2, dbngain, dbnbias]\n",
    "\n",
    "        lr = 0.1 if i < max_steps / 2 else 0.01\n",
    "        for p, grad in zip(parameters, gradients):\n",
    "            p.data += -lr * grad\n",
    "\n",
    "        if max_steps < 25 or (i % (max_steps // 25)) == 0:\n",
    "            print(f'Iteration {i}/{max_steps}, loss: {loss.item()}')\n",
    "        lossi.append(loss)"
   ]
  },
  {
   "cell_type": "code",
   "execution_count": 57,
   "id": "1893cf9c",
   "metadata": {},
   "outputs": [],
   "source": [
    "# Calibrate batch normalization parameters (bnmean and bnvar) after training\n",
    "with torch.no_grad():\n",
    "    emb = C[X_tr]\n",
    "    embcat = emb.view(emb.shape[0], -1)\n",
    "    hpreact = embcat @ W1 + b1\n",
    "    bnmean = hpreact.mean(0, keepdim=True)\n",
    "    bnvar = hpreact.var(0, keepdim=True, unbiased=True)"
   ]
  },
  {
   "cell_type": "code",
   "execution_count": 58,
   "id": "f15fae14",
   "metadata": {},
   "outputs": [],
   "source": [
    "@torch.no_grad()\n",
    "def loss_of_split(split: Literal['train'] | Literal['test'] | Literal['val']):\n",
    "    x, y = {\n",
    "        'train': (X_tr, Y_tr),\n",
    "        'val': (X_dev, Y_dev),\n",
    "        'test': (X_te, Y_te)\n",
    "    }[split]\n",
    "\n",
    "    emb = C[x]\n",
    "    embcat = emb.view(emb.shape[0], -1)\n",
    "    h_pre_act = embcat @ W1 + b1\n",
    "    h_pre_act = bngain * (h_pre_act - bnmean) / (bnvar + 1e-5)**-0.5 + bnbias\n",
    "    h = torch.tanh(h_pre_act)\n",
    "    logits = h @ W2 + b2\n",
    "    loss = F.cross_entropy(logits, y)\n",
    "\n",
    "    print(f'Loss of \\'{split}\\' split: {loss.item():.4f}')"
   ]
  },
  {
   "cell_type": "code",
   "execution_count": 59,
   "id": "71700c7a",
   "metadata": {},
   "outputs": [
    {
     "name": "stdout",
     "output_type": "stream",
     "text": [
      "Loss of 'train' split: 2.4527\n",
      "Loss of 'val' split: 2.4797\n"
     ]
    }
   ],
   "source": [
    "loss_of_split('train')\n",
    "loss_of_split('val')"
   ]
  },
  {
   "cell_type": "code",
   "execution_count": 60,
   "id": "1ae5fff2",
   "metadata": {},
   "outputs": [
    {
     "name": "stdout",
     "output_type": "stream",
     "text": [
      "kan.\n",
      "minor.\n",
      "slea.\n",
      "emmena.\n",
      "ridgianaleighani.\n",
      "liana.\n",
      "kenslam.\n",
      "jara.\n",
      "caylonna.\n",
      "karyan.\n",
      "ediet.\n",
      "juu.\n",
      "elouelahiyah.\n",
      "kalynn.\n",
      "torevonjonis.\n",
      "ismeya.\n",
      "juon.\n",
      "issietteric.\n",
      "dylintzion.\n",
      "rura.\n"
     ]
    }
   ],
   "source": [
    "g = torch.Generator(device=device).manual_seed(TORCH_GENERATOR_SEED + 1)\n",
    "\n",
    "for _ in range(20):\n",
    "    out = []\n",
    "    context = [0] * block_size\n",
    "    while True:\n",
    "        emb = C[torch.tensor([context], device=device)]\n",
    "        embcat = emb.view(emb.shape[0], -1)\n",
    "        hpreact = embcat @ W1 + b1\n",
    "        hpreact = bngain * (hpreact - bnmean) * (bnvar + 1e-5)**-0.5 + bnbias\n",
    "        h = torch.tanh(hpreact)\n",
    "        logits = h @ W2 + b2\n",
    "        probs = F.softmax(logits, dim=1)\n",
    "        ix = torch.multinomial(probs, num_samples=1, generator=g).item()\n",
    "        context = context[1:] + [ix]\n",
    "        out.append(ix)\n",
    "        if ix == 0:\n",
    "            break\n",
    "    print(str().join(itos[i] for i in out))"
   ]
  }
 ],
 "metadata": {
  "kernelspec": {
   "display_name": "ml-env",
   "language": "python",
   "name": "python3"
  },
  "language_info": {
   "codemirror_mode": {
    "name": "ipython",
    "version": 3
   },
   "file_extension": ".py",
   "mimetype": "text/x-python",
   "name": "python",
   "nbconvert_exporter": "python",
   "pygments_lexer": "ipython3",
   "version": "3.13.1"
  }
 },
 "nbformat": 4,
 "nbformat_minor": 5
}
